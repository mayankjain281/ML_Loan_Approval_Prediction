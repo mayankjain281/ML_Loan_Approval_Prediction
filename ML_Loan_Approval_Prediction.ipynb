{
  "cells": [
    {
      "cell_type": "markdown",
      "metadata": {
        "id": "view-in-github",
        "colab_type": "text"
      },
      "source": [
        "<a href=\"https://colab.research.google.com/github/mayankjain281/ML_Loan_Approval_Prediction/blob/main/ML_Loan_Approval_Prediction.ipynb\" target=\"_parent\"><img src=\"https://colab.research.google.com/assets/colab-badge.svg\" alt=\"Open In Colab\"/></a>"
      ]
    },
    {
      "cell_type": "markdown",
      "metadata": {
        "id": "9CgSn94qzu2I"
      },
      "source": [
        "## Understanding the problem statement\n",
        "\n",
        " - Dream Housing Finance company deals in all kinds of home loans. They have a presence across all urban, semi-urban and rural areas. The customer first applies for a home loan and after that, the company validates the customer eligibility for the loan.\n",
        "\n",
        "- The company wants to automate the loan eligibility process (real-time) based on customer detail provided while filling out online application forms. These details are Gender, Marital Status, Education, number of Dependents, Income, Loan Amount, Credit History, and others.\n",
        "\n",
        "- To automate this process, they have provided a dataset to identify the customer segments that are eligible for loan amounts so that they can specifically target these customers.\n",
        "\n",
        "## Data\n",
        "\n",
        "- Variable Descriptions:\n",
        "\n",
        "\n",
        "| Variable          \t| Description                                    \t|\n",
        "|-------------------\t|------------------------------------------------\t|\n",
        "| Loan_ID           \t| Unique Loan ID                                 \t|\n",
        "| Gender            \t| Male/ Female                                   \t|\n",
        "| Married           \t| Applicant married (Y/N)                        \t|\n",
        "| Dependents        \t| Number of dependents                           \t|\n",
        "| Education         \t| Applicant Education (Graduate/ Under Graduate) \t|\n",
        "| Self_Employed     \t| Self employed (Y/N)                            \t|\n",
        "| ApplicantIncome   \t| Applicant income                               \t|\n",
        "| CoapplicantIncome \t| Coapplicant income                             \t|\n",
        "| LoanAmount        \t| Loan amount in thousands                       \t|\n",
        "| Loan_Amount_Term  \t| Term of loan in months                         \t|\n",
        "| Credit_History    \t| credit history meets guidelines                \t|\n",
        "| Property_Area     \t| Urban/ Semi Urban/ Rural                       \t|\n",
        "| Loan_Status       \t| Loan approved (Y/N)                            \t|\n"
      ]
    },
    {
      "cell_type": "markdown",
      "source": [
        "- This is a classification problem in which we need to classify whether the loan will be approved or not. classification refers to a predictive modeling problem where a class label is predicted for a given example of input data. A few examples of classification problems are Spam Email detection, Cancer detection, Sentiment Analysis, etc."
      ],
      "metadata": {
        "id": "wQrkKiE9m-Q4"
      }
    },
    {
      "cell_type": "code",
      "execution_count": null,
      "metadata": {
        "id": "4fkaK43azu2O"
      },
      "outputs": [],
      "source": [
        "# Importing Library\n",
        "import pandas as pd\n",
        "import numpy as np\n",
        "from sklearn import preprocessing\n",
        "from sklearn.preprocessing import LabelEncoder\n",
        "\n",
        "# Reading the training dataset in a dataframe using Pandas\n",
        "data = pd.read_csv(\"train.csv\")\n",
        "\n",
        "# Reading the test dataset in a dataframe using Pandas\n",
        "test = pd.read_csv(\"test.csv\")\n"
      ]
    },
    {
      "cell_type": "code",
      "source": [
        "#Basic and most important libraries\n",
        "import pandas as pd , numpy as np\n",
        "from sklearn.utils import resample\n",
        "from sklearn.preprocessing import StandardScaler , MinMaxScaler\n",
        "from collections import Counter\n",
        "from scipy import stats\n",
        "import matplotlib.pyplot as plt\n",
        "import seaborn as sns\n",
        "import plotly.express as px\n",
        "import plotly.figure_factory as ff\n",
        "import plotly\n",
        "\n",
        "#Classifiers\n",
        "from sklearn.ensemble import AdaBoostClassifier , GradientBoostingClassifier , VotingClassifier , RandomForestClassifier\n",
        "from sklearn.linear_model import LogisticRegression , RidgeClassifier\n",
        "from sklearn.discriminant_analysis import LinearDiscriminantAnalysis\n",
        "from sklearn.model_selection import RepeatedStratifiedKFold\n",
        "from sklearn.neighbors import KNeighborsClassifier\n",
        "from sklearn.model_selection import GridSearchCV\n",
        "from sklearn.tree import DecisionTreeClassifier \n",
        "from sklearn.naive_bayes import GaussianNB\n",
        "from xgboost import plot_importance\n",
        "from xgboost import XGBClassifier\n",
        "from sklearn.svm import SVC\n",
        "\n",
        "#Model evaluation tools\n",
        "from sklearn.metrics import classification_report , accuracy_score , confusion_matrix\n",
        "from sklearn.metrics import accuracy_score,f1_score\n",
        "from sklearn.model_selection import cross_val_score\n",
        "\n",
        "#Data processing functions\n",
        "from sklearn.preprocessing import StandardScaler\n",
        "from sklearn.model_selection import train_test_split\n",
        "from sklearn import model_selection\n",
        "from sklearn.preprocessing import LabelEncoder\n",
        "le = LabelEncoder()\n",
        "\n",
        "import warnings\n",
        "warnings.filterwarnings(\"ignore\")"
      ],
      "metadata": {
        "id": "130lxX8v0_9z"
      },
      "execution_count": null,
      "outputs": []
    },
    {
      "cell_type": "code",
      "execution_count": null,
      "metadata": {
        "colab": {
          "base_uri": "https://localhost:8080/",
          "height": 461
        },
        "id": "RVPiLLuZzu2S",
        "outputId": "a114c69b-cb18-498a-bc61-fd4eebf7b3c5"
      },
      "outputs": [
        {
          "output_type": "execute_result",
          "data": {
            "text/plain": [
              "      Loan_ID  Gender Married Dependents     Education Self_Employed  \\\n",
              "75   LP001255    Male      No          0      Graduate            No   \n",
              "577  LP002874    Male      No          0      Graduate            No   \n",
              "557  LP002795    Male     Yes         3+      Graduate           Yes   \n",
              "589  LP002926    Male     Yes          2      Graduate           Yes   \n",
              "21   LP001046    Male     Yes          1      Graduate            No   \n",
              "92   LP001319    Male     Yes          2  Not Graduate            No   \n",
              "166  LP001577  Female     Yes          0      Graduate            No   \n",
              "329  LP002087  Female      No          0      Graduate            No   \n",
              "340  LP002115    Male     Yes         3+  Not Graduate            No   \n",
              "129  LP001465    Male     Yes          0      Graduate            No   \n",
              "\n",
              "     ApplicantIncome  CoapplicantIncome  LoanAmount  Loan_Amount_Term  \\\n",
              "75              3750                0.0       113.0             480.0   \n",
              "577             3229             2739.0       110.0             360.0   \n",
              "557            10139                0.0       260.0             360.0   \n",
              "589             2726                0.0       106.0             360.0   \n",
              "21              5955             5625.0       315.0             360.0   \n",
              "92              3273             1820.0        81.0             360.0   \n",
              "166             4583                0.0       112.0             360.0   \n",
              "329             2500                0.0        67.0             360.0   \n",
              "340             2647             1587.0       173.0             360.0   \n",
              "129             6080             2569.0       182.0             360.0   \n",
              "\n",
              "     Credit_History Property_Area Loan_Status  \n",
              "75              1.0         Urban           N  \n",
              "577             1.0         Urban           Y  \n",
              "557             1.0     Semiurban           Y  \n",
              "589             0.0     Semiurban           N  \n",
              "21              1.0         Urban           Y  \n",
              "92              1.0         Urban           Y  \n",
              "166             1.0         Rural           N  \n",
              "329             1.0         Urban           Y  \n",
              "340             1.0         Rural           N  \n",
              "129             NaN         Rural           N  "
            ],
            "text/html": [
              "\n",
              "  <div id=\"df-5c835cb6-ef95-4312-b66e-7d5b93df27db\">\n",
              "    <div class=\"colab-df-container\">\n",
              "      <div>\n",
              "<style scoped>\n",
              "    .dataframe tbody tr th:only-of-type {\n",
              "        vertical-align: middle;\n",
              "    }\n",
              "\n",
              "    .dataframe tbody tr th {\n",
              "        vertical-align: top;\n",
              "    }\n",
              "\n",
              "    .dataframe thead th {\n",
              "        text-align: right;\n",
              "    }\n",
              "</style>\n",
              "<table border=\"1\" class=\"dataframe\">\n",
              "  <thead>\n",
              "    <tr style=\"text-align: right;\">\n",
              "      <th></th>\n",
              "      <th>Loan_ID</th>\n",
              "      <th>Gender</th>\n",
              "      <th>Married</th>\n",
              "      <th>Dependents</th>\n",
              "      <th>Education</th>\n",
              "      <th>Self_Employed</th>\n",
              "      <th>ApplicantIncome</th>\n",
              "      <th>CoapplicantIncome</th>\n",
              "      <th>LoanAmount</th>\n",
              "      <th>Loan_Amount_Term</th>\n",
              "      <th>Credit_History</th>\n",
              "      <th>Property_Area</th>\n",
              "      <th>Loan_Status</th>\n",
              "    </tr>\n",
              "  </thead>\n",
              "  <tbody>\n",
              "    <tr>\n",
              "      <th>75</th>\n",
              "      <td>LP001255</td>\n",
              "      <td>Male</td>\n",
              "      <td>No</td>\n",
              "      <td>0</td>\n",
              "      <td>Graduate</td>\n",
              "      <td>No</td>\n",
              "      <td>3750</td>\n",
              "      <td>0.0</td>\n",
              "      <td>113.0</td>\n",
              "      <td>480.0</td>\n",
              "      <td>1.0</td>\n",
              "      <td>Urban</td>\n",
              "      <td>N</td>\n",
              "    </tr>\n",
              "    <tr>\n",
              "      <th>577</th>\n",
              "      <td>LP002874</td>\n",
              "      <td>Male</td>\n",
              "      <td>No</td>\n",
              "      <td>0</td>\n",
              "      <td>Graduate</td>\n",
              "      <td>No</td>\n",
              "      <td>3229</td>\n",
              "      <td>2739.0</td>\n",
              "      <td>110.0</td>\n",
              "      <td>360.0</td>\n",
              "      <td>1.0</td>\n",
              "      <td>Urban</td>\n",
              "      <td>Y</td>\n",
              "    </tr>\n",
              "    <tr>\n",
              "      <th>557</th>\n",
              "      <td>LP002795</td>\n",
              "      <td>Male</td>\n",
              "      <td>Yes</td>\n",
              "      <td>3+</td>\n",
              "      <td>Graduate</td>\n",
              "      <td>Yes</td>\n",
              "      <td>10139</td>\n",
              "      <td>0.0</td>\n",
              "      <td>260.0</td>\n",
              "      <td>360.0</td>\n",
              "      <td>1.0</td>\n",
              "      <td>Semiurban</td>\n",
              "      <td>Y</td>\n",
              "    </tr>\n",
              "    <tr>\n",
              "      <th>589</th>\n",
              "      <td>LP002926</td>\n",
              "      <td>Male</td>\n",
              "      <td>Yes</td>\n",
              "      <td>2</td>\n",
              "      <td>Graduate</td>\n",
              "      <td>Yes</td>\n",
              "      <td>2726</td>\n",
              "      <td>0.0</td>\n",
              "      <td>106.0</td>\n",
              "      <td>360.0</td>\n",
              "      <td>0.0</td>\n",
              "      <td>Semiurban</td>\n",
              "      <td>N</td>\n",
              "    </tr>\n",
              "    <tr>\n",
              "      <th>21</th>\n",
              "      <td>LP001046</td>\n",
              "      <td>Male</td>\n",
              "      <td>Yes</td>\n",
              "      <td>1</td>\n",
              "      <td>Graduate</td>\n",
              "      <td>No</td>\n",
              "      <td>5955</td>\n",
              "      <td>5625.0</td>\n",
              "      <td>315.0</td>\n",
              "      <td>360.0</td>\n",
              "      <td>1.0</td>\n",
              "      <td>Urban</td>\n",
              "      <td>Y</td>\n",
              "    </tr>\n",
              "    <tr>\n",
              "      <th>92</th>\n",
              "      <td>LP001319</td>\n",
              "      <td>Male</td>\n",
              "      <td>Yes</td>\n",
              "      <td>2</td>\n",
              "      <td>Not Graduate</td>\n",
              "      <td>No</td>\n",
              "      <td>3273</td>\n",
              "      <td>1820.0</td>\n",
              "      <td>81.0</td>\n",
              "      <td>360.0</td>\n",
              "      <td>1.0</td>\n",
              "      <td>Urban</td>\n",
              "      <td>Y</td>\n",
              "    </tr>\n",
              "    <tr>\n",
              "      <th>166</th>\n",
              "      <td>LP001577</td>\n",
              "      <td>Female</td>\n",
              "      <td>Yes</td>\n",
              "      <td>0</td>\n",
              "      <td>Graduate</td>\n",
              "      <td>No</td>\n",
              "      <td>4583</td>\n",
              "      <td>0.0</td>\n",
              "      <td>112.0</td>\n",
              "      <td>360.0</td>\n",
              "      <td>1.0</td>\n",
              "      <td>Rural</td>\n",
              "      <td>N</td>\n",
              "    </tr>\n",
              "    <tr>\n",
              "      <th>329</th>\n",
              "      <td>LP002087</td>\n",
              "      <td>Female</td>\n",
              "      <td>No</td>\n",
              "      <td>0</td>\n",
              "      <td>Graduate</td>\n",
              "      <td>No</td>\n",
              "      <td>2500</td>\n",
              "      <td>0.0</td>\n",
              "      <td>67.0</td>\n",
              "      <td>360.0</td>\n",
              "      <td>1.0</td>\n",
              "      <td>Urban</td>\n",
              "      <td>Y</td>\n",
              "    </tr>\n",
              "    <tr>\n",
              "      <th>340</th>\n",
              "      <td>LP002115</td>\n",
              "      <td>Male</td>\n",
              "      <td>Yes</td>\n",
              "      <td>3+</td>\n",
              "      <td>Not Graduate</td>\n",
              "      <td>No</td>\n",
              "      <td>2647</td>\n",
              "      <td>1587.0</td>\n",
              "      <td>173.0</td>\n",
              "      <td>360.0</td>\n",
              "      <td>1.0</td>\n",
              "      <td>Rural</td>\n",
              "      <td>N</td>\n",
              "    </tr>\n",
              "    <tr>\n",
              "      <th>129</th>\n",
              "      <td>LP001465</td>\n",
              "      <td>Male</td>\n",
              "      <td>Yes</td>\n",
              "      <td>0</td>\n",
              "      <td>Graduate</td>\n",
              "      <td>No</td>\n",
              "      <td>6080</td>\n",
              "      <td>2569.0</td>\n",
              "      <td>182.0</td>\n",
              "      <td>360.0</td>\n",
              "      <td>NaN</td>\n",
              "      <td>Rural</td>\n",
              "      <td>N</td>\n",
              "    </tr>\n",
              "  </tbody>\n",
              "</table>\n",
              "</div>\n",
              "      <button class=\"colab-df-convert\" onclick=\"convertToInteractive('df-5c835cb6-ef95-4312-b66e-7d5b93df27db')\"\n",
              "              title=\"Convert this dataframe to an interactive table.\"\n",
              "              style=\"display:none;\">\n",
              "        \n",
              "  <svg xmlns=\"http://www.w3.org/2000/svg\" height=\"24px\"viewBox=\"0 0 24 24\"\n",
              "       width=\"24px\">\n",
              "    <path d=\"M0 0h24v24H0V0z\" fill=\"none\"/>\n",
              "    <path d=\"M18.56 5.44l.94 2.06.94-2.06 2.06-.94-2.06-.94-.94-2.06-.94 2.06-2.06.94zm-11 1L8.5 8.5l.94-2.06 2.06-.94-2.06-.94L8.5 2.5l-.94 2.06-2.06.94zm10 10l.94 2.06.94-2.06 2.06-.94-2.06-.94-.94-2.06-.94 2.06-2.06.94z\"/><path d=\"M17.41 7.96l-1.37-1.37c-.4-.4-.92-.59-1.43-.59-.52 0-1.04.2-1.43.59L10.3 9.45l-7.72 7.72c-.78.78-.78 2.05 0 2.83L4 21.41c.39.39.9.59 1.41.59.51 0 1.02-.2 1.41-.59l7.78-7.78 2.81-2.81c.8-.78.8-2.07 0-2.86zM5.41 20L4 18.59l7.72-7.72 1.47 1.35L5.41 20z\"/>\n",
              "  </svg>\n",
              "      </button>\n",
              "      \n",
              "  <style>\n",
              "    .colab-df-container {\n",
              "      display:flex;\n",
              "      flex-wrap:wrap;\n",
              "      gap: 12px;\n",
              "    }\n",
              "\n",
              "    .colab-df-convert {\n",
              "      background-color: #E8F0FE;\n",
              "      border: none;\n",
              "      border-radius: 50%;\n",
              "      cursor: pointer;\n",
              "      display: none;\n",
              "      fill: #1967D2;\n",
              "      height: 32px;\n",
              "      padding: 0 0 0 0;\n",
              "      width: 32px;\n",
              "    }\n",
              "\n",
              "    .colab-df-convert:hover {\n",
              "      background-color: #E2EBFA;\n",
              "      box-shadow: 0px 1px 2px rgba(60, 64, 67, 0.3), 0px 1px 3px 1px rgba(60, 64, 67, 0.15);\n",
              "      fill: #174EA6;\n",
              "    }\n",
              "\n",
              "    [theme=dark] .colab-df-convert {\n",
              "      background-color: #3B4455;\n",
              "      fill: #D2E3FC;\n",
              "    }\n",
              "\n",
              "    [theme=dark] .colab-df-convert:hover {\n",
              "      background-color: #434B5C;\n",
              "      box-shadow: 0px 1px 3px 1px rgba(0, 0, 0, 0.15);\n",
              "      filter: drop-shadow(0px 1px 2px rgba(0, 0, 0, 0.3));\n",
              "      fill: #FFFFFF;\n",
              "    }\n",
              "  </style>\n",
              "\n",
              "      <script>\n",
              "        const buttonEl =\n",
              "          document.querySelector('#df-5c835cb6-ef95-4312-b66e-7d5b93df27db button.colab-df-convert');\n",
              "        buttonEl.style.display =\n",
              "          google.colab.kernel.accessAllowed ? 'block' : 'none';\n",
              "\n",
              "        async function convertToInteractive(key) {\n",
              "          const element = document.querySelector('#df-5c835cb6-ef95-4312-b66e-7d5b93df27db');\n",
              "          const dataTable =\n",
              "            await google.colab.kernel.invokeFunction('convertToInteractive',\n",
              "                                                     [key], {});\n",
              "          if (!dataTable) return;\n",
              "\n",
              "          const docLinkHtml = 'Like what you see? Visit the ' +\n",
              "            '<a target=\"_blank\" href=https://colab.research.google.com/notebooks/data_table.ipynb>data table notebook</a>'\n",
              "            + ' to learn more about interactive tables.';\n",
              "          element.innerHTML = '';\n",
              "          dataTable['output_type'] = 'display_data';\n",
              "          await google.colab.output.renderOutput(dataTable, element);\n",
              "          const docLink = document.createElement('div');\n",
              "          docLink.innerHTML = docLinkHtml;\n",
              "          element.appendChild(docLink);\n",
              "        }\n",
              "      </script>\n",
              "    </div>\n",
              "  </div>\n",
              "  "
            ]
          },
          "metadata": {},
          "execution_count": 59
        }
      ],
      "source": [
        "df.sample(10)"
      ]
    },
    {
      "cell_type": "code",
      "source": [
        "data.info()"
      ],
      "metadata": {
        "colab": {
          "base_uri": "https://localhost:8080/"
        },
        "id": "0_6r463Zze86",
        "outputId": "90bc7c55-70c2-4deb-ffbb-7382a751b058"
      },
      "execution_count": null,
      "outputs": [
        {
          "output_type": "stream",
          "name": "stdout",
          "text": [
            "<class 'pandas.core.frame.DataFrame'>\n",
            "RangeIndex: 614 entries, 0 to 613\n",
            "Data columns (total 13 columns):\n",
            " #   Column             Non-Null Count  Dtype  \n",
            "---  ------             --------------  -----  \n",
            " 0   Loan_ID            614 non-null    object \n",
            " 1   Gender             601 non-null    object \n",
            " 2   Married            611 non-null    object \n",
            " 3   Dependents         599 non-null    object \n",
            " 4   Education          614 non-null    object \n",
            " 5   Self_Employed      582 non-null    object \n",
            " 6   ApplicantIncome    614 non-null    int64  \n",
            " 7   CoapplicantIncome  614 non-null    float64\n",
            " 8   LoanAmount         592 non-null    float64\n",
            " 9   Loan_Amount_Term   600 non-null    float64\n",
            " 10  Credit_History     564 non-null    float64\n",
            " 11  Property_Area      614 non-null    object \n",
            " 12  Loan_Status        614 non-null    object \n",
            "dtypes: float64(4), int64(1), object(8)\n",
            "memory usage: 62.5+ KB\n"
          ]
        }
      ]
    },
    {
      "cell_type": "markdown",
      "source": [
        "We will prepare data for model training i.e. removing ouliers , filling null values , removing skewness"
      ],
      "metadata": {
        "id": "fgEtveCD1tRn"
      }
    },
    {
      "cell_type": "code",
      "source": [
        "data.isna().sum()"
      ],
      "metadata": {
        "colab": {
          "base_uri": "https://localhost:8080/"
        },
        "id": "B4eJ4iJEztcl",
        "outputId": "4c2c1b29-07e1-4f27-b157-bfa3f350e6db"
      },
      "execution_count": null,
      "outputs": [
        {
          "output_type": "execute_result",
          "data": {
            "text/plain": [
              "Loan_ID               0\n",
              "Gender               13\n",
              "Married               3\n",
              "Dependents           15\n",
              "Education             0\n",
              "Self_Employed        32\n",
              "ApplicantIncome       0\n",
              "CoapplicantIncome     0\n",
              "LoanAmount           22\n",
              "Loan_Amount_Term     14\n",
              "Credit_History       50\n",
              "Property_Area         0\n",
              "Loan_Status           0\n",
              "dtype: int64"
            ]
          },
          "metadata": {},
          "execution_count": 91
        }
      ]
    },
    {
      "cell_type": "code",
      "source": [
        "plt.figure(figsize=(10,6))\n",
        "sns.heatmap(data.isnull(),yticklabels=False)"
      ],
      "metadata": {
        "colab": {
          "base_uri": "https://localhost:8080/",
          "height": 666
        },
        "id": "MWywCtlXz-yH",
        "outputId": "9f1f436e-5362-4094-be2c-837b8aee3925"
      },
      "execution_count": null,
      "outputs": [
        {
          "output_type": "execute_result",
          "data": {
            "text/plain": [
              "<Axes: >"
            ]
          },
          "metadata": {},
          "execution_count": 92
        },
        {
          "output_type": "display_data",
          "data": {
            "text/plain": [
              "<Figure size 1000x600 with 2 Axes>"
            ],
            "image/png": "[encoded data removed]"
          },
          "metadata": {}
        }
      ]
    },
    {
      "cell_type": "code",
      "source": [
        "print(data[\"Gender\"].value_counts())\n",
        "print(data[\"Married\"].value_counts())\n",
        "print(data[\"Self_Employed\"].value_counts())\n",
        "print(data[\"Dependents\"].value_counts())\n",
        "print(data[\"Credit_History\"].value_counts())\n",
        "print(data[\"Loan_Amount_Term\"].value_counts())"
      ],
      "metadata": {
        "colab": {
          "base_uri": "https://localhost:8080/"
        },
        "id": "CLxjy8ZWKTFB",
        "outputId": "2a19d750-63a5-4d99-aa22-2b5a4591ab4b"
      },
      "execution_count": null,
      "outputs": [
        {
          "output_type": "stream",
          "name": "stdout",
          "text": [
            "Male      489\n",
            "Female    112\n",
            "Name: Gender, dtype: int64\n",
            "Yes    398\n",
            "No     213\n",
            "Name: Married, dtype: int64\n",
            "No     500\n",
            "Yes     82\n",
            "Name: Self_Employed, dtype: int64\n",
            "0     345\n",
            "1     102\n",
            "2     101\n",
            "3+     51\n",
            "Name: Dependents, dtype: int64\n",
            "1.0    475\n",
            "0.0     89\n",
            "Name: Credit_History, dtype: int64\n",
            "360.0    512\n",
            "180.0     44\n",
            "480.0     15\n",
            "300.0     13\n",
            "240.0      4\n",
            "84.0       4\n",
            "120.0      3\n",
            "60.0       2\n",
            "36.0       2\n",
            "12.0       1\n",
            "Name: Loan_Amount_Term, dtype: int64\n"
          ]
        }
      ]
    },
    {
      "cell_type": "code",
      "source": [
        "#Filling all Nan values with mode of respective variable\n",
        "data[\"Gender\"].fillna(data[\"Gender\"].mode()[0],inplace=True)\n",
        "data[\"Married\"].fillna(data[\"Married\"].mode()[0],inplace=True)\n",
        "data[\"Self_Employed\"].fillna(data[\"Self_Employed\"].mode()[0],inplace=True)\n",
        "data[\"Loan_Amount_Term\"].fillna(data[\"Loan_Amount_Term\"].mode()[0],inplace=True)\n",
        "data[\"Dependents\"].fillna(data[\"Dependents\"].mode()[0],inplace=True)\n",
        "data[\"Credit_History\"].fillna(data[\"Credit_History\"].mode()[0],inplace=True)\n",
        "\n",
        "#All values of \"Dependents\" columns were of \"str\" form now converting to \"int\" form.\n",
        "data[\"Dependents\"] = data[\"Dependents\"].replace('3+',int(3))\n",
        "data[\"Dependents\"] = data[\"Dependents\"].replace('1',int(1))\n",
        "data[\"Dependents\"] = data[\"Dependents\"].replace('2',int(2))\n",
        "data[\"Dependents\"] = data[\"Dependents\"].replace('0',int(0))\n",
        "\n",
        "data[\"LoanAmount\"].fillna(data[\"LoanAmount\"].median(),inplace=True)\n",
        "\n",
        "print(data.isnull().sum())\n",
        "\n",
        "#Heat map for null values\n",
        "plt.figure(figsize=(10,6))\n",
        "sns.heatmap(data.isnull())"
      ],
      "metadata": {
        "colab": {
          "base_uri": "https://localhost:8080/",
          "height": 910
        },
        "id": "xcQwcB1rKWyv",
        "outputId": "0b272ed3-d33d-4446-e338-623ef7175baf"
      },
      "execution_count": null,
      "outputs": [
        {
          "output_type": "stream",
          "name": "stdout",
          "text": [
            "Loan_ID              0\n",
            "Gender               0\n",
            "Married              0\n",
            "Dependents           0\n",
            "Education            0\n",
            "Self_Employed        0\n",
            "ApplicantIncome      0\n",
            "CoapplicantIncome    0\n",
            "LoanAmount           0\n",
            "Loan_Amount_Term     0\n",
            "Credit_History       0\n",
            "Property_Area        0\n",
            "Loan_Status          0\n",
            "dtype: int64\n"
          ]
        },
        {
          "output_type": "execute_result",
          "data": {
            "text/plain": [
              "<Axes: >"
            ]
          },
          "metadata": {},
          "execution_count": 5
        },
        {
          "output_type": "display_data",
          "data": {
            "text/plain": [
              "<Figure size 1000x600 with 2 Axes>"
            ],
            "image/png": "[encoded data removed]"
          },
          "metadata": {}
        }
      ]
    },
    {
      "cell_type": "code",
      "source": [
        "### Checking if the non-categorical variables are Normally Distributed or Not. i.e. Checking outliers...\n",
        "\n",
        "print(\"Data distribution analysis:->---------------------------------------\\n\")\n",
        "print(\"\\nMean:->\\n\")\n",
        "print(\"ApplicantIncome: \",np.mean(data[\"ApplicantIncome\"]))\n",
        "print(\"CoapplicantIncome: \",np.mean(data[\"CoapplicantIncome\"]))\n",
        "print(\"LoanAmount: \",np.mean(data[\"LoanAmount\"]))\n",
        "\n",
        "print(\"\\nMode:->\\n\")\n",
        "print(\"ApplicantIncome: \",stats.mode(data[\"ApplicantIncome\"])[0])\n",
        "print(\"CoapplicantIncome: \",stats.mode(data[\"CoapplicantIncome\"])[0])\n",
        "print(\"LoanAmount: \",stats.mode(data[\"LoanAmount\"])[0])\n",
        "\n",
        "print(\"\\nMedian:->\\n\")\n",
        "print(\"ApplicantIncome: \",np.median(data[\"ApplicantIncome\"]))\n",
        "print(\"CoapplicantIncome: \",np.median(data[\"CoapplicantIncome\"]))\n",
        "print(\"LoanAmount: \",np.median(data[\"LoanAmount\"]))\n",
        "\n",
        "print(\"\\nStandard Deviation:->\\n\")\n",
        "print(\"ApplicantIncome: \",np.std(data[\"ApplicantIncome\"]))\n",
        "print(\"CoapplicantIncome: \",np.std(data[\"CoapplicantIncome\"]))\n",
        "print(\"LoanAmount: \",np.std(data[\"LoanAmount\"]))"
      ],
      "metadata": {
        "colab": {
          "base_uri": "https://localhost:8080/"
        },
        "id": "lZ-Eecbq02MY",
        "outputId": "4af4e6e1-0af4-4aa9-b7f7-25c4fba8f5c5"
      },
      "execution_count": null,
      "outputs": [
        {
          "output_type": "stream",
          "name": "stdout",
          "text": [
            "Data distribution analysis:->---------------------------------------\n",
            "\n",
            "\n",
            "Mean:->\n",
            "\n",
            "ApplicantIncome:  5403.459283387622\n",
            "CoapplicantIncome:  1621.2457980271008\n",
            "LoanAmount:  145.75244299674267\n",
            "\n",
            "Mode:->\n",
            "\n",
            "ApplicantIncome:  [2500]\n",
            "CoapplicantIncome:  [0.]\n",
            "LoanAmount:  [128.]\n",
            "\n",
            "Median:->\n",
            "\n",
            "ApplicantIncome:  3812.5\n",
            "CoapplicantIncome:  1188.5\n",
            "LoanAmount:  128.0\n",
            "\n",
            "Standard Deviation:->\n",
            "\n",
            "ApplicantIncome:  6104.0648565338915\n",
            "CoapplicantIncome:  2923.8644597700595\n",
            "LoanAmount:  84.03871423798937\n"
          ]
        }
      ]
    },
    {
      "cell_type": "code",
      "source": [
        "fig = px.histogram(data[\"ApplicantIncome\"],x =\"ApplicantIncome\" ,y = \"ApplicantIncome\" )\n",
        "fig.update_layout(title=\"ApplicantIncome\")\n",
        "fig.show()\n",
        "\n",
        "fig = px.histogram(data[\"CoapplicantIncome\"],x =\"CoapplicantIncome\" ,y = \"CoapplicantIncome\" )\n",
        "fig.update_layout(title=\"CoapplicantIncome\")\n",
        "fig.show()\n",
        "\n",
        "fig = px.histogram(data[\"LoanAmount\"],x =\"LoanAmount\" ,y = \"LoanAmount\" )\n",
        "fig.update_layout(title=\"LoanAmount\")\n",
        "fig.show()"
      ],
      "metadata": {
        "colab": {
          "base_uri": "https://localhost:8080/",
          "height": 1000
        },
        "id": "hmv36LsNK_u7",
        "outputId": "225f87d7-6e9c-4329-ef08-2529f406aa73"
      },
      "execution_count": null,
      "outputs": [
        {
          "output_type": "display_data",
          "data": {
            "text/html": [
              "<html>\n",
              "<head><meta charset=\"utf-8\" /></head>\n",
              "<body>\n",
              "    <div>            <script src=\"https://cdnjs.cloudflare.com/ajax/libs/mathjax/2.7.5/MathJax.js?config=TeX-AMS-MML_SVG\"></script><script type=\"text/javascript\">if (window.MathJax && window.MathJax.Hub && window.MathJax.Hub.Config) {window.MathJax.Hub.Config({SVG: {font: \"STIX-Web\"}});}</script>                <script type=\"text/javascript\">window.PlotlyConfig = {MathJaxConfig: 'local'};</script>\n",
              "        <script src=\"https://cdn.plot.ly/plotly-2.18.2.min.js\"></script>                <div id=\"22b31d1f-0210-40fe-996e-b3f9fc030ca1\" class=\"plotly-graph-div\" style=\"height:525px; width:100%;\"></div>            <script type=\"text/javascript\">                                    window.PLOTLYENV=window.PLOTLYENV || {};                                    if (document.getElementById(\"22b31d1f-0210-40fe-996e-b3f9fc030ca1\")) {                    Plotly.newPlot(                        \"22b31d1f-0210-40fe-996e-b3f9fc030ca1\",                        [{\"alignmentgroup\":\"True\",\"bingroup\":\"x\",\"histfunc\":\"sum\",\"hovertemplate\":\"ApplicantIncome=%{x}<br>sum of ApplicantIncome=%{y}<extra></extra>\",\"legendgroup\":\"\",\"marker\":{\"color\":\"#636efa\",\"pattern\":{\"shape\":\"\"}},\"name\":\"\",\"offsetgroup\":\"\",\"orientation\":\"v\",\"showlegend\":false,\"x\":[5849,4583,3000,2583,6000,5417,2333,3036,4006,12841,3200,2500,3073,1853,1299,4950,3596,3510,4887,2600,7660,5955,2600,3365,3717,9560,2799,4226,1442,3750,4166,3167,4692,3500,12500,2275,1828,3667,4166,3748,3600,1800,2400,3941,4695,3410,5649,5821,2645,4000,1928,3086,4230,4616,11500,2708,2132,3366,8080,3357,2500,3029,2609,4945,4166,5726,3200,10750,7100,4300,3208,1875,3500,4755,5266,3750,3750,1000,3167,3333,3846,2395,1378,6000,3988,2366,3333,2500,8566,5695,2958,6250,3273,4133,3620,6782,2484,1977,4188,1759,4288,4843,13650,4652,3816,3052,11417,7333,3800,2071,5316,2929,3572,7451,5050,14583,3167,2214,5568,10408,5667,4166,2137,2957,4300,3692,23803,3865,10513,6080,20166,2014,2718,3459,4895,4000,4583,3316,14999,4200,5042,5417,6950,2698,11757,2330,14866,1538,10000,4860,6277,2577,9166,2281,3254,39999,6000,9538,2980,4583,1863,7933,3089,4167,9323,3707,4583,2439,2237,8000,1820,51763,3522,5708,4344,3497,2045,5516,3750,2333,6400,1916,4600,33846,3625,39147,2178,2383,674,9328,4885,12000,6033,3858,4191,3125,8333,1907,3416,11000,2600,4923,3992,3500,3917,4408,3244,3975,2479,3418,10000,3430,7787,5703,3173,3850,150,3727,5000,4283,2221,4009,2971,7578,6250,3250,4735,6250,4758,6400,2491,3716,3189,8333,3155,5500,5746,3463,3812,3315,5819,2510,2965,6250,3406,6050,9703,6608,2882,1809,1668,3427,2583,2661,16250,3083,6045,5250,14683,4931,6083,2060,3481,7200,5166,4095,4708,4333,3418,2876,3237,11146,2833,2620,3900,2750,3993,3103,14583,4100,4053,3927,2301,1811,20667,3158,2600,3704,4124,9508,3075,4400,3153,5417,2383,4416,6875,4666,5000,2014,1800,2875,5000,1625,4000,2000,3762,2400,20233,7667,2917,2927,2507,5746,2473,3399,3717,2058,3541,10000,2400,4342,3601,3166,15000,8666,4917,5818,4333,2500,4384,2935,2833,63337,9833,5503,5250,2500,1830,4160,2647,2378,4554,3173,2583,2499,3523,3083,6333,2625,9083,8750,2666,5500,2423,3813,8333,3875,3000,5167,4723,5000,4750,3013,6822,6216,2500,5124,6325,19730,15759,5185,9323,3062,2764,4817,8750,4310,3069,5391,3333,5941,6000,7167,4566,3667,2346,3010,2333,5488,9167,9504,2583,1993,3100,3276,3180,3033,3902,1500,2889,2755,2500,1963,7441,4547,2167,2213,8300,81000,3867,6256,6096,2253,2149,2995,2600,1600,1025,3246,5829,2720,1820,7250,14880,2666,4606,5935,2920,2717,8624,6500,12876,2425,3750,10047,1926,2213,10416,7142,3660,7901,4707,37719,7333,3466,4652,3539,3340,2769,2309,1958,3948,2483,7085,3859,4301,3708,4354,8334,2083,7740,3015,5191,4166,6000,2947,16692,210,4333,3450,2653,4691,2500,5532,16525,6700,2873,16667,2947,4350,3095,2083,10833,8333,1958,3547,18333,4583,2435,2699,5333,3691,17263,3597,3326,2600,4625,2895,6283,645,3159,4865,4050,3814,3510,20833,3583,2479,13262,3598,6065,3283,2130,5815,3466,2031,3074,4683,3400,2192,2500,5677,7948,4680,17500,3775,5285,2679,6783,1025,4281,3588,11250,18165,2550,6133,3617,2917,6417,4608,2138,3652,2239,3017,2768,3358,2526,5000,2785,6633,2492,3333,2454,3593,5468,2667,10139,3887,4180,3675,19484,5923,5800,8799,4467,3333,3400,2378,3166,3417,5116,16666,6125,6406,3159,3087,3229,1782,3182,6540,1836,3166,1880,2787,4283,2297,2165,4750,2726,3000,6000,9357,3859,16120,3833,6383,2987,9963,5780,416,2894,5703,3676,12000,2400,3400,3987,3232,2900,4106,8072,7583,4583],\"xaxis\":\"x\",\"y\":[5849,4583,3000,2583,6000,5417,2333,3036,4006,12841,3200,2500,3073,1853,1299,4950,3596,3510,4887,2600,7660,5955,2600,3365,3717,9560,2799,4226,1442,3750,4166,3167,4692,3500,12500,2275,1828,3667,4166,3748,3600,1800,2400,3941,4695,3410,5649,5821,2645,4000,1928,3086,4230,4616,11500,2708,2132,3366,8080,3357,2500,3029,2609,4945,4166,5726,3200,10750,7100,4300,3208,1875,3500,4755,5266,3750,3750,1000,3167,3333,3846,2395,1378,6000,3988,2366,3333,2500,8566,5695,2958,6250,3273,4133,3620,6782,2484,1977,4188,1759,4288,4843,13650,4652,3816,3052,11417,7333,3800,2071,5316,2929,3572,7451,5050,14583,3167,2214,5568,10408,5667,4166,2137,2957,4300,3692,23803,3865,10513,6080,20166,2014,2718,3459,4895,4000,4583,3316,14999,4200,5042,5417,6950,2698,11757,2330,14866,1538,10000,4860,6277,2577,9166,2281,3254,39999,6000,9538,2980,4583,1863,7933,3089,4167,9323,3707,4583,2439,2237,8000,1820,51763,3522,5708,4344,3497,2045,5516,3750,2333,6400,1916,4600,33846,3625,39147,2178,2383,674,9328,4885,12000,6033,3858,4191,3125,8333,1907,3416,11000,2600,4923,3992,3500,3917,4408,3244,3975,2479,3418,10000,3430,7787,5703,3173,3850,150,3727,5000,4283,2221,4009,2971,7578,6250,3250,4735,6250,4758,6400,2491,3716,3189,8333,3155,5500,5746,3463,3812,3315,5819,2510,2965,6250,3406,6050,9703,6608,2882,1809,1668,3427,2583,2661,16250,3083,6045,5250,14683,4931,6083,2060,3481,7200,5166,4095,4708,4333,3418,2876,3237,11146,2833,2620,3900,2750,3993,3103,14583,4100,4053,3927,2301,1811,20667,3158,2600,3704,4124,9508,3075,4400,3153,5417,2383,4416,6875,4666,5000,2014,1800,2875,5000,1625,4000,2000,3762,2400,20233,7667,2917,2927,2507,5746,2473,3399,3717,2058,3541,10000,2400,4342,3601,3166,15000,8666,4917,5818,4333,2500,4384,2935,2833,63337,9833,5503,5250,2500,1830,4160,2647,2378,4554,3173,2583,2499,3523,3083,6333,2625,9083,8750,2666,5500,2423,3813,8333,3875,3000,5167,4723,5000,4750,3013,6822,6216,2500,5124,6325,19730,15759,5185,9323,3062,2764,4817,8750,4310,3069,5391,3333,5941,6000,7167,4566,3667,2346,3010,2333,5488,9167,9504,2583,1993,3100,3276,3180,3033,3902,1500,2889,2755,2500,1963,7441,4547,2167,2213,8300,81000,3867,6256,6096,2253,2149,2995,2600,1600,1025,3246,5829,2720,1820,7250,14880,2666,4606,5935,2920,2717,8624,6500,12876,2425,3750,10047,1926,2213,10416,7142,3660,7901,4707,37719,7333,3466,4652,3539,3340,2769,2309,1958,3948,2483,7085,3859,4301,3708,4354,8334,2083,7740,3015,5191,4166,6000,2947,16692,210,4333,3450,2653,4691,2500,5532,16525,6700,2873,16667,2947,4350,3095,2083,10833,8333,1958,3547,18333,4583,2435,2699,5333,3691,17263,3597,3326,2600,4625,2895,6283,645,3159,4865,4050,3814,3510,20833,3583,2479,13262,3598,6065,3283,2130,5815,3466,2031,3074,4683,3400,2192,2500,5677,7948,4680,17500,3775,5285,2679,6783,1025,4281,3588,11250,18165,2550,6133,3617,2917,6417,4608,2138,3652,2239,3017,2768,3358,2526,5000,2785,6633,2492,3333,2454,3593,5468,2667,10139,3887,4180,3675,19484,5923,5800,8799,4467,3333,3400,2378,3166,3417,5116,16666,6125,6406,3159,3087,3229,1782,3182,6540,1836,3166,1880,2787,4283,2297,2165,4750,2726,3000,6000,9357,3859,16120,3833,6383,2987,9963,5780,416,2894,5703,3676,12000,2400,3400,3987,3232,2900,4106,8072,7583,4583],\"yaxis\":\"y\",\"type\":\"histogram\"}],                        {\"template\":{\"data\":{\"histogram2dcontour\":[{\"type\":\"histogram2dcontour\",\"colorbar\":{\"outlinewidth\":0,\"ticks\":\"\"},\"colorscale\":[[0.0,\"#0d0887\"],[0.1111111111111111,\"#46039f\"],[0.2222222222222222,\"#7201a8\"],[0.3333333333333333,\"#9c179e\"],[0.4444444444444444,\"#bd3786\"],[0.5555555555555556,\"#d8576b\"],[0.6666666666666666,\"#ed7953\"],[0.7777777777777778,\"#fb9f3a\"],[0.8888888888888888,\"#fdca26\"],[1.0,\"#f0f921\"]]}],\"choropleth\":[{\"type\":\"choropleth\",\"colorbar\":{\"outlinewidth\":0,\"ticks\":\"\"}}],\"histogram2d\":[{\"type\":\"histogram2d\",\"colorbar\":{\"outlinewidth\":0,\"ticks\":\"\"},\"colorscale\":[[0.0,\"#0d0887\"],[0.1111111111111111,\"#46039f\"],[0.2222222222222222,\"#7201a8\"],[0.3333333333333333,\"#9c179e\"],[0.4444444444444444,\"#bd3786\"],[0.5555555555555556,\"#d8576b\"],[0.6666666666666666,\"#ed7953\"],[0.7777777777777778,\"#fb9f3a\"],[0.8888888888888888,\"#fdca26\"],[1.0,\"#f0f921\"]]}],\"heatmap\":[{\"type\":\"heatmap\",\"colorbar\":{\"outlinewidth\":0,\"ticks\":\"\"},\"colorscale\":[[0.0,\"#0d0887\"],[0.1111111111111111,\"#46039f\"],[0.2222222222222222,\"#7201a8\"],[0.3333333333333333,\"#9c179e\"],[0.4444444444444444,\"#bd3786\"],[0.5555555555555556,\"#d8576b\"],[0.6666666666666666,\"#ed7953\"],[0.7777777777777778,\"#fb9f3a\"],[0.8888888888888888,\"#fdca26\"],[1.0,\"#f0f921\"]]}],\"heatmapgl\":[{\"type\":\"heatmapgl\",\"colorbar\":{\"outlinewidth\":0,\"ticks\":\"\"},\"colorscale\":[[0.0,\"#0d0887\"],[0.1111111111111111,\"#46039f\"],[0.2222222222222222,\"#7201a8\"],[0.3333333333333333,\"#9c179e\"],[0.4444444444444444,\"#bd3786\"],[0.5555555555555556,\"#d8576b\"],[0.6666666666666666,\"#ed7953\"],[0.7777777777777778,\"#fb9f3a\"],[0.8888888888888888,\"#fdca26\"],[1.0,\"#f0f921\"]]}],\"contourcarpet\":[{\"type\":\"contourcarpet\",\"colorbar\":{\"outlinewidth\":0,\"ticks\":\"\"}}],\"contour\":[{\"type\":\"contour\",\"colorbar\":{\"outlinewidth\":0,\"ticks\":\"\"},\"colorscale\":[[0.0,\"#0d0887\"],[0.1111111111111111,\"#46039f\"],[0.2222222222222222,\"#7201a8\"],[0.3333333333333333,\"#9c179e\"],[0.4444444444444444,\"#bd3786\"],[0.5555555555555556,\"#d8576b\"],[0.6666666666666666,\"#ed7953\"],[0.7777777777777778,\"#fb9f3a\"],[0.8888888888888888,\"#fdca26\"],[1.0,\"#f0f921\"]]}],\"surface\":[{\"type\":\"surface\",\"colorbar\":{\"outlinewidth\":0,\"ticks\":\"\"},\"colorscale\":[[0.0,\"#0d0887\"],[0.1111111111111111,\"#46039f\"],[0.2222222222222222,\"#7201a8\"],[0.3333333333333333,\"#9c179e\"],[0.4444444444444444,\"#bd3786\"],[0.5555555555555556,\"#d8576b\"],[0.6666666666666666,\"#ed7953\"],[0.7777777777777778,\"#fb9f3a\"],[0.8888888888888888,\"#fdca26\"],[1.0,\"#f0f921\"]]}],\"mesh3d\":[{\"type\":\"mesh3d\",\"colorbar\":{\"outlinewidth\":0,\"ticks\":\"\"}}],\"scatter\":[{\"fillpattern\":{\"fillmode\":\"overlay\",\"size\":10,\"solidity\":0.2},\"type\":\"scatter\"}],\"parcoords\":[{\"type\":\"parcoords\",\"line\":{\"colorbar\":{\"outlinewidth\":0,\"ticks\":\"\"}}}],\"scatterpolargl\":[{\"type\":\"scatterpolargl\",\"marker\":{\"colorbar\":{\"outlinewidth\":0,\"ticks\":\"\"}}}],\"bar\":[{\"error_x\":{\"color\":\"#2a3f5f\"},\"error_y\":{\"color\":\"#2a3f5f\"},\"marker\":{\"line\":{\"color\":\"#E5ECF6\",\"width\":0.5},\"pattern\":{\"fillmode\":\"overlay\",\"size\":10,\"solidity\":0.2}},\"type\":\"bar\"}],\"scattergeo\":[{\"type\":\"scattergeo\",\"marker\":{\"colorbar\":{\"outlinewidth\":0,\"ticks\":\"\"}}}],\"scatterpolar\":[{\"type\":\"scatterpolar\",\"marker\":{\"colorbar\":{\"outlinewidth\":0,\"ticks\":\"\"}}}],\"histogram\":[{\"marker\":{\"pattern\":{\"fillmode\":\"overlay\",\"size\":10,\"solidity\":0.2}},\"type\":\"histogram\"}],\"scattergl\":[{\"type\":\"scattergl\",\"marker\":{\"colorbar\":{\"outlinewidth\":0,\"ticks\":\"\"}}}],\"scatter3d\":[{\"type\":\"scatter3d\",\"line\":{\"colorbar\":{\"outlinewidth\":0,\"ticks\":\"\"}},\"marker\":{\"colorbar\":{\"outlinewidth\":0,\"ticks\":\"\"}}}],\"scattermapbox\":[{\"type\":\"scattermapbox\",\"marker\":{\"colorbar\":{\"outlinewidth\":0,\"ticks\":\"\"}}}],\"scatterternary\":[{\"type\":\"scatterternary\",\"marker\":{\"colorbar\":{\"outlinewidth\":0,\"ticks\":\"\"}}}],\"scattercarpet\":[{\"type\":\"scattercarpet\",\"marker\":{\"colorbar\":{\"outlinewidth\":0,\"ticks\":\"\"}}}],\"carpet\":[{\"aaxis\":{\"endlinecolor\":\"#2a3f5f\",\"gridcolor\":\"white\",\"linecolor\":\"white\",\"minorgridcolor\":\"white\",\"startlinecolor\":\"#2a3f5f\"},\"baxis\":{\"endlinecolor\":\"#2a3f5f\",\"gridcolor\":\"white\",\"linecolor\":\"white\",\"minorgridcolor\":\"white\",\"startlinecolor\":\"#2a3f5f\"},\"type\":\"carpet\"}],\"table\":[{\"cells\":{\"fill\":{\"color\":\"#EBF0F8\"},\"line\":{\"color\":\"white\"}},\"header\":{\"fill\":{\"color\":\"#C8D4E3\"},\"line\":{\"color\":\"white\"}},\"type\":\"table\"}],\"barpolar\":[{\"marker\":{\"line\":{\"color\":\"#E5ECF6\",\"width\":0.5},\"pattern\":{\"fillmode\":\"overlay\",\"size\":10,\"solidity\":0.2}},\"type\":\"barpolar\"}],\"pie\":[{\"automargin\":true,\"type\":\"pie\"}]},\"layout\":{\"autotypenumbers\":\"strict\",\"colorway\":[\"#636efa\",\"#EF553B\",\"#00cc96\",\"#ab63fa\",\"#FFA15A\",\"#19d3f3\",\"#FF6692\",\"#B6E880\",\"#FF97FF\",\"#FECB52\"],\"font\":{\"color\":\"#2a3f5f\"},\"hovermode\":\"closest\",\"hoverlabel\":{\"align\":\"left\"},\"paper_bgcolor\":\"white\",\"plot_bgcolor\":\"#E5ECF6\",\"polar\":{\"bgcolor\":\"#E5ECF6\",\"angularaxis\":{\"gridcolor\":\"white\",\"linecolor\":\"white\",\"ticks\":\"\"},\"radialaxis\":{\"gridcolor\":\"white\",\"linecolor\":\"white\",\"ticks\":\"\"}},\"ternary\":{\"bgcolor\":\"#E5ECF6\",\"aaxis\":{\"gridcolor\":\"white\",\"linecolor\":\"white\",\"ticks\":\"\"},\"baxis\":{\"gridcolor\":\"white\",\"linecolor\":\"white\",\"ticks\":\"\"},\"caxis\":{\"gridcolor\":\"white\",\"linecolor\":\"white\",\"ticks\":\"\"}},\"coloraxis\":{\"colorbar\":{\"outlinewidth\":0,\"ticks\":\"\"}},\"colorscale\":{\"sequential\":[[0.0,\"#0d0887\"],[0.1111111111111111,\"#46039f\"],[0.2222222222222222,\"#7201a8\"],[0.3333333333333333,\"#9c179e\"],[0.4444444444444444,\"#bd3786\"],[0.5555555555555556,\"#d8576b\"],[0.6666666666666666,\"#ed7953\"],[0.7777777777777778,\"#fb9f3a\"],[0.8888888888888888,\"#fdca26\"],[1.0,\"#f0f921\"]],\"sequentialminus\":[[0.0,\"#0d0887\"],[0.1111111111111111,\"#46039f\"],[0.2222222222222222,\"#7201a8\"],[0.3333333333333333,\"#9c179e\"],[0.4444444444444444,\"#bd3786\"],[0.5555555555555556,\"#d8576b\"],[0.6666666666666666,\"#ed7953\"],[0.7777777777777778,\"#fb9f3a\"],[0.8888888888888888,\"#fdca26\"],[1.0,\"#f0f921\"]],\"diverging\":[[0,\"#8e0152\"],[0.1,\"#c51b7d\"],[0.2,\"#de77ae\"],[0.3,\"#f1b6da\"],[0.4,\"#fde0ef\"],[0.5,\"#f7f7f7\"],[0.6,\"#e6f5d0\"],[0.7,\"#b8e186\"],[0.8,\"#7fbc41\"],[0.9,\"#4d9221\"],[1,\"#276419\"]]},\"xaxis\":{\"gridcolor\":\"white\",\"linecolor\":\"white\",\"ticks\":\"\",\"title\":{\"standoff\":15},\"zerolinecolor\":\"white\",\"automargin\":true,\"zerolinewidth\":2},\"yaxis\":{\"gridcolor\":\"white\",\"linecolor\":\"white\",\"ticks\":\"\",\"title\":{\"standoff\":15},\"zerolinecolor\":\"white\",\"automargin\":true,\"zerolinewidth\":2},\"scene\":{\"xaxis\":{\"backgroundcolor\":\"#E5ECF6\",\"gridcolor\":\"white\",\"linecolor\":\"white\",\"showbackground\":true,\"ticks\":\"\",\"zerolinecolor\":\"white\",\"gridwidth\":2},\"yaxis\":{\"backgroundcolor\":\"#E5ECF6\",\"gridcolor\":\"white\",\"linecolor\":\"white\",\"showbackground\":true,\"ticks\":\"\",\"zerolinecolor\":\"white\",\"gridwidth\":2},\"zaxis\":{\"backgroundcolor\":\"#E5ECF6\",\"gridcolor\":\"white\",\"linecolor\":\"white\",\"showbackground\":true,\"ticks\":\"\",\"zerolinecolor\":\"white\",\"gridwidth\":2}},\"shapedefaults\":{\"line\":{\"color\":\"#2a3f5f\"}},\"annotationdefaults\":{\"arrowcolor\":\"#2a3f5f\",\"arrowhead\":0,\"arrowwidth\":1},\"geo\":{\"bgcolor\":\"white\",\"landcolor\":\"#E5ECF6\",\"subunitcolor\":\"white\",\"showland\":true,\"showlakes\":true,\"lakecolor\":\"white\"},\"title\":{\"x\":0.05},\"mapbox\":{\"style\":\"light\"}}},\"xaxis\":{\"anchor\":\"y\",\"domain\":[0.0,1.0],\"title\":{\"text\":\"ApplicantIncome\"}},\"yaxis\":{\"anchor\":\"x\",\"domain\":[0.0,1.0],\"title\":{\"text\":\"sum of ApplicantIncome\"}},\"legend\":{\"tracegroupgap\":0},\"margin\":{\"t\":60},\"barmode\":\"relative\",\"title\":{\"text\":\"ApplicantIncome\"}},                        {\"responsive\": true}                    ).then(function(){\n",
              "                            \n",
              "var gd = document.getElementById('22b31d1f-0210-40fe-996e-b3f9fc030ca1');\n",
              "var x = new MutationObserver(function (mutations, observer) {{\n",
              "        var display = window.getComputedStyle(gd).display;\n",
              "        if (!display || display === 'none') {{\n",
              "            console.log([gd, 'removed!']);\n",
              "            Plotly.purge(gd);\n",
              "            observer.disconnect();\n",
              "        }}\n",
              "}});\n",
              "\n",
              "// Listen for the removal of the full notebook cells\n",
              "var notebookContainer = gd.closest('#notebook-container');\n",
              "if (notebookContainer) {{\n",
              "    x.observe(notebookContainer, {childList: true});\n",
              "}}\n",
              "\n",
              "// Listen for the clearing of the current output cell\n",
              "var outputEl = gd.closest('.output');\n",
              "if (outputEl) {{\n",
              "    x.observe(outputEl, {childList: true});\n",
              "}}\n",
              "\n",
              "                        })                };                            </script>        </div>\n",
              "</body>\n",
              "</html>"
            ]
          },
          "metadata": {}
        },
        {
          "output_type": "display_data",
          "data": {
            "text/html": [
              "<html>\n",
              "<head><meta charset=\"utf-8\" /></head>\n",
              "<body>\n",
              "    <div>            <script src=\"https://cdnjs.cloudflare.com/ajax/libs/mathjax/2.7.5/MathJax.js?config=TeX-AMS-MML_SVG\"></script><script type=\"text/javascript\">if (window.MathJax && window.MathJax.Hub && window.MathJax.Hub.Config) {window.MathJax.Hub.Config({SVG: {font: \"STIX-Web\"}});}</script>                <script type=\"text/javascript\">window.PlotlyConfig = {MathJaxConfig: 'local'};</script>\n",
              "        <script src=\"https://cdn.plot.ly/plotly-2.18.2.min.js\"></script>                <div id=\"c44a4564-ac79-49bf-93a2-5413bbd23f63\" class=\"plotly-graph-div\" style=\"height:525px; width:100%;\"></div>            <script type=\"text/javascript\">                                    window.PLOTLYENV=window.PLOTLYENV || {};                                    if (document.getElementById(\"c44a4564-ac79-49bf-93a2-5413bbd23f63\")) {                    Plotly.newPlot(                        \"c44a4564-ac79-49bf-93a2-5413bbd23f63\",                        [{\"alignmentgroup\":\"True\",\"bingroup\":\"x\",\"histfunc\":\"sum\",\"hovertemplate\":\"CoapplicantIncome=%{x}<br>sum of CoapplicantIncome=%{y}<extra></extra>\",\"legendgroup\":\"\",\"marker\":{\"color\":\"#636efa\",\"pattern\":{\"shape\":\"\"}},\"name\":\"\",\"offsetgroup\":\"\",\"orientation\":\"v\",\"showlegend\":false,\"x\":[0.0,1508.0,0.0,2358.0,0.0,4196.0,1516.0,2504.0,1526.0,10968.0,700.0,1840.0,8106.0,2840.0,1086.0,0.0,0.0,0.0,0.0,3500.0,0.0,5625.0,1911.0,1917.0,2925.0,0.0,2253.0,1040.0,0.0,2083.0,3369.0,0.0,0.0,1667.0,3000.0,2067.0,1330.0,1459.0,7210.0,1668.0,0.0,1213.0,0.0,2336.0,0.0,0.0,0.0,0.0,3440.0,2275.0,1644.0,0.0,0.0,0.0,0.0,1167.0,1591.0,2200.0,2250.0,2859.0,3796.0,0.0,3449.0,0.0,0.0,4595.0,2254.0,0.0,0.0,0.0,3066.0,1875.0,0.0,0.0,1774.0,0.0,4750.0,3022.0,4000.0,2166.0,0.0,0.0,1881.0,2250.0,0.0,2531.0,2000.0,2118.0,0.0,4167.0,2900.0,5654.0,1820.0,0.0,0.0,0.0,2302.0,997.0,0.0,3541.0,3263.0,3806.0,0.0,3583.0,754.0,1030.0,1126.0,0.0,3600.0,754.0,0.0,2333.0,4114.0,0.0,0.0,0.0,2283.0,1398.0,2142.0,0.0,2667.0,0.0,8980.0,0.0,2014.0,0.0,0.0,1640.0,3850.0,2569.0,0.0,1929.0,0.0,0.0,0.0,7750.0,0.0,3500.0,0.0,1430.0,2083.0,0.0,0.0,2034.0,0.0,4486.0,0.0,1425.0,1666.0,830.0,0.0,3750.0,0.0,0.0,0.0,0.0,0.0,0.0,2083.0,5625.0,1041.0,0.0,1280.0,1447.0,0.0,3166.0,0.0,3333.0,0.0,0.0,1769.0,0.0,0.0,5625.0,736.0,1964.0,1619.0,11300.0,0.0,1451.0,7250.0,5063.0,0.0,0.0,0.0,4750.0,0.0,2138.0,5296.0,0.0,0.0,0.0,0.0,0.0,0.0,2583.0,3750.0,2365.0,2816.0,0.0,2500.0,0.0,0.0,1083.0,0.0,0.0,0.0,2531.0,0.0,0.0,0.0,1250.0,0.0,0.0,3021.0,983.0,1800.0,1775.0,0.0,2383.0,0.0,1717.0,2791.0,1010.0,0.0,0.0,0.0,1695.0,0.0,0.0,2054.0,0.0,2598.0,0.0,1779.0,1260.0,0.0,0.0,0.0,0.0,5000.0,1983.0,5701.0,1300.0,4417.0,4333.0,0.0,0.0,1843.0,1868.0,3890.0,0.0,2167.0,7101.0,0.0,0.0,0.0,0.0,2100.0,0.0,4250.0,2209.0,0.0,0.0,0.0,3447.0,1387.0,1811.0,0.0,1560.0,0.0,0.0,1857.0,2223.0,0.0,1842.0,3274.0,1300.0,0.0,0.0,2426.0,800.0,985.7999878,1666.0,0.0,3053.0,1717.0,2000.0,0.0,0.0,2416.0,0.0,1560.0,0.0,3334.0,1250.0,0.0,0.0,2541.0,2925.0,2934.0,1750.0,0.0,1803.0,2500.0,0.0,1666.0,1863.0,0.0,0.0,0.0,2405.0,0.0,0.0,1843.0,1640.0,0.0,2134.0,0.0,0.0,2167.0,189.0,1590.0,2985.0,0.0,4983.0,0.0,2160.0,2451.0,0.0,1793.0,0.0,0.0,0.0,1833.0,4490.0,688.0,4600.0,0.0,0.0,1587.0,0.0,1229.0,0.0,2330.0,2458.0,3230.0,2168.0,4583.0,6250.0,0.0,4167.0,2083.0,0.0,505.0,0.0,3167.0,0.0,1666.0,3167.0,0.0,3667.0,2333.0,3033.0,0.0,0.0,0.0,0.0,0.0,5266.0,0.0,0.0,7873.0,1987.0,1459.0,923.0,4996.0,0.0,0.0,0.0,2500.0,4232.0,0.0,0.0,0.0,0.0,1600.0,3136.0,2417.0,0.0,0.0,0.0,2115.0,1625.0,1400.0,484.0,0.0,1459.0,1666.0,1800.0,0.0,0.0,20000.0,0.0,0.0,0.0,2400.0,0.0,0.0,0.0,0.0,0.0,0.0,2033.0,3237.0,0.0,0.0,20000.0,2773.0,1417.0,0.0,0.0,1719.0,1667.0,0.0,4300.0,0.0,0.0,16.12000084,0.0,0.0,0.0,0.0,2340.0,0.0,0.0,1851.0,1125.0,0.0,0.0,5064.0,1833.0,1993.0,0.0,8333.0,1210.0,0.0,1376.0,1710.0,1542.0,1255.0,1456.0,1733.0,2466.0,0.0,0.0,0.0,2569.0,0.0,0.0,4083.0,0.0,2188.0,0.0,0.0,0.0,1664.0,0.0,2917.0,2451.0,2079.0,1500.0,0.0,0.0,4648.0,1014.0,1750.0,1872.0,2250.0,1603.0,0.0,0.0,3150.0,0.0,0.0,2436.0,0.0,0.0,2083.0,0.0,2785.0,1131.0,0.0,0.0,2157.0,913.0,1700.0,2857.0,0.0,4416.0,3683.0,0.0,5624.0,5302.0,1483.0,4416.0,6667.0,0.0,3013.0,0.0,1287.0,2004.0,2035.0,6666.0,3666.0,3428.0,1632.0,1800.0,1915.0,0.0,1742.0,0.0,1424.0,7166.0,2087.0,0.0,0.0,1430.0,1302.0,0.0,5500.0,0.0,0.0,0.0,0.0,2042.0,3906.0,0.0,536.0,0.0,2845.0,0.0,0.0,2524.0,663.0,1950.0,0.0,1783.0,0.0,2016.0,0.0,2375.0,3250.0,2333.0,4266.0,1032.0,1625.0,0.0,2669.0,2306.0,242.0,0.0,2054.0,0.0,0.0,0.0,0.0,2500.0,0.0,2064.0,1750.0,1451.0,0.0,1625.0,0.0,461.0,2210.0,2739.0,2232.0,2917.0,0.0,33837.0,0.0,0.0,1917.0,3000.0,1522.0,0.0,0.0,0.0,3416.0,0.0,0.0,3300.0,0.0,0.0,1000.0,0.0,0.0,0.0,41667.0,2792.0,0.0,4301.0,0.0,3800.0,2500.0,1411.0,1950.0,0.0,0.0,240.0,0.0,0.0],\"xaxis\":\"x\",\"y\":[0.0,1508.0,0.0,2358.0,0.0,4196.0,1516.0,2504.0,1526.0,10968.0,700.0,1840.0,8106.0,2840.0,1086.0,0.0,0.0,0.0,0.0,3500.0,0.0,5625.0,1911.0,1917.0,2925.0,0.0,2253.0,1040.0,0.0,2083.0,3369.0,0.0,0.0,1667.0,3000.0,2067.0,1330.0,1459.0,7210.0,1668.0,0.0,1213.0,0.0,2336.0,0.0,0.0,0.0,0.0,3440.0,2275.0,1644.0,0.0,0.0,0.0,0.0,1167.0,1591.0,2200.0,2250.0,2859.0,3796.0,0.0,3449.0,0.0,0.0,4595.0,2254.0,0.0,0.0,0.0,3066.0,1875.0,0.0,0.0,1774.0,0.0,4750.0,3022.0,4000.0,2166.0,0.0,0.0,1881.0,2250.0,0.0,2531.0,2000.0,2118.0,0.0,4167.0,2900.0,5654.0,1820.0,0.0,0.0,0.0,2302.0,997.0,0.0,3541.0,3263.0,3806.0,0.0,3583.0,754.0,1030.0,1126.0,0.0,3600.0,754.0,0.0,2333.0,4114.0,0.0,0.0,0.0,2283.0,1398.0,2142.0,0.0,2667.0,0.0,8980.0,0.0,2014.0,0.0,0.0,1640.0,3850.0,2569.0,0.0,1929.0,0.0,0.0,0.0,7750.0,0.0,3500.0,0.0,1430.0,2083.0,0.0,0.0,2034.0,0.0,4486.0,0.0,1425.0,1666.0,830.0,0.0,3750.0,0.0,0.0,0.0,0.0,0.0,0.0,2083.0,5625.0,1041.0,0.0,1280.0,1447.0,0.0,3166.0,0.0,3333.0,0.0,0.0,1769.0,0.0,0.0,5625.0,736.0,1964.0,1619.0,11300.0,0.0,1451.0,7250.0,5063.0,0.0,0.0,0.0,4750.0,0.0,2138.0,5296.0,0.0,0.0,0.0,0.0,0.0,0.0,2583.0,3750.0,2365.0,2816.0,0.0,2500.0,0.0,0.0,1083.0,0.0,0.0,0.0,2531.0,0.0,0.0,0.0,1250.0,0.0,0.0,3021.0,983.0,1800.0,1775.0,0.0,2383.0,0.0,1717.0,2791.0,1010.0,0.0,0.0,0.0,1695.0,0.0,0.0,2054.0,0.0,2598.0,0.0,1779.0,1260.0,0.0,0.0,0.0,0.0,5000.0,1983.0,5701.0,1300.0,4417.0,4333.0,0.0,0.0,1843.0,1868.0,3890.0,0.0,2167.0,7101.0,0.0,0.0,0.0,0.0,2100.0,0.0,4250.0,2209.0,0.0,0.0,0.0,3447.0,1387.0,1811.0,0.0,1560.0,0.0,0.0,1857.0,2223.0,0.0,1842.0,3274.0,1300.0,0.0,0.0,2426.0,800.0,985.7999878,1666.0,0.0,3053.0,1717.0,2000.0,0.0,0.0,2416.0,0.0,1560.0,0.0,3334.0,1250.0,0.0,0.0,2541.0,2925.0,2934.0,1750.0,0.0,1803.0,2500.0,0.0,1666.0,1863.0,0.0,0.0,0.0,2405.0,0.0,0.0,1843.0,1640.0,0.0,2134.0,0.0,0.0,2167.0,189.0,1590.0,2985.0,0.0,4983.0,0.0,2160.0,2451.0,0.0,1793.0,0.0,0.0,0.0,1833.0,4490.0,688.0,4600.0,0.0,0.0,1587.0,0.0,1229.0,0.0,2330.0,2458.0,3230.0,2168.0,4583.0,6250.0,0.0,4167.0,2083.0,0.0,505.0,0.0,3167.0,0.0,1666.0,3167.0,0.0,3667.0,2333.0,3033.0,0.0,0.0,0.0,0.0,0.0,5266.0,0.0,0.0,7873.0,1987.0,1459.0,923.0,4996.0,0.0,0.0,0.0,2500.0,4232.0,0.0,0.0,0.0,0.0,1600.0,3136.0,2417.0,0.0,0.0,0.0,2115.0,1625.0,1400.0,484.0,0.0,1459.0,1666.0,1800.0,0.0,0.0,20000.0,0.0,0.0,0.0,2400.0,0.0,0.0,0.0,0.0,0.0,0.0,2033.0,3237.0,0.0,0.0,20000.0,2773.0,1417.0,0.0,0.0,1719.0,1667.0,0.0,4300.0,0.0,0.0,16.12000084,0.0,0.0,0.0,0.0,2340.0,0.0,0.0,1851.0,1125.0,0.0,0.0,5064.0,1833.0,1993.0,0.0,8333.0,1210.0,0.0,1376.0,1710.0,1542.0,1255.0,1456.0,1733.0,2466.0,0.0,0.0,0.0,2569.0,0.0,0.0,4083.0,0.0,2188.0,0.0,0.0,0.0,1664.0,0.0,2917.0,2451.0,2079.0,1500.0,0.0,0.0,4648.0,1014.0,1750.0,1872.0,2250.0,1603.0,0.0,0.0,3150.0,0.0,0.0,2436.0,0.0,0.0,2083.0,0.0,2785.0,1131.0,0.0,0.0,2157.0,913.0,1700.0,2857.0,0.0,4416.0,3683.0,0.0,5624.0,5302.0,1483.0,4416.0,6667.0,0.0,3013.0,0.0,1287.0,2004.0,2035.0,6666.0,3666.0,3428.0,1632.0,1800.0,1915.0,0.0,1742.0,0.0,1424.0,7166.0,2087.0,0.0,0.0,1430.0,1302.0,0.0,5500.0,0.0,0.0,0.0,0.0,2042.0,3906.0,0.0,536.0,0.0,2845.0,0.0,0.0,2524.0,663.0,1950.0,0.0,1783.0,0.0,2016.0,0.0,2375.0,3250.0,2333.0,4266.0,1032.0,1625.0,0.0,2669.0,2306.0,242.0,0.0,2054.0,0.0,0.0,0.0,0.0,2500.0,0.0,2064.0,1750.0,1451.0,0.0,1625.0,0.0,461.0,2210.0,2739.0,2232.0,2917.0,0.0,33837.0,0.0,0.0,1917.0,3000.0,1522.0,0.0,0.0,0.0,3416.0,0.0,0.0,3300.0,0.0,0.0,1000.0,0.0,0.0,0.0,41667.0,2792.0,0.0,4301.0,0.0,3800.0,2500.0,1411.0,1950.0,0.0,0.0,240.0,0.0,0.0],\"yaxis\":\"y\",\"type\":\"histogram\"}],                        {\"template\":{\"data\":{\"histogram2dcontour\":[{\"type\":\"histogram2dcontour\",\"colorbar\":{\"outlinewidth\":0,\"ticks\":\"\"},\"colorscale\":[[0.0,\"#0d0887\"],[0.1111111111111111,\"#46039f\"],[0.2222222222222222,\"#7201a8\"],[0.3333333333333333,\"#9c179e\"],[0.4444444444444444,\"#bd3786\"],[0.5555555555555556,\"#d8576b\"],[0.6666666666666666,\"#ed7953\"],[0.7777777777777778,\"#fb9f3a\"],[0.8888888888888888,\"#fdca26\"],[1.0,\"#f0f921\"]]}],\"choropleth\":[{\"type\":\"choropleth\",\"colorbar\":{\"outlinewidth\":0,\"ticks\":\"\"}}],\"histogram2d\":[{\"type\":\"histogram2d\",\"colorbar\":{\"outlinewidth\":0,\"ticks\":\"\"},\"colorscale\":[[0.0,\"#0d0887\"],[0.1111111111111111,\"#46039f\"],[0.2222222222222222,\"#7201a8\"],[0.3333333333333333,\"#9c179e\"],[0.4444444444444444,\"#bd3786\"],[0.5555555555555556,\"#d8576b\"],[0.6666666666666666,\"#ed7953\"],[0.7777777777777778,\"#fb9f3a\"],[0.8888888888888888,\"#fdca26\"],[1.0,\"#f0f921\"]]}],\"heatmap\":[{\"type\":\"heatmap\",\"colorbar\":{\"outlinewidth\":0,\"ticks\":\"\"},\"colorscale\":[[0.0,\"#0d0887\"],[0.1111111111111111,\"#46039f\"],[0.2222222222222222,\"#7201a8\"],[0.3333333333333333,\"#9c179e\"],[0.4444444444444444,\"#bd3786\"],[0.5555555555555556,\"#d8576b\"],[0.6666666666666666,\"#ed7953\"],[0.7777777777777778,\"#fb9f3a\"],[0.8888888888888888,\"#fdca26\"],[1.0,\"#f0f921\"]]}],\"heatmapgl\":[{\"type\":\"heatmapgl\",\"colorbar\":{\"outlinewidth\":0,\"ticks\":\"\"},\"colorscale\":[[0.0,\"#0d0887\"],[0.1111111111111111,\"#46039f\"],[0.2222222222222222,\"#7201a8\"],[0.3333333333333333,\"#9c179e\"],[0.4444444444444444,\"#bd3786\"],[0.5555555555555556,\"#d8576b\"],[0.6666666666666666,\"#ed7953\"],[0.7777777777777778,\"#fb9f3a\"],[0.8888888888888888,\"#fdca26\"],[1.0,\"#f0f921\"]]}],\"contourcarpet\":[{\"type\":\"contourcarpet\",\"colorbar\":{\"outlinewidth\":0,\"ticks\":\"\"}}],\"contour\":[{\"type\":\"contour\",\"colorbar\":{\"outlinewidth\":0,\"ticks\":\"\"},\"colorscale\":[[0.0,\"#0d0887\"],[0.1111111111111111,\"#46039f\"],[0.2222222222222222,\"#7201a8\"],[0.3333333333333333,\"#9c179e\"],[0.4444444444444444,\"#bd3786\"],[0.5555555555555556,\"#d8576b\"],[0.6666666666666666,\"#ed7953\"],[0.7777777777777778,\"#fb9f3a\"],[0.8888888888888888,\"#fdca26\"],[1.0,\"#f0f921\"]]}],\"surface\":[{\"type\":\"surface\",\"colorbar\":{\"outlinewidth\":0,\"ticks\":\"\"},\"colorscale\":[[0.0,\"#0d0887\"],[0.1111111111111111,\"#46039f\"],[0.2222222222222222,\"#7201a8\"],[0.3333333333333333,\"#9c179e\"],[0.4444444444444444,\"#bd3786\"],[0.5555555555555556,\"#d8576b\"],[0.6666666666666666,\"#ed7953\"],[0.7777777777777778,\"#fb9f3a\"],[0.8888888888888888,\"#fdca26\"],[1.0,\"#f0f921\"]]}],\"mesh3d\":[{\"type\":\"mesh3d\",\"colorbar\":{\"outlinewidth\":0,\"ticks\":\"\"}}],\"scatter\":[{\"fillpattern\":{\"fillmode\":\"overlay\",\"size\":10,\"solidity\":0.2},\"type\":\"scatter\"}],\"parcoords\":[{\"type\":\"parcoords\",\"line\":{\"colorbar\":{\"outlinewidth\":0,\"ticks\":\"\"}}}],\"scatterpolargl\":[{\"type\":\"scatterpolargl\",\"marker\":{\"colorbar\":{\"outlinewidth\":0,\"ticks\":\"\"}}}],\"bar\":[{\"error_x\":{\"color\":\"#2a3f5f\"},\"error_y\":{\"color\":\"#2a3f5f\"},\"marker\":{\"line\":{\"color\":\"#E5ECF6\",\"width\":0.5},\"pattern\":{\"fillmode\":\"overlay\",\"size\":10,\"solidity\":0.2}},\"type\":\"bar\"}],\"scattergeo\":[{\"type\":\"scattergeo\",\"marker\":{\"colorbar\":{\"outlinewidth\":0,\"ticks\":\"\"}}}],\"scatterpolar\":[{\"type\":\"scatterpolar\",\"marker\":{\"colorbar\":{\"outlinewidth\":0,\"ticks\":\"\"}}}],\"histogram\":[{\"marker\":{\"pattern\":{\"fillmode\":\"overlay\",\"size\":10,\"solidity\":0.2}},\"type\":\"histogram\"}],\"scattergl\":[{\"type\":\"scattergl\",\"marker\":{\"colorbar\":{\"outlinewidth\":0,\"ticks\":\"\"}}}],\"scatter3d\":[{\"type\":\"scatter3d\",\"line\":{\"colorbar\":{\"outlinewidth\":0,\"ticks\":\"\"}},\"marker\":{\"colorbar\":{\"outlinewidth\":0,\"ticks\":\"\"}}}],\"scattermapbox\":[{\"type\":\"scattermapbox\",\"marker\":{\"colorbar\":{\"outlinewidth\":0,\"ticks\":\"\"}}}],\"scatterternary\":[{\"type\":\"scatterternary\",\"marker\":{\"colorbar\":{\"outlinewidth\":0,\"ticks\":\"\"}}}],\"scattercarpet\":[{\"type\":\"scattercarpet\",\"marker\":{\"colorbar\":{\"outlinewidth\":0,\"ticks\":\"\"}}}],\"carpet\":[{\"aaxis\":{\"endlinecolor\":\"#2a3f5f\",\"gridcolor\":\"white\",\"linecolor\":\"white\",\"minorgridcolor\":\"white\",\"startlinecolor\":\"#2a3f5f\"},\"baxis\":{\"endlinecolor\":\"#2a3f5f\",\"gridcolor\":\"white\",\"linecolor\":\"white\",\"minorgridcolor\":\"white\",\"startlinecolor\":\"#2a3f5f\"},\"type\":\"carpet\"}],\"table\":[{\"cells\":{\"fill\":{\"color\":\"#EBF0F8\"},\"line\":{\"color\":\"white\"}},\"header\":{\"fill\":{\"color\":\"#C8D4E3\"},\"line\":{\"color\":\"white\"}},\"type\":\"table\"}],\"barpolar\":[{\"marker\":{\"line\":{\"color\":\"#E5ECF6\",\"width\":0.5},\"pattern\":{\"fillmode\":\"overlay\",\"size\":10,\"solidity\":0.2}},\"type\":\"barpolar\"}],\"pie\":[{\"automargin\":true,\"type\":\"pie\"}]},\"layout\":{\"autotypenumbers\":\"strict\",\"colorway\":[\"#636efa\",\"#EF553B\",\"#00cc96\",\"#ab63fa\",\"#FFA15A\",\"#19d3f3\",\"#FF6692\",\"#B6E880\",\"#FF97FF\",\"#FECB52\"],\"font\":{\"color\":\"#2a3f5f\"},\"hovermode\":\"closest\",\"hoverlabel\":{\"align\":\"left\"},\"paper_bgcolor\":\"white\",\"plot_bgcolor\":\"#E5ECF6\",\"polar\":{\"bgcolor\":\"#E5ECF6\",\"angularaxis\":{\"gridcolor\":\"white\",\"linecolor\":\"white\",\"ticks\":\"\"},\"radialaxis\":{\"gridcolor\":\"white\",\"linecolor\":\"white\",\"ticks\":\"\"}},\"ternary\":{\"bgcolor\":\"#E5ECF6\",\"aaxis\":{\"gridcolor\":\"white\",\"linecolor\":\"white\",\"ticks\":\"\"},\"baxis\":{\"gridcolor\":\"white\",\"linecolor\":\"white\",\"ticks\":\"\"},\"caxis\":{\"gridcolor\":\"white\",\"linecolor\":\"white\",\"ticks\":\"\"}},\"coloraxis\":{\"colorbar\":{\"outlinewidth\":0,\"ticks\":\"\"}},\"colorscale\":{\"sequential\":[[0.0,\"#0d0887\"],[0.1111111111111111,\"#46039f\"],[0.2222222222222222,\"#7201a8\"],[0.3333333333333333,\"#9c179e\"],[0.4444444444444444,\"#bd3786\"],[0.5555555555555556,\"#d8576b\"],[0.6666666666666666,\"#ed7953\"],[0.7777777777777778,\"#fb9f3a\"],[0.8888888888888888,\"#fdca26\"],[1.0,\"#f0f921\"]],\"sequentialminus\":[[0.0,\"#0d0887\"],[0.1111111111111111,\"#46039f\"],[0.2222222222222222,\"#7201a8\"],[0.3333333333333333,\"#9c179e\"],[0.4444444444444444,\"#bd3786\"],[0.5555555555555556,\"#d8576b\"],[0.6666666666666666,\"#ed7953\"],[0.7777777777777778,\"#fb9f3a\"],[0.8888888888888888,\"#fdca26\"],[1.0,\"#f0f921\"]],\"diverging\":[[0,\"#8e0152\"],[0.1,\"#c51b7d\"],[0.2,\"#de77ae\"],[0.3,\"#f1b6da\"],[0.4,\"#fde0ef\"],[0.5,\"#f7f7f7\"],[0.6,\"#e6f5d0\"],[0.7,\"#b8e186\"],[0.8,\"#7fbc41\"],[0.9,\"#4d9221\"],[1,\"#276419\"]]},\"xaxis\":{\"gridcolor\":\"white\",\"linecolor\":\"white\",\"ticks\":\"\",\"title\":{\"standoff\":15},\"zerolinecolor\":\"white\",\"automargin\":true,\"zerolinewidth\":2},\"yaxis\":{\"gridcolor\":\"white\",\"linecolor\":\"white\",\"ticks\":\"\",\"title\":{\"standoff\":15},\"zerolinecolor\":\"white\",\"automargin\":true,\"zerolinewidth\":2},\"scene\":{\"xaxis\":{\"backgroundcolor\":\"#E5ECF6\",\"gridcolor\":\"white\",\"linecolor\":\"white\",\"showbackground\":true,\"ticks\":\"\",\"zerolinecolor\":\"white\",\"gridwidth\":2},\"yaxis\":{\"backgroundcolor\":\"#E5ECF6\",\"gridcolor\":\"white\",\"linecolor\":\"white\",\"showbackground\":true,\"ticks\":\"\",\"zerolinecolor\":\"white\",\"gridwidth\":2},\"zaxis\":{\"backgroundcolor\":\"#E5ECF6\",\"gridcolor\":\"white\",\"linecolor\":\"white\",\"showbackground\":true,\"ticks\":\"\",\"zerolinecolor\":\"white\",\"gridwidth\":2}},\"shapedefaults\":{\"line\":{\"color\":\"#2a3f5f\"}},\"annotationdefaults\":{\"arrowcolor\":\"#2a3f5f\",\"arrowhead\":0,\"arrowwidth\":1},\"geo\":{\"bgcolor\":\"white\",\"landcolor\":\"#E5ECF6\",\"subunitcolor\":\"white\",\"showland\":true,\"showlakes\":true,\"lakecolor\":\"white\"},\"title\":{\"x\":0.05},\"mapbox\":{\"style\":\"light\"}}},\"xaxis\":{\"anchor\":\"y\",\"domain\":[0.0,1.0],\"title\":{\"text\":\"CoapplicantIncome\"}},\"yaxis\":{\"anchor\":\"x\",\"domain\":[0.0,1.0],\"title\":{\"text\":\"sum of CoapplicantIncome\"}},\"legend\":{\"tracegroupgap\":0},\"margin\":{\"t\":60},\"barmode\":\"relative\",\"title\":{\"text\":\"CoapplicantIncome\"}},                        {\"responsive\": true}                    ).then(function(){\n",
              "                            \n",
              "var gd = document.getElementById('c44a4564-ac79-49bf-93a2-5413bbd23f63');\n",
              "var x = new MutationObserver(function (mutations, observer) {{\n",
              "        var display = window.getComputedStyle(gd).display;\n",
              "        if (!display || display === 'none') {{\n",
              "            console.log([gd, 'removed!']);\n",
              "            Plotly.purge(gd);\n",
              "            observer.disconnect();\n",
              "        }}\n",
              "}});\n",
              "\n",
              "// Listen for the removal of the full notebook cells\n",
              "var notebookContainer = gd.closest('#notebook-container');\n",
              "if (notebookContainer) {{\n",
              "    x.observe(notebookContainer, {childList: true});\n",
              "}}\n",
              "\n",
              "// Listen for the clearing of the current output cell\n",
              "var outputEl = gd.closest('.output');\n",
              "if (outputEl) {{\n",
              "    x.observe(outputEl, {childList: true});\n",
              "}}\n",
              "\n",
              "                        })                };                            </script>        </div>\n",
              "</body>\n",
              "</html>"
            ]
          },
          "metadata": {}
        },
        {
          "output_type": "display_data",
          "data": {
            "text/html": [
              "<html>\n",
              "<head><meta charset=\"utf-8\" /></head>\n",
              "<body>\n",
              "    <div>            <script src=\"https://cdnjs.cloudflare.com/ajax/libs/mathjax/2.7.5/MathJax.js?config=TeX-AMS-MML_SVG\"></script><script type=\"text/javascript\">if (window.MathJax && window.MathJax.Hub && window.MathJax.Hub.Config) {window.MathJax.Hub.Config({SVG: {font: \"STIX-Web\"}});}</script>                <script type=\"text/javascript\">window.PlotlyConfig = {MathJaxConfig: 'local'};</script>\n",
              "        <script src=\"https://cdn.plot.ly/plotly-2.18.2.min.js\"></script>                <div id=\"14e8375c-42db-489a-b5ae-cd8d3ec6803a\" class=\"plotly-graph-div\" style=\"height:525px; width:100%;\"></div>            <script type=\"text/javascript\">                                    window.PLOTLYENV=window.PLOTLYENV || {};                                    if (document.getElementById(\"14e8375c-42db-489a-b5ae-cd8d3ec6803a\")) {                    Plotly.newPlot(                        \"14e8375c-42db-489a-b5ae-cd8d3ec6803a\",                        [{\"alignmentgroup\":\"True\",\"bingroup\":\"x\",\"histfunc\":\"sum\",\"hovertemplate\":\"LoanAmount=%{x}<br>sum of LoanAmount=%{y}<extra></extra>\",\"legendgroup\":\"\",\"marker\":{\"color\":\"#636efa\",\"pattern\":{\"shape\":\"\"}},\"name\":\"\",\"offsetgroup\":\"\",\"orientation\":\"v\",\"showlegend\":false,\"x\":[128.0,128.0,66.0,120.0,141.0,267.0,95.0,158.0,168.0,349.0,70.0,109.0,200.0,114.0,17.0,125.0,100.0,76.0,133.0,115.0,104.0,315.0,116.0,112.0,151.0,191.0,122.0,110.0,35.0,120.0,201.0,74.0,106.0,114.0,320.0,128.0,100.0,144.0,184.0,110.0,80.0,47.0,75.0,134.0,96.0,88.0,44.0,144.0,120.0,144.0,100.0,120.0,112.0,134.0,286.0,97.0,96.0,135.0,180.0,144.0,120.0,99.0,165.0,128.0,116.0,258.0,126.0,312.0,125.0,136.0,172.0,97.0,81.0,95.0,187.0,113.0,176.0,110.0,180.0,130.0,111.0,128.0,167.0,265.0,50.0,136.0,99.0,104.0,210.0,175.0,131.0,188.0,81.0,122.0,25.0,128.0,137.0,50.0,115.0,131.0,133.0,151.0,128.0,128.0,160.0,100.0,225.0,120.0,216.0,94.0,136.0,139.0,152.0,128.0,118.0,185.0,154.0,85.0,175.0,259.0,180.0,44.0,137.0,81.0,194.0,93.0,370.0,128.0,160.0,182.0,650.0,74.0,70.0,25.0,102.0,290.0,84.0,88.0,242.0,129.0,185.0,168.0,175.0,122.0,187.0,100.0,70.0,30.0,225.0,125.0,118.0,152.0,244.0,113.0,50.0,600.0,160.0,187.0,120.0,255.0,98.0,275.0,121.0,158.0,75.0,182.0,112.0,129.0,63.0,200.0,95.0,700.0,81.0,187.0,87.0,116.0,101.0,495.0,116.0,102.0,180.0,67.0,73.0,260.0,108.0,120.0,66.0,58.0,168.0,188.0,48.0,164.0,160.0,76.0,120.0,170.0,187.0,120.0,113.0,83.0,90.0,166.0,128.0,135.0,124.0,120.0,80.0,55.0,59.0,127.0,214.0,128.0,240.0,130.0,137.0,100.0,135.0,131.0,72.0,127.0,60.0,116.0,144.0,175.0,128.0,170.0,138.0,210.0,158.0,200.0,104.0,42.0,120.0,280.0,140.0,170.0,255.0,122.0,112.0,96.0,120.0,140.0,155.0,108.0,123.0,120.0,112.0,137.0,123.0,90.0,201.0,138.0,104.0,279.0,192.0,255.0,115.0,94.0,304.0,128.0,330.0,134.0,155.0,120.0,128.0,151.0,150.0,160.0,135.0,90.0,30.0,136.0,126.0,150.0,90.0,115.0,207.0,80.0,436.0,124.0,158.0,112.0,78.0,54.0,128.0,89.0,99.0,120.0,115.0,187.0,139.0,127.0,134.0,143.0,172.0,110.0,200.0,135.0,151.0,113.0,93.0,105.0,132.0,96.0,140.0,128.0,135.0,104.0,480.0,185.0,84.0,111.0,56.0,144.0,159.0,111.0,120.0,88.0,112.0,155.0,115.0,124.0,128.0,132.0,300.0,376.0,130.0,184.0,110.0,67.0,117.0,98.0,71.0,490.0,182.0,70.0,160.0,176.0,128.0,71.0,173.0,46.0,158.0,74.0,125.0,160.0,152.0,126.0,259.0,187.0,228.0,308.0,95.0,105.0,130.0,116.0,165.0,67.0,100.0,200.0,81.0,236.0,130.0,95.0,141.0,133.0,96.0,124.0,175.0,570.0,55.0,155.0,380.0,111.0,110.0,120.0,130.0,130.0,71.0,130.0,128.0,296.0,156.0,128.0,100.0,113.0,132.0,128.0,136.0,125.0,185.0,275.0,120.0,113.0,113.0,135.0,71.0,95.0,109.0,103.0,45.0,65.0,103.0,53.0,194.0,115.0,115.0,66.0,152.0,360.0,62.0,160.0,218.0,110.0,178.0,60.0,160.0,239.0,112.0,138.0,138.0,80.0,100.0,110.0,96.0,121.0,81.0,133.0,87.0,60.0,150.0,105.0,405.0,143.0,100.0,128.0,50.0,128.0,187.0,138.0,187.0,180.0,148.0,152.0,175.0,130.0,110.0,55.0,150.0,190.0,125.0,60.0,149.0,90.0,84.0,96.0,118.0,173.0,136.0,160.0,160.0,128.0,153.0,132.0,98.0,140.0,70.0,110.0,98.0,110.0,162.0,113.0,100.0,93.0,162.0,150.0,230.0,132.0,86.0,128.0,154.0,113.0,128.0,234.0,246.0,131.0,80.0,500.0,160.0,75.0,96.0,186.0,110.0,225.0,119.0,105.0,107.0,111.0,95.0,209.0,113.0,100.0,208.0,138.0,124.0,243.0,480.0,96.0,188.0,40.0,100.0,250.0,148.0,70.0,311.0,150.0,113.0,123.0,185.0,95.0,45.0,55.0,100.0,480.0,128.0,400.0,110.0,161.0,94.0,130.0,216.0,100.0,110.0,196.0,125.0,126.0,324.0,107.0,66.0,157.0,140.0,99.0,95.0,128.0,102.0,155.0,80.0,145.0,103.0,110.0,128.0,128.0,158.0,181.0,132.0,26.0,84.0,260.0,162.0,182.0,108.0,600.0,211.0,132.0,258.0,120.0,70.0,123.0,9.0,104.0,186.0,165.0,275.0,187.0,150.0,108.0,136.0,110.0,107.0,161.0,205.0,90.0,36.0,61.0,146.0,172.0,104.0,70.0,94.0,106.0,56.0,205.0,292.0,142.0,260.0,110.0,187.0,88.0,180.0,192.0,350.0,155.0,128.0,172.0,496.0,128.0,173.0,157.0,108.0,71.0,40.0,253.0,187.0,133.0],\"xaxis\":\"x\",\"y\":[128.0,128.0,66.0,120.0,141.0,267.0,95.0,158.0,168.0,349.0,70.0,109.0,200.0,114.0,17.0,125.0,100.0,76.0,133.0,115.0,104.0,315.0,116.0,112.0,151.0,191.0,122.0,110.0,35.0,120.0,201.0,74.0,106.0,114.0,320.0,128.0,100.0,144.0,184.0,110.0,80.0,47.0,75.0,134.0,96.0,88.0,44.0,144.0,120.0,144.0,100.0,120.0,112.0,134.0,286.0,97.0,96.0,135.0,180.0,144.0,120.0,99.0,165.0,128.0,116.0,258.0,126.0,312.0,125.0,136.0,172.0,97.0,81.0,95.0,187.0,113.0,176.0,110.0,180.0,130.0,111.0,128.0,167.0,265.0,50.0,136.0,99.0,104.0,210.0,175.0,131.0,188.0,81.0,122.0,25.0,128.0,137.0,50.0,115.0,131.0,133.0,151.0,128.0,128.0,160.0,100.0,225.0,120.0,216.0,94.0,136.0,139.0,152.0,128.0,118.0,185.0,154.0,85.0,175.0,259.0,180.0,44.0,137.0,81.0,194.0,93.0,370.0,128.0,160.0,182.0,650.0,74.0,70.0,25.0,102.0,290.0,84.0,88.0,242.0,129.0,185.0,168.0,175.0,122.0,187.0,100.0,70.0,30.0,225.0,125.0,118.0,152.0,244.0,113.0,50.0,600.0,160.0,187.0,120.0,255.0,98.0,275.0,121.0,158.0,75.0,182.0,112.0,129.0,63.0,200.0,95.0,700.0,81.0,187.0,87.0,116.0,101.0,495.0,116.0,102.0,180.0,67.0,73.0,260.0,108.0,120.0,66.0,58.0,168.0,188.0,48.0,164.0,160.0,76.0,120.0,170.0,187.0,120.0,113.0,83.0,90.0,166.0,128.0,135.0,124.0,120.0,80.0,55.0,59.0,127.0,214.0,128.0,240.0,130.0,137.0,100.0,135.0,131.0,72.0,127.0,60.0,116.0,144.0,175.0,128.0,170.0,138.0,210.0,158.0,200.0,104.0,42.0,120.0,280.0,140.0,170.0,255.0,122.0,112.0,96.0,120.0,140.0,155.0,108.0,123.0,120.0,112.0,137.0,123.0,90.0,201.0,138.0,104.0,279.0,192.0,255.0,115.0,94.0,304.0,128.0,330.0,134.0,155.0,120.0,128.0,151.0,150.0,160.0,135.0,90.0,30.0,136.0,126.0,150.0,90.0,115.0,207.0,80.0,436.0,124.0,158.0,112.0,78.0,54.0,128.0,89.0,99.0,120.0,115.0,187.0,139.0,127.0,134.0,143.0,172.0,110.0,200.0,135.0,151.0,113.0,93.0,105.0,132.0,96.0,140.0,128.0,135.0,104.0,480.0,185.0,84.0,111.0,56.0,144.0,159.0,111.0,120.0,88.0,112.0,155.0,115.0,124.0,128.0,132.0,300.0,376.0,130.0,184.0,110.0,67.0,117.0,98.0,71.0,490.0,182.0,70.0,160.0,176.0,128.0,71.0,173.0,46.0,158.0,74.0,125.0,160.0,152.0,126.0,259.0,187.0,228.0,308.0,95.0,105.0,130.0,116.0,165.0,67.0,100.0,200.0,81.0,236.0,130.0,95.0,141.0,133.0,96.0,124.0,175.0,570.0,55.0,155.0,380.0,111.0,110.0,120.0,130.0,130.0,71.0,130.0,128.0,296.0,156.0,128.0,100.0,113.0,132.0,128.0,136.0,125.0,185.0,275.0,120.0,113.0,113.0,135.0,71.0,95.0,109.0,103.0,45.0,65.0,103.0,53.0,194.0,115.0,115.0,66.0,152.0,360.0,62.0,160.0,218.0,110.0,178.0,60.0,160.0,239.0,112.0,138.0,138.0,80.0,100.0,110.0,96.0,121.0,81.0,133.0,87.0,60.0,150.0,105.0,405.0,143.0,100.0,128.0,50.0,128.0,187.0,138.0,187.0,180.0,148.0,152.0,175.0,130.0,110.0,55.0,150.0,190.0,125.0,60.0,149.0,90.0,84.0,96.0,118.0,173.0,136.0,160.0,160.0,128.0,153.0,132.0,98.0,140.0,70.0,110.0,98.0,110.0,162.0,113.0,100.0,93.0,162.0,150.0,230.0,132.0,86.0,128.0,154.0,113.0,128.0,234.0,246.0,131.0,80.0,500.0,160.0,75.0,96.0,186.0,110.0,225.0,119.0,105.0,107.0,111.0,95.0,209.0,113.0,100.0,208.0,138.0,124.0,243.0,480.0,96.0,188.0,40.0,100.0,250.0,148.0,70.0,311.0,150.0,113.0,123.0,185.0,95.0,45.0,55.0,100.0,480.0,128.0,400.0,110.0,161.0,94.0,130.0,216.0,100.0,110.0,196.0,125.0,126.0,324.0,107.0,66.0,157.0,140.0,99.0,95.0,128.0,102.0,155.0,80.0,145.0,103.0,110.0,128.0,128.0,158.0,181.0,132.0,26.0,84.0,260.0,162.0,182.0,108.0,600.0,211.0,132.0,258.0,120.0,70.0,123.0,9.0,104.0,186.0,165.0,275.0,187.0,150.0,108.0,136.0,110.0,107.0,161.0,205.0,90.0,36.0,61.0,146.0,172.0,104.0,70.0,94.0,106.0,56.0,205.0,292.0,142.0,260.0,110.0,187.0,88.0,180.0,192.0,350.0,155.0,128.0,172.0,496.0,128.0,173.0,157.0,108.0,71.0,40.0,253.0,187.0,133.0],\"yaxis\":\"y\",\"type\":\"histogram\"}],                        {\"template\":{\"data\":{\"histogram2dcontour\":[{\"type\":\"histogram2dcontour\",\"colorbar\":{\"outlinewidth\":0,\"ticks\":\"\"},\"colorscale\":[[0.0,\"#0d0887\"],[0.1111111111111111,\"#46039f\"],[0.2222222222222222,\"#7201a8\"],[0.3333333333333333,\"#9c179e\"],[0.4444444444444444,\"#bd3786\"],[0.5555555555555556,\"#d8576b\"],[0.6666666666666666,\"#ed7953\"],[0.7777777777777778,\"#fb9f3a\"],[0.8888888888888888,\"#fdca26\"],[1.0,\"#f0f921\"]]}],\"choropleth\":[{\"type\":\"choropleth\",\"colorbar\":{\"outlinewidth\":0,\"ticks\":\"\"}}],\"histogram2d\":[{\"type\":\"histogram2d\",\"colorbar\":{\"outlinewidth\":0,\"ticks\":\"\"},\"colorscale\":[[0.0,\"#0d0887\"],[0.1111111111111111,\"#46039f\"],[0.2222222222222222,\"#7201a8\"],[0.3333333333333333,\"#9c179e\"],[0.4444444444444444,\"#bd3786\"],[0.5555555555555556,\"#d8576b\"],[0.6666666666666666,\"#ed7953\"],[0.7777777777777778,\"#fb9f3a\"],[0.8888888888888888,\"#fdca26\"],[1.0,\"#f0f921\"]]}],\"heatmap\":[{\"type\":\"heatmap\",\"colorbar\":{\"outlinewidth\":0,\"ticks\":\"\"},\"colorscale\":[[0.0,\"#0d0887\"],[0.1111111111111111,\"#46039f\"],[0.2222222222222222,\"#7201a8\"],[0.3333333333333333,\"#9c179e\"],[0.4444444444444444,\"#bd3786\"],[0.5555555555555556,\"#d8576b\"],[0.6666666666666666,\"#ed7953\"],[0.7777777777777778,\"#fb9f3a\"],[0.8888888888888888,\"#fdca26\"],[1.0,\"#f0f921\"]]}],\"heatmapgl\":[{\"type\":\"heatmapgl\",\"colorbar\":{\"outlinewidth\":0,\"ticks\":\"\"},\"colorscale\":[[0.0,\"#0d0887\"],[0.1111111111111111,\"#46039f\"],[0.2222222222222222,\"#7201a8\"],[0.3333333333333333,\"#9c179e\"],[0.4444444444444444,\"#bd3786\"],[0.5555555555555556,\"#d8576b\"],[0.6666666666666666,\"#ed7953\"],[0.7777777777777778,\"#fb9f3a\"],[0.8888888888888888,\"#fdca26\"],[1.0,\"#f0f921\"]]}],\"contourcarpet\":[{\"type\":\"contourcarpet\",\"colorbar\":{\"outlinewidth\":0,\"ticks\":\"\"}}],\"contour\":[{\"type\":\"contour\",\"colorbar\":{\"outlinewidth\":0,\"ticks\":\"\"},\"colorscale\":[[0.0,\"#0d0887\"],[0.1111111111111111,\"#46039f\"],[0.2222222222222222,\"#7201a8\"],[0.3333333333333333,\"#9c179e\"],[0.4444444444444444,\"#bd3786\"],[0.5555555555555556,\"#d8576b\"],[0.6666666666666666,\"#ed7953\"],[0.7777777777777778,\"#fb9f3a\"],[0.8888888888888888,\"#fdca26\"],[1.0,\"#f0f921\"]]}],\"surface\":[{\"type\":\"surface\",\"colorbar\":{\"outlinewidth\":0,\"ticks\":\"\"},\"colorscale\":[[0.0,\"#0d0887\"],[0.1111111111111111,\"#46039f\"],[0.2222222222222222,\"#7201a8\"],[0.3333333333333333,\"#9c179e\"],[0.4444444444444444,\"#bd3786\"],[0.5555555555555556,\"#d8576b\"],[0.6666666666666666,\"#ed7953\"],[0.7777777777777778,\"#fb9f3a\"],[0.8888888888888888,\"#fdca26\"],[1.0,\"#f0f921\"]]}],\"mesh3d\":[{\"type\":\"mesh3d\",\"colorbar\":{\"outlinewidth\":0,\"ticks\":\"\"}}],\"scatter\":[{\"fillpattern\":{\"fillmode\":\"overlay\",\"size\":10,\"solidity\":0.2},\"type\":\"scatter\"}],\"parcoords\":[{\"type\":\"parcoords\",\"line\":{\"colorbar\":{\"outlinewidth\":0,\"ticks\":\"\"}}}],\"scatterpolargl\":[{\"type\":\"scatterpolargl\",\"marker\":{\"colorbar\":{\"outlinewidth\":0,\"ticks\":\"\"}}}],\"bar\":[{\"error_x\":{\"color\":\"#2a3f5f\"},\"error_y\":{\"color\":\"#2a3f5f\"},\"marker\":{\"line\":{\"color\":\"#E5ECF6\",\"width\":0.5},\"pattern\":{\"fillmode\":\"overlay\",\"size\":10,\"solidity\":0.2}},\"type\":\"bar\"}],\"scattergeo\":[{\"type\":\"scattergeo\",\"marker\":{\"colorbar\":{\"outlinewidth\":0,\"ticks\":\"\"}}}],\"scatterpolar\":[{\"type\":\"scatterpolar\",\"marker\":{\"colorbar\":{\"outlinewidth\":0,\"ticks\":\"\"}}}],\"histogram\":[{\"marker\":{\"pattern\":{\"fillmode\":\"overlay\",\"size\":10,\"solidity\":0.2}},\"type\":\"histogram\"}],\"scattergl\":[{\"type\":\"scattergl\",\"marker\":{\"colorbar\":{\"outlinewidth\":0,\"ticks\":\"\"}}}],\"scatter3d\":[{\"type\":\"scatter3d\",\"line\":{\"colorbar\":{\"outlinewidth\":0,\"ticks\":\"\"}},\"marker\":{\"colorbar\":{\"outlinewidth\":0,\"ticks\":\"\"}}}],\"scattermapbox\":[{\"type\":\"scattermapbox\",\"marker\":{\"colorbar\":{\"outlinewidth\":0,\"ticks\":\"\"}}}],\"scatterternary\":[{\"type\":\"scatterternary\",\"marker\":{\"colorbar\":{\"outlinewidth\":0,\"ticks\":\"\"}}}],\"scattercarpet\":[{\"type\":\"scattercarpet\",\"marker\":{\"colorbar\":{\"outlinewidth\":0,\"ticks\":\"\"}}}],\"carpet\":[{\"aaxis\":{\"endlinecolor\":\"#2a3f5f\",\"gridcolor\":\"white\",\"linecolor\":\"white\",\"minorgridcolor\":\"white\",\"startlinecolor\":\"#2a3f5f\"},\"baxis\":{\"endlinecolor\":\"#2a3f5f\",\"gridcolor\":\"white\",\"linecolor\":\"white\",\"minorgridcolor\":\"white\",\"startlinecolor\":\"#2a3f5f\"},\"type\":\"carpet\"}],\"table\":[{\"cells\":{\"fill\":{\"color\":\"#EBF0F8\"},\"line\":{\"color\":\"white\"}},\"header\":{\"fill\":{\"color\":\"#C8D4E3\"},\"line\":{\"color\":\"white\"}},\"type\":\"table\"}],\"barpolar\":[{\"marker\":{\"line\":{\"color\":\"#E5ECF6\",\"width\":0.5},\"pattern\":{\"fillmode\":\"overlay\",\"size\":10,\"solidity\":0.2}},\"type\":\"barpolar\"}],\"pie\":[{\"automargin\":true,\"type\":\"pie\"}]},\"layout\":{\"autotypenumbers\":\"strict\",\"colorway\":[\"#636efa\",\"#EF553B\",\"#00cc96\",\"#ab63fa\",\"#FFA15A\",\"#19d3f3\",\"#FF6692\",\"#B6E880\",\"#FF97FF\",\"#FECB52\"],\"font\":{\"color\":\"#2a3f5f\"},\"hovermode\":\"closest\",\"hoverlabel\":{\"align\":\"left\"},\"paper_bgcolor\":\"white\",\"plot_bgcolor\":\"#E5ECF6\",\"polar\":{\"bgcolor\":\"#E5ECF6\",\"angularaxis\":{\"gridcolor\":\"white\",\"linecolor\":\"white\",\"ticks\":\"\"},\"radialaxis\":{\"gridcolor\":\"white\",\"linecolor\":\"white\",\"ticks\":\"\"}},\"ternary\":{\"bgcolor\":\"#E5ECF6\",\"aaxis\":{\"gridcolor\":\"white\",\"linecolor\":\"white\",\"ticks\":\"\"},\"baxis\":{\"gridcolor\":\"white\",\"linecolor\":\"white\",\"ticks\":\"\"},\"caxis\":{\"gridcolor\":\"white\",\"linecolor\":\"white\",\"ticks\":\"\"}},\"coloraxis\":{\"colorbar\":{\"outlinewidth\":0,\"ticks\":\"\"}},\"colorscale\":{\"sequential\":[[0.0,\"#0d0887\"],[0.1111111111111111,\"#46039f\"],[0.2222222222222222,\"#7201a8\"],[0.3333333333333333,\"#9c179e\"],[0.4444444444444444,\"#bd3786\"],[0.5555555555555556,\"#d8576b\"],[0.6666666666666666,\"#ed7953\"],[0.7777777777777778,\"#fb9f3a\"],[0.8888888888888888,\"#fdca26\"],[1.0,\"#f0f921\"]],\"sequentialminus\":[[0.0,\"#0d0887\"],[0.1111111111111111,\"#46039f\"],[0.2222222222222222,\"#7201a8\"],[0.3333333333333333,\"#9c179e\"],[0.4444444444444444,\"#bd3786\"],[0.5555555555555556,\"#d8576b\"],[0.6666666666666666,\"#ed7953\"],[0.7777777777777778,\"#fb9f3a\"],[0.8888888888888888,\"#fdca26\"],[1.0,\"#f0f921\"]],\"diverging\":[[0,\"#8e0152\"],[0.1,\"#c51b7d\"],[0.2,\"#de77ae\"],[0.3,\"#f1b6da\"],[0.4,\"#fde0ef\"],[0.5,\"#f7f7f7\"],[0.6,\"#e6f5d0\"],[0.7,\"#b8e186\"],[0.8,\"#7fbc41\"],[0.9,\"#4d9221\"],[1,\"#276419\"]]},\"xaxis\":{\"gridcolor\":\"white\",\"linecolor\":\"white\",\"ticks\":\"\",\"title\":{\"standoff\":15},\"zerolinecolor\":\"white\",\"automargin\":true,\"zerolinewidth\":2},\"yaxis\":{\"gridcolor\":\"white\",\"linecolor\":\"white\",\"ticks\":\"\",\"title\":{\"standoff\":15},\"zerolinecolor\":\"white\",\"automargin\":true,\"zerolinewidth\":2},\"scene\":{\"xaxis\":{\"backgroundcolor\":\"#E5ECF6\",\"gridcolor\":\"white\",\"linecolor\":\"white\",\"showbackground\":true,\"ticks\":\"\",\"zerolinecolor\":\"white\",\"gridwidth\":2},\"yaxis\":{\"backgroundcolor\":\"#E5ECF6\",\"gridcolor\":\"white\",\"linecolor\":\"white\",\"showbackground\":true,\"ticks\":\"\",\"zerolinecolor\":\"white\",\"gridwidth\":2},\"zaxis\":{\"backgroundcolor\":\"#E5ECF6\",\"gridcolor\":\"white\",\"linecolor\":\"white\",\"showbackground\":true,\"ticks\":\"\",\"zerolinecolor\":\"white\",\"gridwidth\":2}},\"shapedefaults\":{\"line\":{\"color\":\"#2a3f5f\"}},\"annotationdefaults\":{\"arrowcolor\":\"#2a3f5f\",\"arrowhead\":0,\"arrowwidth\":1},\"geo\":{\"bgcolor\":\"white\",\"landcolor\":\"#E5ECF6\",\"subunitcolor\":\"white\",\"showland\":true,\"showlakes\":true,\"lakecolor\":\"white\"},\"title\":{\"x\":0.05},\"mapbox\":{\"style\":\"light\"}}},\"xaxis\":{\"anchor\":\"y\",\"domain\":[0.0,1.0],\"title\":{\"text\":\"LoanAmount\"}},\"yaxis\":{\"anchor\":\"x\",\"domain\":[0.0,1.0],\"title\":{\"text\":\"sum of LoanAmount\"}},\"legend\":{\"tracegroupgap\":0},\"margin\":{\"t\":60},\"barmode\":\"relative\",\"title\":{\"text\":\"LoanAmount\"}},                        {\"responsive\": true}                    ).then(function(){\n",
              "                            \n",
              "var gd = document.getElementById('14e8375c-42db-489a-b5ae-cd8d3ec6803a');\n",
              "var x = new MutationObserver(function (mutations, observer) {{\n",
              "        var display = window.getComputedStyle(gd).display;\n",
              "        if (!display || display === 'none') {{\n",
              "            console.log([gd, 'removed!']);\n",
              "            Plotly.purge(gd);\n",
              "            observer.disconnect();\n",
              "        }}\n",
              "}});\n",
              "\n",
              "// Listen for the removal of the full notebook cells\n",
              "var notebookContainer = gd.closest('#notebook-container');\n",
              "if (notebookContainer) {{\n",
              "    x.observe(notebookContainer, {childList: true});\n",
              "}}\n",
              "\n",
              "// Listen for the clearing of the current output cell\n",
              "var outputEl = gd.closest('.output');\n",
              "if (outputEl) {{\n",
              "    x.observe(outputEl, {childList: true});\n",
              "}}\n",
              "\n",
              "                        })                };                            </script>        </div>\n",
              "</body>\n",
              "</html>"
            ]
          },
          "metadata": {}
        }
      ]
    },
    {
      "cell_type": "markdown",
      "source": [
        "Numerical variables are not normaly distributed."
      ],
      "metadata": {
        "id": "RXkevQ_i1kUk"
      }
    },
    {
      "cell_type": "code",
      "source": [
        "#Getting log value :->\n",
        "\n",
        "data[\"ApplicantIncome\"] = np.log(data[\"ApplicantIncome\"])\n",
        "#As \"CoapplicantIncome\" columns has some \"0\" values we will get log values except \"0\"\n",
        "data[\"CoapplicantIncome\"] = [np.log(i) if i!=0 else 0 for i in data[\"CoapplicantIncome\"]]\n",
        "data[\"LoanAmount\"] = np.log(data[\"LoanAmount\"])"
      ],
      "metadata": {
        "id": "Kq_A_wdELNc5"
      },
      "execution_count": null,
      "outputs": []
    },
    {
      "cell_type": "code",
      "source": [
        "print(\"-------After converting to Normal Distributed data-------\")\n",
        "\n",
        "print(\"\\nMean:->\\n\")\n",
        "print(\"ApplicantIncome: \",np.mean(data[\"ApplicantIncome\"]))\n",
        "print(\"CoapplicantIncome: \",np.mean(data[\"CoapplicantIncome\"]))\n",
        "print(\"LoanAmount: \",np.mean(data[\"LoanAmount\"]))\n",
        "\n",
        "print(\"\\nMode:->\\n\")\n",
        "print(\"ApplicantIncome: \",stats.mode(data[\"ApplicantIncome\"])[0])\n",
        "print(\"CoapplicantIncome: \",stats.mode(data[\"CoapplicantIncome\"])[0])\n",
        "print(\"LoanAmount: \",stats.mode(data[\"LoanAmount\"])[0])\n",
        "\n",
        "print(\"\\nMedian:->\\n\")\n",
        "print(\"ApplicantIncome: \",np.median(data[\"ApplicantIncome\"]))\n",
        "print(\"CoapplicantIncome: \",np.median(data[\"CoapplicantIncome\"]))\n",
        "print(\"LoanAmount: \",np.median(data[\"LoanAmount\"]))\n",
        "\n",
        "print(\"\\nStandard Deviation:->\\n\")\n",
        "print(\"ApplicantIncome: \",np.std(data[\"ApplicantIncome\"]))\n",
        "print(\"CoapplicantIncome: \",np.std(data[\"CoapplicantIncome\"]))\n",
        "print(\"LoanAmount: \",np.std(data[\"LoanAmount\"]))"
      ],
      "metadata": {
        "colab": {
          "base_uri": "https://localhost:8080/"
        },
        "id": "NN4EgNj7LeGW",
        "outputId": "76bb6be1-54b7-468d-bf9e-b018d762dcff"
      },
      "execution_count": null,
      "outputs": [
        {
          "output_type": "stream",
          "name": "stdout",
          "text": [
            "-------After converting to Normal Distributed data-------\n",
            "\n",
            "Mean:->\n",
            "\n",
            "ApplicantIncome:  8.341213093227006\n",
            "CoapplicantIncome:  4.289733227820409\n",
            "LoanAmount:  4.857250194811088\n",
            "\n",
            "Mode:->\n",
            "\n",
            "ApplicantIncome:  [7.82404601]\n",
            "CoapplicantIncome:  [0.]\n",
            "LoanAmount:  [4.85203026]\n",
            "\n",
            "Median:->\n",
            "\n",
            "ApplicantIncome:  8.246040412315828\n",
            "CoapplicantIncome:  7.080283635438671\n",
            "LoanAmount:  4.852030263919617\n",
            "\n",
            "Standard Deviation:->\n",
            "\n",
            "ApplicantIncome:  0.6447375297521023\n",
            "CoapplicantIncome:  3.8725225987499248\n",
            "LoanAmount:  0.49559166063018034\n"
          ]
        }
      ]
    },
    {
      "cell_type": "code",
      "source": [
        "plt.figure(figsize=(10,4))\n",
        "fig = px.histogram(data[\"ApplicantIncome\"],x =\"ApplicantIncome\" ,y = \"ApplicantIncome\" )\n",
        "fig.update_layout(title=\"ApplicantIncome\")\n",
        "fig.show()\n",
        "\n",
        "fig = px.histogram(data[\"CoapplicantIncome\"],x =\"CoapplicantIncome\" ,y = \"CoapplicantIncome\" )\n",
        "fig.update_layout(title=\"CoapplicantIncome\")\n",
        "fig.show()\n",
        "\n",
        "fig = px.histogram(data[\"LoanAmount\"],x =\"LoanAmount\" ,y = \"LoanAmount\" )\n",
        "fig.update_layout(title=\"LoanAmount\")\n",
        "fig.show()"
      ],
      "metadata": {
        "colab": {
          "base_uri": "https://localhost:8080/",
          "height": 1000
        },
        "id": "CYZHQie3Lmpl",
        "outputId": "a142ef2f-f91e-4980-d61c-01b75cc43b53"
      },
      "execution_count": null,
      "outputs": [
        {
          "output_type": "display_data",
          "data": {
            "text/html": [
              "<html>\n",
              "<head><meta charset=\"utf-8\" /></head>\n",
              "<body>\n",
              "    <div>            <script src=\"https://cdnjs.cloudflare.com/ajax/libs/mathjax/2.7.5/MathJax.js?config=TeX-AMS-MML_SVG\"></script><script type=\"text/javascript\">if (window.MathJax && window.MathJax.Hub && window.MathJax.Hub.Config) {window.MathJax.Hub.Config({SVG: {font: \"STIX-Web\"}});}</script>                <script type=\"text/javascript\">window.PlotlyConfig = {MathJaxConfig: 'local'};</script>\n",
              "        <script src=\"https://cdn.plot.ly/plotly-2.18.2.min.js\"></script>                <div id=\"7cd5dc13-8394-4841-ab89-2b827b9f342a\" class=\"plotly-graph-div\" style=\"height:525px; width:100%;\"></div>            <script type=\"text/javascript\">                                    window.PLOTLYENV=window.PLOTLYENV || {};                                    if (document.getElementById(\"7cd5dc13-8394-4841-ab89-2b827b9f342a\")) {                    Plotly.newPlot(                        \"7cd5dc13-8394-4841-ab89-2b827b9f342a\",                        [{\"alignmentgroup\":\"True\",\"bingroup\":\"x\",\"histfunc\":\"sum\",\"hovertemplate\":\"ApplicantIncome=%{x}<br>sum of ApplicantIncome=%{y}<extra></extra>\",\"legendgroup\":\"\",\"marker\":{\"color\":\"#636efa\",\"pattern\":{\"shape\":\"\"}},\"name\":\"\",\"offsetgroup\":\"\",\"orientation\":\"v\",\"showlegend\":false,\"x\":[8.674025985443025,8.430109084509125,8.006367567650246,7.8567067930958405,8.699514748210191,8.597297435657898,7.75491027202143,8.01829613851552,8.295548516225763,9.460398455831275,8.070906088787819,7.824046010856292,8.030409562130485,7.52456122628536,7.1693500166706,8.507142855562735,8.18757739559151,8.163371316459912,8.494333897270154,7.8632667240095735,8.943767262734637,8.691986481789401,7.8632667240095735,8.121183242078828,8.220672170297252,9.165343006045447,7.937017489515454,8.349011198176003,7.273786317844895,8.229511118964457,8.334711621820917,8.06054004653864,8.453614209773367,8.160518247477505,9.433483923290392,7.729735331385051,7.510977752014095,8.207129168071326,8.334711621820917,8.228977643358313,8.1886891244442,7.495541943884256,7.783224016336037,8.279189777195004,8.454253391642363,8.134467570277563,8.639233817325263,8.669227347271736,7.8804263442924,8.294049640102028,7.564238475170491,8.034631032923107,8.349957272040324,8.437283808187935,9.350102314351341,7.903965634032166,7.664815785285735,8.121480374750751,8.997147151515142,8.118802996980035,7.824046010856292,8.015987811027237,7.866722285136729,8.506132244056813,8.334711621820917,8.65277248565806,8.070906088787819,9.28266103355581,8.867850063029406,8.366370301681654,8.073402968986406,7.536363938404511,8.160518247477505,8.46695197497949,8.569026340056254,8.229511118964457,8.229511118964457,6.907755278982137,8.06054004653864,8.11162807830774,8.254788926148725,7.781138509845015,7.228388451573604,8.699514748210191,8.291045131081729,7.768956044538332,8.11162807830774,7.824046010856292,9.055556158175316,8.647343875881283,7.992268643270745,8.740336742730447,8.09346227450118,8.326758814511733,8.194229304819817,8.822027322685583,7.81762544305337,7.589335823170617,8.339978571990427,7.472500744737558,8.363575702750637,8.48528964240323,9.521494800613105,8.445052513638554,8.246958032568177,8.023552392404348,9.342858751676328,8.9001399880938,8.242756345714477,7.635786861395585,8.578476419833136,7.982416346827733,8.18088094199639,8.916103530553727,8.527143522269405,9.587611745713565,8.06054004653864,7.7025561132685825,8.624791202014256,9.250330020192342,8.64241515616962,8.334711621820917,7.667158255319148,7.9919305198524775,8.366370301681654,8.213923595622743,10.077566902136047,8.259716961021523,9.26036786557583,8.712759974960212,9.91175329695316,7.607878073278507,7.907651594711089,8.148734808937169,8.49596955496461,8.294049640102028,8.430109084509125,8.106514516255185,9.61573881119536,8.34283980427146,8.525558107747866,8.597297435657898,8.846496938558838,7.900266036767701,9.372204086867741,7.753623546559746,9.60683200528524,7.338238150065589,9.210340371976184,8.48879371689454,8.744647438317532,7.854381210652365,9.123256265069069,7.732369222284388,8.087640287778983,10.596609732783568,8.699514748210191,9.16303909885817,7.9996785794994505,8.430109084509125,7.529943370601589,8.978786553302003,8.035602692918582,8.334951631422454,9.140239744296693,8.217978203150732,8.430109084509125,7.79934339821592,7.71289096149013,8.987196820661973,7.506591780070841,10.854430887309706,8.166784289056151,8.649623978596727,8.37655086161377,8.159660737063376,7.623153068476902,8.615408238913192,8.229511118964457,7.75491027202143,8.764053269347762,7.557994958530806,8.433811582477187,10.429576102968031,8.195609567288775,10.575079070130357,7.686162303492906,7.776115477098742,6.513230110912307,9.140775908590273,8.493924564476883,9.392661928770137,8.704999678440762,8.257904193465674,8.340694647925071,8.047189562170502,9.027978814382207,7.553286605600419,8.13622555490846,9.305650551780507,7.8632667240095735,8.5016733797582,8.292047637431354,8.160518247477505,8.27308133366583,8.391176350832751,8.084562415235304,8.287780027088433,7.8156105320351905,8.136810863675537,9.210340371976184,8.140315540159985,8.960210955576986,8.648747631156539,8.062432791583195,8.25582842728183,5.0106352940962555,8.223358899479258,8.517193191416238,8.36240897761537,7.7057128238944275,8.296297112642508,7.9966538754626075,8.933004591578547,8.740336742730447,8.086410275323782,8.462737005620179,8.740336742730447,8.467582690862903,8.764053269347762,7.820439515262181,8.22040309993373,8.067462667010057,9.027978814382207,8.056743774975313,8.612503371220562,8.656259239539235,8.149890544402423,8.245909264774093,8.106212902619962,8.66888370465667,7.828038032125829,7.994632311431825,8.740336742730447,8.133293861222633,8.707813551024888,9.1801903950253,8.796036315200814,7.966239776559467,7.500529485395295,7.419380582918692,8.139440521874608,7.8567067930958405,7.886457270977689,9.695848187757884,8.03365842788615,8.706986763048892,8.565983355585669,9.594445640962938,8.503297086224126,8.713253274320705,7.630461261783627,8.15507488781144,8.881836305004146,8.549853973655786,8.31752199628717,8.457018468380168,8.374015421739909,8.136810863675537,7.964155718840937,8.082402253926244,9.318835968129482,7.949091499830517,7.8709295967551425,8.268731832117737,7.919356190660617,8.292298107063221,8.04012466444838,9.587611745713565,8.318742252692399,8.307212626628308,8.27563105457801,7.741099090035366,7.501634457883413,9.936293504261306,8.057694194815587,7.8632667240095735,8.21716859576607,8.32457884513685,9.159888828480085,8.031060180240619,8.389359819906353,8.056109659545061,8.597297435657898,7.776115477098742,8.392989587956931,8.835646922534773,8.448057452581375,8.517193191416238,7.607878073278507,7.495541943884256,7.963807953231451,8.517193191416238,7.393263094763838,8.294049640102028,7.600902459542082,8.232706009860976,7.783224016336037,9.915070213779195,8.944680683558895,7.978310969867722,7.9817332866918855,7.826842098158293,8.656259239539235,7.813187267521416,8.131236549696116,8.220672170297252,7.629489916393995,8.172164452111904,9.210340371976184,7.783224016336037,8.376090350438238,8.188966863648876,8.060224240440958,9.615805480084347,9.067162602299854,8.50045386741194,8.668711839055147,8.374015421739909,7.824046010856292,8.385716828627851,7.984462732262196,7.949091499830517,11.05622495553552,9.193499354780156,8.613048677059759,8.565983355585669,7.824046010856292,7.512071245835466,8.333270353255308,7.881182202227102,7.774015077250727,8.423761246623686,8.062432791583195,7.8567067930958405,7.823645930834952,8.167068178341237,8.03365842788615,8.753529336516431,7.872836175025724,9.114159813502214,9.07680897935166,7.888334500738654,8.612503371220562,7.792761720816526,8.246171559857563,9.027978814382207,8.262300941787448,8.006367567650246,8.550047528287184,8.460199469896118,8.517193191416238,8.465899897028686,8.0106915391303,8.82790796297859,8.734881892047483,7.824046010856292,8.541690663016626,8.752265313595721,9.889895599016661,9.665166909622071,8.553525120663627,9.140239744296693,8.026823576217629,7.92443418488756,8.479906606630221,9.07680897935166,8.368693183097793,8.029107054619736,8.592486175451668,8.11162807830774,8.689632748355741,8.699514748210191,8.877242435993919,8.42639282708974,8.207129168071326,7.76046702921342,8.009695357742922,7.75491027202143,8.610319169405722,9.123365357961776,9.159468041602427,7.8567067930958405,7.597396320212795,8.039157390473237,8.09437844497296,8.064636475774222,8.017307507688582,8.269244521183056,7.313220387090301,7.968665700466235,7.9211727215870145,7.824046010856292,7.5822291942764615,8.914760527397261,8.42222295382501,7.681099001536359,7.70210434005105,9.02401079378469,11.302204433654575,8.260234291607297,8.741296282225147,8.715388097366482,7.720017940432244,7.67275789664251,8.00469951054955,7.8632667240095735,7.3777589082278725,6.932447891572509,8.085178748074537,8.67060073804555,7.908387159290043,7.506591780070841,8.88875674784872,9.607773308387083,7.888334500738654,8.43511508038063,8.688622307043769,7.979338895262328,7.907283609426348,9.06230429314878,8.779557455883728,9.463120392418698,7.793586803371584,8.229511118964457,9.215029361462314,7.563200592358071,7.70210434005105,9.251098364448351,8.873748128154395,8.205218426395412,8.974744612722734,8.456806041401142,10.537919225261291,8.9001399880938,8.150756470275551,8.445052513638554,8.171599480345463,8.113726085970747,7.926241523170962,7.744569809354496,7.579678823090456,8.280964400553373,7.817222785508166,8.865735152124781,8.258163361537619,8.366602832783736,8.218247926685745,8.378850241794492,9.0280988119824,7.641564441260972,8.954156966583772,8.011355109161286,8.55468163582723,8.334711621820917,8.699514748210191,7.988542982737695,9.722684841711443,5.3471075307174685,8.374015421739909,8.146129510025405,7.88344635413774,8.453401058328458,7.824046010856292,8.61830469278465,9.712629664719888,8.809862805379057,7.96311205897929,9.721185995542177,7.988542982737695,8.37793112408273,8.037543185118697,7.641564441260972,9.290352309945568,9.027978814382207,7.579678823090456,8.173857454773621,9.816457993563025,8.430109084509125,7.79770203551669,7.900636613018005,8.581669210600602,8.213652703029998,9.756320761816548,8.187855443695623,8.109525659752872,7.8632667240095735,8.439231649946526,7.970740390007095,8.745602852402946,6.4692503167957724,8.058010800802085,8.489821994620105,8.306472160100585,8.246433786160365,8.163371316459912,9.944293546928382,8.183955717304954,7.8156105320351905,9.492658081928813,8.188133414510478,8.71028982137815,8.096512917501594,7.6638772587034705,8.668196064952765,8.150756470275551,7.616283561580385,8.03073492409854,8.451694209183541,8.131530710604252,7.692569648067906,7.824046010856292,8.644178203170727,8.980675603671708,8.451053388911692,9.769956159911606,8.236155661683124,8.572627898304338,7.893198869544609,8.82217476094608,6.932447891572509,8.361941906144946,8.185350223178686,9.328123407632566,9.807251944655302,7.843848638152472,8.721439305625983,8.193400231952097,7.978310969867722,8.766705997750515,8.435549202375727,7.6676260915849905,8.20303024171486,7.713784616598755,8.012018239159062,7.92588031673756,8.119100837637486,7.8343923029104365,8.517193191416238,7.932003152361385,8.799812469525556,7.820840879907344,8.11162807830774,7.805474625270857,8.186742787113518,8.60666819784384,7.888709524182015,9.22414465295258,8.265392930852224,8.338066525518801,8.209308411646937,9.877348894926433,8.686598356276965,8.66561319653451,9.08239335764556,8.404472321352118,8.11162807830774,8.131530710604252,7.774015077250727,8.060224240440958,8.136518252115291,8.540128162698734,9.721125994942152,8.720134035412928,8.764990330169104,8.058010800802085,8.034955024502159,8.079927770758275,7.485491608030754,8.065265208897733,8.785692444451245,7.515344571180436,8.060224240440958,7.539027055823995,7.932721027481948,8.36240897761537,7.739359202689098,7.68017564043659,8.465899897028686,7.9105906122564775,8.006367567650246,8.699514748210191,9.143880005275912,8.258163361537619,9.68781601606062,8.251403065380556,8.761393485256058,8.00202481821611,9.206633510044856,8.662158961666423,6.030685260261263,7.970394907191429,8.648747631156539,8.209580483475577,9.392661928770137,7.783224016336037,8.131530710604252,8.290794347381356,8.080856419640986,7.9724660159745655,8.32020459757888,8.996156562033445,8.933664178700935,8.430109084509125],\"xaxis\":\"x\",\"y\":[8.674025985443025,8.430109084509125,8.006367567650246,7.8567067930958405,8.699514748210191,8.597297435657898,7.75491027202143,8.01829613851552,8.295548516225763,9.460398455831275,8.070906088787819,7.824046010856292,8.030409562130485,7.52456122628536,7.1693500166706,8.507142855562735,8.18757739559151,8.163371316459912,8.494333897270154,7.8632667240095735,8.943767262734637,8.691986481789401,7.8632667240095735,8.121183242078828,8.220672170297252,9.165343006045447,7.937017489515454,8.349011198176003,7.273786317844895,8.229511118964457,8.334711621820917,8.06054004653864,8.453614209773367,8.160518247477505,9.433483923290392,7.729735331385051,7.510977752014095,8.207129168071326,8.334711621820917,8.228977643358313,8.1886891244442,7.495541943884256,7.783224016336037,8.279189777195004,8.454253391642363,8.134467570277563,8.639233817325263,8.669227347271736,7.8804263442924,8.294049640102028,7.564238475170491,8.034631032923107,8.349957272040324,8.437283808187935,9.350102314351341,7.903965634032166,7.664815785285735,8.121480374750751,8.997147151515142,8.118802996980035,7.824046010856292,8.015987811027237,7.866722285136729,8.506132244056813,8.334711621820917,8.65277248565806,8.070906088787819,9.28266103355581,8.867850063029406,8.366370301681654,8.073402968986406,7.536363938404511,8.160518247477505,8.46695197497949,8.569026340056254,8.229511118964457,8.229511118964457,6.907755278982137,8.06054004653864,8.11162807830774,8.254788926148725,7.781138509845015,7.228388451573604,8.699514748210191,8.291045131081729,7.768956044538332,8.11162807830774,7.824046010856292,9.055556158175316,8.647343875881283,7.992268643270745,8.740336742730447,8.09346227450118,8.326758814511733,8.194229304819817,8.822027322685583,7.81762544305337,7.589335823170617,8.339978571990427,7.472500744737558,8.363575702750637,8.48528964240323,9.521494800613105,8.445052513638554,8.246958032568177,8.023552392404348,9.342858751676328,8.9001399880938,8.242756345714477,7.635786861395585,8.578476419833136,7.982416346827733,8.18088094199639,8.916103530553727,8.527143522269405,9.587611745713565,8.06054004653864,7.7025561132685825,8.624791202014256,9.250330020192342,8.64241515616962,8.334711621820917,7.667158255319148,7.9919305198524775,8.366370301681654,8.213923595622743,10.077566902136047,8.259716961021523,9.26036786557583,8.712759974960212,9.91175329695316,7.607878073278507,7.907651594711089,8.148734808937169,8.49596955496461,8.294049640102028,8.430109084509125,8.106514516255185,9.61573881119536,8.34283980427146,8.525558107747866,8.597297435657898,8.846496938558838,7.900266036767701,9.372204086867741,7.753623546559746,9.60683200528524,7.338238150065589,9.210340371976184,8.48879371689454,8.744647438317532,7.854381210652365,9.123256265069069,7.732369222284388,8.087640287778983,10.596609732783568,8.699514748210191,9.16303909885817,7.9996785794994505,8.430109084509125,7.529943370601589,8.978786553302003,8.035602692918582,8.334951631422454,9.140239744296693,8.217978203150732,8.430109084509125,7.79934339821592,7.71289096149013,8.987196820661973,7.506591780070841,10.854430887309706,8.166784289056151,8.649623978596727,8.37655086161377,8.159660737063376,7.623153068476902,8.615408238913192,8.229511118964457,7.75491027202143,8.764053269347762,7.557994958530806,8.433811582477187,10.429576102968031,8.195609567288775,10.575079070130357,7.686162303492906,7.776115477098742,6.513230110912307,9.140775908590273,8.493924564476883,9.392661928770137,8.704999678440762,8.257904193465674,8.340694647925071,8.047189562170502,9.027978814382207,7.553286605600419,8.13622555490846,9.305650551780507,7.8632667240095735,8.5016733797582,8.292047637431354,8.160518247477505,8.27308133366583,8.391176350832751,8.084562415235304,8.287780027088433,7.8156105320351905,8.136810863675537,9.210340371976184,8.140315540159985,8.960210955576986,8.648747631156539,8.062432791583195,8.25582842728183,5.0106352940962555,8.223358899479258,8.517193191416238,8.36240897761537,7.7057128238944275,8.296297112642508,7.9966538754626075,8.933004591578547,8.740336742730447,8.086410275323782,8.462737005620179,8.740336742730447,8.467582690862903,8.764053269347762,7.820439515262181,8.22040309993373,8.067462667010057,9.027978814382207,8.056743774975313,8.612503371220562,8.656259239539235,8.149890544402423,8.245909264774093,8.106212902619962,8.66888370465667,7.828038032125829,7.994632311431825,8.740336742730447,8.133293861222633,8.707813551024888,9.1801903950253,8.796036315200814,7.966239776559467,7.500529485395295,7.419380582918692,8.139440521874608,7.8567067930958405,7.886457270977689,9.695848187757884,8.03365842788615,8.706986763048892,8.565983355585669,9.594445640962938,8.503297086224126,8.713253274320705,7.630461261783627,8.15507488781144,8.881836305004146,8.549853973655786,8.31752199628717,8.457018468380168,8.374015421739909,8.136810863675537,7.964155718840937,8.082402253926244,9.318835968129482,7.949091499830517,7.8709295967551425,8.268731832117737,7.919356190660617,8.292298107063221,8.04012466444838,9.587611745713565,8.318742252692399,8.307212626628308,8.27563105457801,7.741099090035366,7.501634457883413,9.936293504261306,8.057694194815587,7.8632667240095735,8.21716859576607,8.32457884513685,9.159888828480085,8.031060180240619,8.389359819906353,8.056109659545061,8.597297435657898,7.776115477098742,8.392989587956931,8.835646922534773,8.448057452581375,8.517193191416238,7.607878073278507,7.495541943884256,7.963807953231451,8.517193191416238,7.393263094763838,8.294049640102028,7.600902459542082,8.232706009860976,7.783224016336037,9.915070213779195,8.944680683558895,7.978310969867722,7.9817332866918855,7.826842098158293,8.656259239539235,7.813187267521416,8.131236549696116,8.220672170297252,7.629489916393995,8.172164452111904,9.210340371976184,7.783224016336037,8.376090350438238,8.188966863648876,8.060224240440958,9.615805480084347,9.067162602299854,8.50045386741194,8.668711839055147,8.374015421739909,7.824046010856292,8.385716828627851,7.984462732262196,7.949091499830517,11.05622495553552,9.193499354780156,8.613048677059759,8.565983355585669,7.824046010856292,7.512071245835466,8.333270353255308,7.881182202227102,7.774015077250727,8.423761246623686,8.062432791583195,7.8567067930958405,7.823645930834952,8.167068178341237,8.03365842788615,8.753529336516431,7.872836175025724,9.114159813502214,9.07680897935166,7.888334500738654,8.612503371220562,7.792761720816526,8.246171559857563,9.027978814382207,8.262300941787448,8.006367567650246,8.550047528287184,8.460199469896118,8.517193191416238,8.465899897028686,8.0106915391303,8.82790796297859,8.734881892047483,7.824046010856292,8.541690663016626,8.752265313595721,9.889895599016661,9.665166909622071,8.553525120663627,9.140239744296693,8.026823576217629,7.92443418488756,8.479906606630221,9.07680897935166,8.368693183097793,8.029107054619736,8.592486175451668,8.11162807830774,8.689632748355741,8.699514748210191,8.877242435993919,8.42639282708974,8.207129168071326,7.76046702921342,8.009695357742922,7.75491027202143,8.610319169405722,9.123365357961776,9.159468041602427,7.8567067930958405,7.597396320212795,8.039157390473237,8.09437844497296,8.064636475774222,8.017307507688582,8.269244521183056,7.313220387090301,7.968665700466235,7.9211727215870145,7.824046010856292,7.5822291942764615,8.914760527397261,8.42222295382501,7.681099001536359,7.70210434005105,9.02401079378469,11.302204433654575,8.260234291607297,8.741296282225147,8.715388097366482,7.720017940432244,7.67275789664251,8.00469951054955,7.8632667240095735,7.3777589082278725,6.932447891572509,8.085178748074537,8.67060073804555,7.908387159290043,7.506591780070841,8.88875674784872,9.607773308387083,7.888334500738654,8.43511508038063,8.688622307043769,7.979338895262328,7.907283609426348,9.06230429314878,8.779557455883728,9.463120392418698,7.793586803371584,8.229511118964457,9.215029361462314,7.563200592358071,7.70210434005105,9.251098364448351,8.873748128154395,8.205218426395412,8.974744612722734,8.456806041401142,10.537919225261291,8.9001399880938,8.150756470275551,8.445052513638554,8.171599480345463,8.113726085970747,7.926241523170962,7.744569809354496,7.579678823090456,8.280964400553373,7.817222785508166,8.865735152124781,8.258163361537619,8.366602832783736,8.218247926685745,8.378850241794492,9.0280988119824,7.641564441260972,8.954156966583772,8.011355109161286,8.55468163582723,8.334711621820917,8.699514748210191,7.988542982737695,9.722684841711443,5.3471075307174685,8.374015421739909,8.146129510025405,7.88344635413774,8.453401058328458,7.824046010856292,8.61830469278465,9.712629664719888,8.809862805379057,7.96311205897929,9.721185995542177,7.988542982737695,8.37793112408273,8.037543185118697,7.641564441260972,9.290352309945568,9.027978814382207,7.579678823090456,8.173857454773621,9.816457993563025,8.430109084509125,7.79770203551669,7.900636613018005,8.581669210600602,8.213652703029998,9.756320761816548,8.187855443695623,8.109525659752872,7.8632667240095735,8.439231649946526,7.970740390007095,8.745602852402946,6.4692503167957724,8.058010800802085,8.489821994620105,8.306472160100585,8.246433786160365,8.163371316459912,9.944293546928382,8.183955717304954,7.8156105320351905,9.492658081928813,8.188133414510478,8.71028982137815,8.096512917501594,7.6638772587034705,8.668196064952765,8.150756470275551,7.616283561580385,8.03073492409854,8.451694209183541,8.131530710604252,7.692569648067906,7.824046010856292,8.644178203170727,8.980675603671708,8.451053388911692,9.769956159911606,8.236155661683124,8.572627898304338,7.893198869544609,8.82217476094608,6.932447891572509,8.361941906144946,8.185350223178686,9.328123407632566,9.807251944655302,7.843848638152472,8.721439305625983,8.193400231952097,7.978310969867722,8.766705997750515,8.435549202375727,7.6676260915849905,8.20303024171486,7.713784616598755,8.012018239159062,7.92588031673756,8.119100837637486,7.8343923029104365,8.517193191416238,7.932003152361385,8.799812469525556,7.820840879907344,8.11162807830774,7.805474625270857,8.186742787113518,8.60666819784384,7.888709524182015,9.22414465295258,8.265392930852224,8.338066525518801,8.209308411646937,9.877348894926433,8.686598356276965,8.66561319653451,9.08239335764556,8.404472321352118,8.11162807830774,8.131530710604252,7.774015077250727,8.060224240440958,8.136518252115291,8.540128162698734,9.721125994942152,8.720134035412928,8.764990330169104,8.058010800802085,8.034955024502159,8.079927770758275,7.485491608030754,8.065265208897733,8.785692444451245,7.515344571180436,8.060224240440958,7.539027055823995,7.932721027481948,8.36240897761537,7.739359202689098,7.68017564043659,8.465899897028686,7.9105906122564775,8.006367567650246,8.699514748210191,9.143880005275912,8.258163361537619,9.68781601606062,8.251403065380556,8.761393485256058,8.00202481821611,9.206633510044856,8.662158961666423,6.030685260261263,7.970394907191429,8.648747631156539,8.209580483475577,9.392661928770137,7.783224016336037,8.131530710604252,8.290794347381356,8.080856419640986,7.9724660159745655,8.32020459757888,8.996156562033445,8.933664178700935,8.430109084509125],\"yaxis\":\"y\",\"type\":\"histogram\"}],                        {\"template\":{\"data\":{\"histogram2dcontour\":[{\"type\":\"histogram2dcontour\",\"colorbar\":{\"outlinewidth\":0,\"ticks\":\"\"},\"colorscale\":[[0.0,\"#0d0887\"],[0.1111111111111111,\"#46039f\"],[0.2222222222222222,\"#7201a8\"],[0.3333333333333333,\"#9c179e\"],[0.4444444444444444,\"#bd3786\"],[0.5555555555555556,\"#d8576b\"],[0.6666666666666666,\"#ed7953\"],[0.7777777777777778,\"#fb9f3a\"],[0.8888888888888888,\"#fdca26\"],[1.0,\"#f0f921\"]]}],\"choropleth\":[{\"type\":\"choropleth\",\"colorbar\":{\"outlinewidth\":0,\"ticks\":\"\"}}],\"histogram2d\":[{\"type\":\"histogram2d\",\"colorbar\":{\"outlinewidth\":0,\"ticks\":\"\"},\"colorscale\":[[0.0,\"#0d0887\"],[0.1111111111111111,\"#46039f\"],[0.2222222222222222,\"#7201a8\"],[0.3333333333333333,\"#9c179e\"],[0.4444444444444444,\"#bd3786\"],[0.5555555555555556,\"#d8576b\"],[0.6666666666666666,\"#ed7953\"],[0.7777777777777778,\"#fb9f3a\"],[0.8888888888888888,\"#fdca26\"],[1.0,\"#f0f921\"]]}],\"heatmap\":[{\"type\":\"heatmap\",\"colorbar\":{\"outlinewidth\":0,\"ticks\":\"\"},\"colorscale\":[[0.0,\"#0d0887\"],[0.1111111111111111,\"#46039f\"],[0.2222222222222222,\"#7201a8\"],[0.3333333333333333,\"#9c179e\"],[0.4444444444444444,\"#bd3786\"],[0.5555555555555556,\"#d8576b\"],[0.6666666666666666,\"#ed7953\"],[0.7777777777777778,\"#fb9f3a\"],[0.8888888888888888,\"#fdca26\"],[1.0,\"#f0f921\"]]}],\"heatmapgl\":[{\"type\":\"heatmapgl\",\"colorbar\":{\"outlinewidth\":0,\"ticks\":\"\"},\"colorscale\":[[0.0,\"#0d0887\"],[0.1111111111111111,\"#46039f\"],[0.2222222222222222,\"#7201a8\"],[0.3333333333333333,\"#9c179e\"],[0.4444444444444444,\"#bd3786\"],[0.5555555555555556,\"#d8576b\"],[0.6666666666666666,\"#ed7953\"],[0.7777777777777778,\"#fb9f3a\"],[0.8888888888888888,\"#fdca26\"],[1.0,\"#f0f921\"]]}],\"contourcarpet\":[{\"type\":\"contourcarpet\",\"colorbar\":{\"outlinewidth\":0,\"ticks\":\"\"}}],\"contour\":[{\"type\":\"contour\",\"colorbar\":{\"outlinewidth\":0,\"ticks\":\"\"},\"colorscale\":[[0.0,\"#0d0887\"],[0.1111111111111111,\"#46039f\"],[0.2222222222222222,\"#7201a8\"],[0.3333333333333333,\"#9c179e\"],[0.4444444444444444,\"#bd3786\"],[0.5555555555555556,\"#d8576b\"],[0.6666666666666666,\"#ed7953\"],[0.7777777777777778,\"#fb9f3a\"],[0.8888888888888888,\"#fdca26\"],[1.0,\"#f0f921\"]]}],\"surface\":[{\"type\":\"surface\",\"colorbar\":{\"outlinewidth\":0,\"ticks\":\"\"},\"colorscale\":[[0.0,\"#0d0887\"],[0.1111111111111111,\"#46039f\"],[0.2222222222222222,\"#7201a8\"],[0.3333333333333333,\"#9c179e\"],[0.4444444444444444,\"#bd3786\"],[0.5555555555555556,\"#d8576b\"],[0.6666666666666666,\"#ed7953\"],[0.7777777777777778,\"#fb9f3a\"],[0.8888888888888888,\"#fdca26\"],[1.0,\"#f0f921\"]]}],\"mesh3d\":[{\"type\":\"mesh3d\",\"colorbar\":{\"outlinewidth\":0,\"ticks\":\"\"}}],\"scatter\":[{\"fillpattern\":{\"fillmode\":\"overlay\",\"size\":10,\"solidity\":0.2},\"type\":\"scatter\"}],\"parcoords\":[{\"type\":\"parcoords\",\"line\":{\"colorbar\":{\"outlinewidth\":0,\"ticks\":\"\"}}}],\"scatterpolargl\":[{\"type\":\"scatterpolargl\",\"marker\":{\"colorbar\":{\"outlinewidth\":0,\"ticks\":\"\"}}}],\"bar\":[{\"error_x\":{\"color\":\"#2a3f5f\"},\"error_y\":{\"color\":\"#2a3f5f\"},\"marker\":{\"line\":{\"color\":\"#E5ECF6\",\"width\":0.5},\"pattern\":{\"fillmode\":\"overlay\",\"size\":10,\"solidity\":0.2}},\"type\":\"bar\"}],\"scattergeo\":[{\"type\":\"scattergeo\",\"marker\":{\"colorbar\":{\"outlinewidth\":0,\"ticks\":\"\"}}}],\"scatterpolar\":[{\"type\":\"scatterpolar\",\"marker\":{\"colorbar\":{\"outlinewidth\":0,\"ticks\":\"\"}}}],\"histogram\":[{\"marker\":{\"pattern\":{\"fillmode\":\"overlay\",\"size\":10,\"solidity\":0.2}},\"type\":\"histogram\"}],\"scattergl\":[{\"type\":\"scattergl\",\"marker\":{\"colorbar\":{\"outlinewidth\":0,\"ticks\":\"\"}}}],\"scatter3d\":[{\"type\":\"scatter3d\",\"line\":{\"colorbar\":{\"outlinewidth\":0,\"ticks\":\"\"}},\"marker\":{\"colorbar\":{\"outlinewidth\":0,\"ticks\":\"\"}}}],\"scattermapbox\":[{\"type\":\"scattermapbox\",\"marker\":{\"colorbar\":{\"outlinewidth\":0,\"ticks\":\"\"}}}],\"scatterternary\":[{\"type\":\"scatterternary\",\"marker\":{\"colorbar\":{\"outlinewidth\":0,\"ticks\":\"\"}}}],\"scattercarpet\":[{\"type\":\"scattercarpet\",\"marker\":{\"colorbar\":{\"outlinewidth\":0,\"ticks\":\"\"}}}],\"carpet\":[{\"aaxis\":{\"endlinecolor\":\"#2a3f5f\",\"gridcolor\":\"white\",\"linecolor\":\"white\",\"minorgridcolor\":\"white\",\"startlinecolor\":\"#2a3f5f\"},\"baxis\":{\"endlinecolor\":\"#2a3f5f\",\"gridcolor\":\"white\",\"linecolor\":\"white\",\"minorgridcolor\":\"white\",\"startlinecolor\":\"#2a3f5f\"},\"type\":\"carpet\"}],\"table\":[{\"cells\":{\"fill\":{\"color\":\"#EBF0F8\"},\"line\":{\"color\":\"white\"}},\"header\":{\"fill\":{\"color\":\"#C8D4E3\"},\"line\":{\"color\":\"white\"}},\"type\":\"table\"}],\"barpolar\":[{\"marker\":{\"line\":{\"color\":\"#E5ECF6\",\"width\":0.5},\"pattern\":{\"fillmode\":\"overlay\",\"size\":10,\"solidity\":0.2}},\"type\":\"barpolar\"}],\"pie\":[{\"automargin\":true,\"type\":\"pie\"}]},\"layout\":{\"autotypenumbers\":\"strict\",\"colorway\":[\"#636efa\",\"#EF553B\",\"#00cc96\",\"#ab63fa\",\"#FFA15A\",\"#19d3f3\",\"#FF6692\",\"#B6E880\",\"#FF97FF\",\"#FECB52\"],\"font\":{\"color\":\"#2a3f5f\"},\"hovermode\":\"closest\",\"hoverlabel\":{\"align\":\"left\"},\"paper_bgcolor\":\"white\",\"plot_bgcolor\":\"#E5ECF6\",\"polar\":{\"bgcolor\":\"#E5ECF6\",\"angularaxis\":{\"gridcolor\":\"white\",\"linecolor\":\"white\",\"ticks\":\"\"},\"radialaxis\":{\"gridcolor\":\"white\",\"linecolor\":\"white\",\"ticks\":\"\"}},\"ternary\":{\"bgcolor\":\"#E5ECF6\",\"aaxis\":{\"gridcolor\":\"white\",\"linecolor\":\"white\",\"ticks\":\"\"},\"baxis\":{\"gridcolor\":\"white\",\"linecolor\":\"white\",\"ticks\":\"\"},\"caxis\":{\"gridcolor\":\"white\",\"linecolor\":\"white\",\"ticks\":\"\"}},\"coloraxis\":{\"colorbar\":{\"outlinewidth\":0,\"ticks\":\"\"}},\"colorscale\":{\"sequential\":[[0.0,\"#0d0887\"],[0.1111111111111111,\"#46039f\"],[0.2222222222222222,\"#7201a8\"],[0.3333333333333333,\"#9c179e\"],[0.4444444444444444,\"#bd3786\"],[0.5555555555555556,\"#d8576b\"],[0.6666666666666666,\"#ed7953\"],[0.7777777777777778,\"#fb9f3a\"],[0.8888888888888888,\"#fdca26\"],[1.0,\"#f0f921\"]],\"sequentialminus\":[[0.0,\"#0d0887\"],[0.1111111111111111,\"#46039f\"],[0.2222222222222222,\"#7201a8\"],[0.3333333333333333,\"#9c179e\"],[0.4444444444444444,\"#bd3786\"],[0.5555555555555556,\"#d8576b\"],[0.6666666666666666,\"#ed7953\"],[0.7777777777777778,\"#fb9f3a\"],[0.8888888888888888,\"#fdca26\"],[1.0,\"#f0f921\"]],\"diverging\":[[0,\"#8e0152\"],[0.1,\"#c51b7d\"],[0.2,\"#de77ae\"],[0.3,\"#f1b6da\"],[0.4,\"#fde0ef\"],[0.5,\"#f7f7f7\"],[0.6,\"#e6f5d0\"],[0.7,\"#b8e186\"],[0.8,\"#7fbc41\"],[0.9,\"#4d9221\"],[1,\"#276419\"]]},\"xaxis\":{\"gridcolor\":\"white\",\"linecolor\":\"white\",\"ticks\":\"\",\"title\":{\"standoff\":15},\"zerolinecolor\":\"white\",\"automargin\":true,\"zerolinewidth\":2},\"yaxis\":{\"gridcolor\":\"white\",\"linecolor\":\"white\",\"ticks\":\"\",\"title\":{\"standoff\":15},\"zerolinecolor\":\"white\",\"automargin\":true,\"zerolinewidth\":2},\"scene\":{\"xaxis\":{\"backgroundcolor\":\"#E5ECF6\",\"gridcolor\":\"white\",\"linecolor\":\"white\",\"showbackground\":true,\"ticks\":\"\",\"zerolinecolor\":\"white\",\"gridwidth\":2},\"yaxis\":{\"backgroundcolor\":\"#E5ECF6\",\"gridcolor\":\"white\",\"linecolor\":\"white\",\"showbackground\":true,\"ticks\":\"\",\"zerolinecolor\":\"white\",\"gridwidth\":2},\"zaxis\":{\"backgroundcolor\":\"#E5ECF6\",\"gridcolor\":\"white\",\"linecolor\":\"white\",\"showbackground\":true,\"ticks\":\"\",\"zerolinecolor\":\"white\",\"gridwidth\":2}},\"shapedefaults\":{\"line\":{\"color\":\"#2a3f5f\"}},\"annotationdefaults\":{\"arrowcolor\":\"#2a3f5f\",\"arrowhead\":0,\"arrowwidth\":1},\"geo\":{\"bgcolor\":\"white\",\"landcolor\":\"#E5ECF6\",\"subunitcolor\":\"white\",\"showland\":true,\"showlakes\":true,\"lakecolor\":\"white\"},\"title\":{\"x\":0.05},\"mapbox\":{\"style\":\"light\"}}},\"xaxis\":{\"anchor\":\"y\",\"domain\":[0.0,1.0],\"title\":{\"text\":\"ApplicantIncome\"}},\"yaxis\":{\"anchor\":\"x\",\"domain\":[0.0,1.0],\"title\":{\"text\":\"sum of ApplicantIncome\"}},\"legend\":{\"tracegroupgap\":0},\"margin\":{\"t\":60},\"barmode\":\"relative\",\"title\":{\"text\":\"ApplicantIncome\"}},                        {\"responsive\": true}                    ).then(function(){\n",
              "                            \n",
              "var gd = document.getElementById('7cd5dc13-8394-4841-ab89-2b827b9f342a');\n",
              "var x = new MutationObserver(function (mutations, observer) {{\n",
              "        var display = window.getComputedStyle(gd).display;\n",
              "        if (!display || display === 'none') {{\n",
              "            console.log([gd, 'removed!']);\n",
              "            Plotly.purge(gd);\n",
              "            observer.disconnect();\n",
              "        }}\n",
              "}});\n",
              "\n",
              "// Listen for the removal of the full notebook cells\n",
              "var notebookContainer = gd.closest('#notebook-container');\n",
              "if (notebookContainer) {{\n",
              "    x.observe(notebookContainer, {childList: true});\n",
              "}}\n",
              "\n",
              "// Listen for the clearing of the current output cell\n",
              "var outputEl = gd.closest('.output');\n",
              "if (outputEl) {{\n",
              "    x.observe(outputEl, {childList: true});\n",
              "}}\n",
              "\n",
              "                        })                };                            </script>        </div>\n",
              "</body>\n",
              "</html>"
            ]
          },
          "metadata": {}
        },
        {
          "output_type": "display_data",
          "data": {
            "text/html": [
              "<html>\n",
              "<head><meta charset=\"utf-8\" /></head>\n",
              "<body>\n",
              "    <div>            <script src=\"https://cdnjs.cloudflare.com/ajax/libs/mathjax/2.7.5/MathJax.js?config=TeX-AMS-MML_SVG\"></script><script type=\"text/javascript\">if (window.MathJax && window.MathJax.Hub && window.MathJax.Hub.Config) {window.MathJax.Hub.Config({SVG: {font: \"STIX-Web\"}});}</script>                <script type=\"text/javascript\">window.PlotlyConfig = {MathJaxConfig: 'local'};</script>\n",
              "        <script src=\"https://cdn.plot.ly/plotly-2.18.2.min.js\"></script>                <div id=\"f7f9de01-17a6-4e60-8a43-a66d32cc0a55\" class=\"plotly-graph-div\" style=\"height:525px; width:100%;\"></div>            <script type=\"text/javascript\">                                    window.PLOTLYENV=window.PLOTLYENV || {};                                    if (document.getElementById(\"f7f9de01-17a6-4e60-8a43-a66d32cc0a55\")) {                    Plotly.newPlot(                        \"f7f9de01-17a6-4e60-8a43-a66d32cc0a55\",                        [{\"alignmentgroup\":\"True\",\"bingroup\":\"x\",\"histfunc\":\"sum\",\"hovertemplate\":\"CoapplicantIncome=%{x}<br>sum of CoapplicantIncome=%{y}<extra></extra>\",\"legendgroup\":\"\",\"marker\":{\"color\":\"#636efa\",\"pattern\":{\"shape\":\"\"}},\"name\":\"\",\"offsetgroup\":\"\",\"orientation\":\"v\",\"showlegend\":false,\"x\":[0.0,7.318539548567902,0.0,7.765569081097317,0.0,8.341886969516187,7.323830566202317,7.825644732219989,7.330405211844402,9.30273722124215,6.551080335043404,7.517520850603031,9.000359807188254,7.951559331155252,6.990256500493881,0.0,0.0,0.0,0.0,8.160518247477505,0.0,8.63497622707262,7.555381944240273,7.558516743045645,7.981049759665957,0.0,7.720017940432244,6.946975992135418,0.0,7.641564441260972,8.122371243406553,0.0,0.0,7.418780882750794,8.006367567650246,7.633853559681768,7.1929342212158,7.285506548522785,8.883224230278994,7.419380582918692,0.0,7.10085190894405,0.0,7.756195343948118,0.0,0.0,0.0,0.0,8.143226750367445,7.729735331385051,7.404887575616125,0.0,0.0,0.0,0.0,7.062191632286556,7.372118028337787,7.696212639346407,7.718685495198466,7.958227192322312,8.241703159729818,0.0,8.145839612936841,0.0,0.0,8.432724034789787,7.720461694599722,0.0,0.0,0.0,8.028129059431759,7.536363938404511,0.0,0.0,7.480992162869525,0.0,8.465899897028686,8.013674142832684,8.294049640102028,7.680637427560936,0.0,0.0,7.53955882930103,7.718685495198466,0.0,7.836369760545124,7.600902459542082,7.658227526161352,0.0,8.334951631422454,7.9724660159745655,8.640118538253535,7.506591780070841,0.0,0.0,0.0,7.741533589281828,6.904750769961838,0.0,8.172164452111904,8.09040229659332,8.244334047856094,0.0,8.183955717304954,6.625392368007956,6.937314081223682,7.026426808699636,0.0,8.1886891244442,6.625392368007956,0.0,7.75491027202143,8.322151070212902,0.0,0.0,0.0,7.733245646529795,7.242797922793756,7.669495251007694,0.0,7.888709524182015,0.0,9.102755161296246,0.0,7.607878073278507,0.0,0.0,7.402451520818244,8.25582842728183,7.851271997109883,0.0,7.564757012905729,0.0,0.0,0.0,8.955448122347393,0.0,8.160518247477505,0.0,7.265429723253953,7.641564441260972,0.0,0.0,7.617759576608505,0.0,8.408716715080153,0.0,7.261927092702751,7.418180822726788,6.721425700790643,0.0,8.229511118964457,0.0,0.0,0.0,0.0,0.0,0.0,7.641564441260972,8.63497622707262,6.947937068614969,0.0,7.154615356913663,7.277247726631484,0.0,8.060224240440958,0.0,8.11162807830774,0.0,0.0,7.478169694159785,0.0,0.0,8.63497622707262,6.601230118728877,7.582738488914411,7.389563953677635,9.332558004700433,0.0,7.280008252884188,8.88875674784872,8.529714471969909,0.0,0.0,0.0,8.465899897028686,0.0,7.6676260915849905,8.574707097616844,0.0,0.0,0.0,0.0,0.0,0.0,7.8567067930958405,8.229511118964457,7.768533300926033,7.943072717277933,0.0,7.824046010856292,0.0,0.0,6.9874902470009905,0.0,0.0,0.0,7.836369760545124,0.0,0.0,0.0,7.1308988302963465,0.0,0.0,8.013343181386672,6.890609120147166,7.495541943884256,7.4815557019095165,0.0,7.776115477098742,0.0,7.448333860897476,7.934155233536322,6.917705609835305,0.0,0.0,0.0,7.43543801981455,0.0,0.0,7.627544390488503,0.0,7.862497197230545,0.0,7.483806687665835,7.138866999945524,0.0,0.0,0.0,0.0,8.517193191416238,7.592366128519796,8.648396877031582,7.170119543449628,8.393216011596527,8.374015421739909,0.0,0.0,7.519149957669823,7.532623618788788,8.266164436612492,0.0,7.681099001536359,8.867990898182093,0.0,0.0,0.0,0.0,7.649692623711514,0.0,8.354674261918463,7.700295203420117,0.0,0.0,0.0,8.145259566516865,7.234898420314831,7.501634457883413,0.0,7.352441100243583,0.0,0.0,7.526717561352706,7.706612913964197,0.0,7.518607216815252,8.09376775793108,7.170119543449628,0.0,0.0,7.793999089503996,6.684611727667927,6.893453481895542,7.418180822726788,0.0,8.023879992734878,7.448333860897476,7.600902459542082,0.0,0.0,7.789868559054706,0.0,7.352441100243583,0.0,8.111928063310739,7.1308988302963465,0.0,0.0,7.840312983320164,7.981049759665957,7.984121958702927,7.4673710669175595,0.0,7.497207223203318,7.824046010856292,0.0,7.418180822726788,7.529943370601589,0.0,0.0,0.0,7.785305182539862,0.0,0.0,7.519149957669823,7.402451520818244,0.0,7.665753431861699,0.0,0.0,7.681099001536359,5.241747015059643,7.371489295214277,8.001355025826703,0.0,8.513787398281405,0.0,7.67786350067821,7.804251383528112,0.0,7.491645473605133,0.0,0.0,0.0,7.513709247839705,8.4096079807363,6.5337888379333435,8.433811582477187,0.0,0.0,7.369600720526409,0.0,7.113956109566034,0.0,7.753623546559746,7.80710329012598,8.080237416216702,7.681560362559537,8.430109084509125,8.740336742730447,0.0,8.334951631422454,7.641564441260972,0.0,6.22455842927536,0.0,8.06054004653864,0.0,7.418180822726788,8.06054004653864,0.0,8.207129168071326,7.75491027202143,8.017307507688582,0.0,0.0,0.0,0.0,0.0,8.569026340056254,0.0,0.0,8.971194463184467,7.594381242551817,7.285506548522785,6.827629234502852,8.516392871245468,0.0,0.0,0.0,7.824046010856292,8.350429973538136,0.0,0.0,0.0,0.0,7.3777589082278725,8.0507033814703,7.790282380703483,0.0,0.0,0.0,7.656810091480378,7.393263094763838,7.24422751560335,6.182084906716632,0.0,7.285506548522785,7.418180822726788,7.495541943884256,0.0,0.0,9.903487552536127,0.0,0.0,0.0,7.783224016336037,0.0,0.0,0.0,0.0,0.0,0.0,7.617267813628347,8.082402253926244,0.0,0.0,9.903487552536127,7.927685045615778,7.256297239690681,0.0,0.0,7.449498005382849,7.418780882750794,0.0,8.366370301681654,0.0,0.0,2.780060789187662,0.0,0.0,0.0,0.0,7.757906208351747,0.0,0.0,7.523481312573497,7.025538314638521,0.0,0.0,8.529911963824013,7.513709247839705,7.597396320212795,0.0,9.027978814382207,7.098375638590786,0.0,7.226936018493289,7.444248649496705,7.340835554123275,7.134890851565884,7.283448228756631,7.457609289715606,7.81035268372429,0.0,0.0,0.0,7.851271997109883,0.0,0.0,8.314587291319576,0.0,7.690743163541872,0.0,0.0,0.0,7.416979621381154,0.0,7.978310969867722,7.804251383528112,7.639642287858013,7.313220387090301,0.0,0.0,8.444192298531748,6.921658184151129,7.4673710669175595,7.534762657037537,7.718685495198466,7.3796321526095525,0.0,0.0,8.055157731819678,0.0,0.0,7.798112628829788,0.0,0.0,7.641564441260972,0.0,7.932003152361385,7.030857476116121,0.0,0.0,7.676473646389156,6.816735880594968,7.438383530044307,7.957527402230773,0.0,8.392989587956931,8.211482916445066,0.0,8.6347984334905,8.57583938684897,7.301822342137932,8.392989587956931,8.80492526261806,0.0,8.0106915391303,0.0,7.160069207596127,7.602900462204755,7.618251097876695,8.804775258867686,8.20685642839965,8.13973227971767,7.397561535524052,7.495541943884256,7.557472901614746,0.0,7.462789157412448,0.0,7.261225091971921,8.8771028978649,7.643482907077201,0.0,0.0,7.265429723253953,7.171656822768514,0.0,8.612503371220562,0.0,0.0,0.0,0.0,7.621684998724611,8.270269111436624,0.0,6.284134161070802,0.0,7.953318346560431,0.0,0.0,7.8336002236611035,6.4967749901858625,7.575584651557793,0.0,7.48605261786314,0.0,7.60887062919126,0.0,7.772752716468742,8.086410275323782,7.75491027202143,8.358431899031295,6.939253946041508,7.393263094763838,0.0,7.889459149404524,7.743269700829004,5.488937726156687,0.0,7.627544390488503,0.0,0.0,0.0,0.0,7.824046010856292,0.0,7.6324011266014535,7.4673710669175595,7.280008252884188,0.0,7.393263094763838,0.0,6.133398042996649,7.700747794511798,7.915348169263078,7.710653323501202,7.978310969867722,0.0,10.429310157308027,0.0,0.0,7.558516743045645,8.006367567650246,7.3277805384216315,0.0,0.0,0.0,8.13622555490846,0.0,0.0,8.101677747454572,0.0,0.0,6.907755278982137,0.0,0.0,0.0,10.637464727584328,7.934513463882263,0.0,8.366602832783736,0.0,8.242756345714477,7.824046010856292,7.252053951852814,7.575584651557793,0.0,0.0,5.480638923341991,0.0,0.0],\"xaxis\":\"x\",\"y\":[0.0,7.318539548567902,0.0,7.765569081097317,0.0,8.341886969516187,7.323830566202317,7.825644732219989,7.330405211844402,9.30273722124215,6.551080335043404,7.517520850603031,9.000359807188254,7.951559331155252,6.990256500493881,0.0,0.0,0.0,0.0,8.160518247477505,0.0,8.63497622707262,7.555381944240273,7.558516743045645,7.981049759665957,0.0,7.720017940432244,6.946975992135418,0.0,7.641564441260972,8.122371243406553,0.0,0.0,7.418780882750794,8.006367567650246,7.633853559681768,7.1929342212158,7.285506548522785,8.883224230278994,7.419380582918692,0.0,7.10085190894405,0.0,7.756195343948118,0.0,0.0,0.0,0.0,8.143226750367445,7.729735331385051,7.404887575616125,0.0,0.0,0.0,0.0,7.062191632286556,7.372118028337787,7.696212639346407,7.718685495198466,7.958227192322312,8.241703159729818,0.0,8.145839612936841,0.0,0.0,8.432724034789787,7.720461694599722,0.0,0.0,0.0,8.028129059431759,7.536363938404511,0.0,0.0,7.480992162869525,0.0,8.465899897028686,8.013674142832684,8.294049640102028,7.680637427560936,0.0,0.0,7.53955882930103,7.718685495198466,0.0,7.836369760545124,7.600902459542082,7.658227526161352,0.0,8.334951631422454,7.9724660159745655,8.640118538253535,7.506591780070841,0.0,0.0,0.0,7.741533589281828,6.904750769961838,0.0,8.172164452111904,8.09040229659332,8.244334047856094,0.0,8.183955717304954,6.625392368007956,6.937314081223682,7.026426808699636,0.0,8.1886891244442,6.625392368007956,0.0,7.75491027202143,8.322151070212902,0.0,0.0,0.0,7.733245646529795,7.242797922793756,7.669495251007694,0.0,7.888709524182015,0.0,9.102755161296246,0.0,7.607878073278507,0.0,0.0,7.402451520818244,8.25582842728183,7.851271997109883,0.0,7.564757012905729,0.0,0.0,0.0,8.955448122347393,0.0,8.160518247477505,0.0,7.265429723253953,7.641564441260972,0.0,0.0,7.617759576608505,0.0,8.408716715080153,0.0,7.261927092702751,7.418180822726788,6.721425700790643,0.0,8.229511118964457,0.0,0.0,0.0,0.0,0.0,0.0,7.641564441260972,8.63497622707262,6.947937068614969,0.0,7.154615356913663,7.277247726631484,0.0,8.060224240440958,0.0,8.11162807830774,0.0,0.0,7.478169694159785,0.0,0.0,8.63497622707262,6.601230118728877,7.582738488914411,7.389563953677635,9.332558004700433,0.0,7.280008252884188,8.88875674784872,8.529714471969909,0.0,0.0,0.0,8.465899897028686,0.0,7.6676260915849905,8.574707097616844,0.0,0.0,0.0,0.0,0.0,0.0,7.8567067930958405,8.229511118964457,7.768533300926033,7.943072717277933,0.0,7.824046010856292,0.0,0.0,6.9874902470009905,0.0,0.0,0.0,7.836369760545124,0.0,0.0,0.0,7.1308988302963465,0.0,0.0,8.013343181386672,6.890609120147166,7.495541943884256,7.4815557019095165,0.0,7.776115477098742,0.0,7.448333860897476,7.934155233536322,6.917705609835305,0.0,0.0,0.0,7.43543801981455,0.0,0.0,7.627544390488503,0.0,7.862497197230545,0.0,7.483806687665835,7.138866999945524,0.0,0.0,0.0,0.0,8.517193191416238,7.592366128519796,8.648396877031582,7.170119543449628,8.393216011596527,8.374015421739909,0.0,0.0,7.519149957669823,7.532623618788788,8.266164436612492,0.0,7.681099001536359,8.867990898182093,0.0,0.0,0.0,0.0,7.649692623711514,0.0,8.354674261918463,7.700295203420117,0.0,0.0,0.0,8.145259566516865,7.234898420314831,7.501634457883413,0.0,7.352441100243583,0.0,0.0,7.526717561352706,7.706612913964197,0.0,7.518607216815252,8.09376775793108,7.170119543449628,0.0,0.0,7.793999089503996,6.684611727667927,6.893453481895542,7.418180822726788,0.0,8.023879992734878,7.448333860897476,7.600902459542082,0.0,0.0,7.789868559054706,0.0,7.352441100243583,0.0,8.111928063310739,7.1308988302963465,0.0,0.0,7.840312983320164,7.981049759665957,7.984121958702927,7.4673710669175595,0.0,7.497207223203318,7.824046010856292,0.0,7.418180822726788,7.529943370601589,0.0,0.0,0.0,7.785305182539862,0.0,0.0,7.519149957669823,7.402451520818244,0.0,7.665753431861699,0.0,0.0,7.681099001536359,5.241747015059643,7.371489295214277,8.001355025826703,0.0,8.513787398281405,0.0,7.67786350067821,7.804251383528112,0.0,7.491645473605133,0.0,0.0,0.0,7.513709247839705,8.4096079807363,6.5337888379333435,8.433811582477187,0.0,0.0,7.369600720526409,0.0,7.113956109566034,0.0,7.753623546559746,7.80710329012598,8.080237416216702,7.681560362559537,8.430109084509125,8.740336742730447,0.0,8.334951631422454,7.641564441260972,0.0,6.22455842927536,0.0,8.06054004653864,0.0,7.418180822726788,8.06054004653864,0.0,8.207129168071326,7.75491027202143,8.017307507688582,0.0,0.0,0.0,0.0,0.0,8.569026340056254,0.0,0.0,8.971194463184467,7.594381242551817,7.285506548522785,6.827629234502852,8.516392871245468,0.0,0.0,0.0,7.824046010856292,8.350429973538136,0.0,0.0,0.0,0.0,7.3777589082278725,8.0507033814703,7.790282380703483,0.0,0.0,0.0,7.656810091480378,7.393263094763838,7.24422751560335,6.182084906716632,0.0,7.285506548522785,7.418180822726788,7.495541943884256,0.0,0.0,9.903487552536127,0.0,0.0,0.0,7.783224016336037,0.0,0.0,0.0,0.0,0.0,0.0,7.617267813628347,8.082402253926244,0.0,0.0,9.903487552536127,7.927685045615778,7.256297239690681,0.0,0.0,7.449498005382849,7.418780882750794,0.0,8.366370301681654,0.0,0.0,2.780060789187662,0.0,0.0,0.0,0.0,7.757906208351747,0.0,0.0,7.523481312573497,7.025538314638521,0.0,0.0,8.529911963824013,7.513709247839705,7.597396320212795,0.0,9.027978814382207,7.098375638590786,0.0,7.226936018493289,7.444248649496705,7.340835554123275,7.134890851565884,7.283448228756631,7.457609289715606,7.81035268372429,0.0,0.0,0.0,7.851271997109883,0.0,0.0,8.314587291319576,0.0,7.690743163541872,0.0,0.0,0.0,7.416979621381154,0.0,7.978310969867722,7.804251383528112,7.639642287858013,7.313220387090301,0.0,0.0,8.444192298531748,6.921658184151129,7.4673710669175595,7.534762657037537,7.718685495198466,7.3796321526095525,0.0,0.0,8.055157731819678,0.0,0.0,7.798112628829788,0.0,0.0,7.641564441260972,0.0,7.932003152361385,7.030857476116121,0.0,0.0,7.676473646389156,6.816735880594968,7.438383530044307,7.957527402230773,0.0,8.392989587956931,8.211482916445066,0.0,8.6347984334905,8.57583938684897,7.301822342137932,8.392989587956931,8.80492526261806,0.0,8.0106915391303,0.0,7.160069207596127,7.602900462204755,7.618251097876695,8.804775258867686,8.20685642839965,8.13973227971767,7.397561535524052,7.495541943884256,7.557472901614746,0.0,7.462789157412448,0.0,7.261225091971921,8.8771028978649,7.643482907077201,0.0,0.0,7.265429723253953,7.171656822768514,0.0,8.612503371220562,0.0,0.0,0.0,0.0,7.621684998724611,8.270269111436624,0.0,6.284134161070802,0.0,7.953318346560431,0.0,0.0,7.8336002236611035,6.4967749901858625,7.575584651557793,0.0,7.48605261786314,0.0,7.60887062919126,0.0,7.772752716468742,8.086410275323782,7.75491027202143,8.358431899031295,6.939253946041508,7.393263094763838,0.0,7.889459149404524,7.743269700829004,5.488937726156687,0.0,7.627544390488503,0.0,0.0,0.0,0.0,7.824046010856292,0.0,7.6324011266014535,7.4673710669175595,7.280008252884188,0.0,7.393263094763838,0.0,6.133398042996649,7.700747794511798,7.915348169263078,7.710653323501202,7.978310969867722,0.0,10.429310157308027,0.0,0.0,7.558516743045645,8.006367567650246,7.3277805384216315,0.0,0.0,0.0,8.13622555490846,0.0,0.0,8.101677747454572,0.0,0.0,6.907755278982137,0.0,0.0,0.0,10.637464727584328,7.934513463882263,0.0,8.366602832783736,0.0,8.242756345714477,7.824046010856292,7.252053951852814,7.575584651557793,0.0,0.0,5.480638923341991,0.0,0.0],\"yaxis\":\"y\",\"type\":\"histogram\"}],                        {\"template\":{\"data\":{\"histogram2dcontour\":[{\"type\":\"histogram2dcontour\",\"colorbar\":{\"outlinewidth\":0,\"ticks\":\"\"},\"colorscale\":[[0.0,\"#0d0887\"],[0.1111111111111111,\"#46039f\"],[0.2222222222222222,\"#7201a8\"],[0.3333333333333333,\"#9c179e\"],[0.4444444444444444,\"#bd3786\"],[0.5555555555555556,\"#d8576b\"],[0.6666666666666666,\"#ed7953\"],[0.7777777777777778,\"#fb9f3a\"],[0.8888888888888888,\"#fdca26\"],[1.0,\"#f0f921\"]]}],\"choropleth\":[{\"type\":\"choropleth\",\"colorbar\":{\"outlinewidth\":0,\"ticks\":\"\"}}],\"histogram2d\":[{\"type\":\"histogram2d\",\"colorbar\":{\"outlinewidth\":0,\"ticks\":\"\"},\"colorscale\":[[0.0,\"#0d0887\"],[0.1111111111111111,\"#46039f\"],[0.2222222222222222,\"#7201a8\"],[0.3333333333333333,\"#9c179e\"],[0.4444444444444444,\"#bd3786\"],[0.5555555555555556,\"#d8576b\"],[0.6666666666666666,\"#ed7953\"],[0.7777777777777778,\"#fb9f3a\"],[0.8888888888888888,\"#fdca26\"],[1.0,\"#f0f921\"]]}],\"heatmap\":[{\"type\":\"heatmap\",\"colorbar\":{\"outlinewidth\":0,\"ticks\":\"\"},\"colorscale\":[[0.0,\"#0d0887\"],[0.1111111111111111,\"#46039f\"],[0.2222222222222222,\"#7201a8\"],[0.3333333333333333,\"#9c179e\"],[0.4444444444444444,\"#bd3786\"],[0.5555555555555556,\"#d8576b\"],[0.6666666666666666,\"#ed7953\"],[0.7777777777777778,\"#fb9f3a\"],[0.8888888888888888,\"#fdca26\"],[1.0,\"#f0f921\"]]}],\"heatmapgl\":[{\"type\":\"heatmapgl\",\"colorbar\":{\"outlinewidth\":0,\"ticks\":\"\"},\"colorscale\":[[0.0,\"#0d0887\"],[0.1111111111111111,\"#46039f\"],[0.2222222222222222,\"#7201a8\"],[0.3333333333333333,\"#9c179e\"],[0.4444444444444444,\"#bd3786\"],[0.5555555555555556,\"#d8576b\"],[0.6666666666666666,\"#ed7953\"],[0.7777777777777778,\"#fb9f3a\"],[0.8888888888888888,\"#fdca26\"],[1.0,\"#f0f921\"]]}],\"contourcarpet\":[{\"type\":\"contourcarpet\",\"colorbar\":{\"outlinewidth\":0,\"ticks\":\"\"}}],\"contour\":[{\"type\":\"contour\",\"colorbar\":{\"outlinewidth\":0,\"ticks\":\"\"},\"colorscale\":[[0.0,\"#0d0887\"],[0.1111111111111111,\"#46039f\"],[0.2222222222222222,\"#7201a8\"],[0.3333333333333333,\"#9c179e\"],[0.4444444444444444,\"#bd3786\"],[0.5555555555555556,\"#d8576b\"],[0.6666666666666666,\"#ed7953\"],[0.7777777777777778,\"#fb9f3a\"],[0.8888888888888888,\"#fdca26\"],[1.0,\"#f0f921\"]]}],\"surface\":[{\"type\":\"surface\",\"colorbar\":{\"outlinewidth\":0,\"ticks\":\"\"},\"colorscale\":[[0.0,\"#0d0887\"],[0.1111111111111111,\"#46039f\"],[0.2222222222222222,\"#7201a8\"],[0.3333333333333333,\"#9c179e\"],[0.4444444444444444,\"#bd3786\"],[0.5555555555555556,\"#d8576b\"],[0.6666666666666666,\"#ed7953\"],[0.7777777777777778,\"#fb9f3a\"],[0.8888888888888888,\"#fdca26\"],[1.0,\"#f0f921\"]]}],\"mesh3d\":[{\"type\":\"mesh3d\",\"colorbar\":{\"outlinewidth\":0,\"ticks\":\"\"}}],\"scatter\":[{\"fillpattern\":{\"fillmode\":\"overlay\",\"size\":10,\"solidity\":0.2},\"type\":\"scatter\"}],\"parcoords\":[{\"type\":\"parcoords\",\"line\":{\"colorbar\":{\"outlinewidth\":0,\"ticks\":\"\"}}}],\"scatterpolargl\":[{\"type\":\"scatterpolargl\",\"marker\":{\"colorbar\":{\"outlinewidth\":0,\"ticks\":\"\"}}}],\"bar\":[{\"error_x\":{\"color\":\"#2a3f5f\"},\"error_y\":{\"color\":\"#2a3f5f\"},\"marker\":{\"line\":{\"color\":\"#E5ECF6\",\"width\":0.5},\"pattern\":{\"fillmode\":\"overlay\",\"size\":10,\"solidity\":0.2}},\"type\":\"bar\"}],\"scattergeo\":[{\"type\":\"scattergeo\",\"marker\":{\"colorbar\":{\"outlinewidth\":0,\"ticks\":\"\"}}}],\"scatterpolar\":[{\"type\":\"scatterpolar\",\"marker\":{\"colorbar\":{\"outlinewidth\":0,\"ticks\":\"\"}}}],\"histogram\":[{\"marker\":{\"pattern\":{\"fillmode\":\"overlay\",\"size\":10,\"solidity\":0.2}},\"type\":\"histogram\"}],\"scattergl\":[{\"type\":\"scattergl\",\"marker\":{\"colorbar\":{\"outlinewidth\":0,\"ticks\":\"\"}}}],\"scatter3d\":[{\"type\":\"scatter3d\",\"line\":{\"colorbar\":{\"outlinewidth\":0,\"ticks\":\"\"}},\"marker\":{\"colorbar\":{\"outlinewidth\":0,\"ticks\":\"\"}}}],\"scattermapbox\":[{\"type\":\"scattermapbox\",\"marker\":{\"colorbar\":{\"outlinewidth\":0,\"ticks\":\"\"}}}],\"scatterternary\":[{\"type\":\"scatterternary\",\"marker\":{\"colorbar\":{\"outlinewidth\":0,\"ticks\":\"\"}}}],\"scattercarpet\":[{\"type\":\"scattercarpet\",\"marker\":{\"colorbar\":{\"outlinewidth\":0,\"ticks\":\"\"}}}],\"carpet\":[{\"aaxis\":{\"endlinecolor\":\"#2a3f5f\",\"gridcolor\":\"white\",\"linecolor\":\"white\",\"minorgridcolor\":\"white\",\"startlinecolor\":\"#2a3f5f\"},\"baxis\":{\"endlinecolor\":\"#2a3f5f\",\"gridcolor\":\"white\",\"linecolor\":\"white\",\"minorgridcolor\":\"white\",\"startlinecolor\":\"#2a3f5f\"},\"type\":\"carpet\"}],\"table\":[{\"cells\":{\"fill\":{\"color\":\"#EBF0F8\"},\"line\":{\"color\":\"white\"}},\"header\":{\"fill\":{\"color\":\"#C8D4E3\"},\"line\":{\"color\":\"white\"}},\"type\":\"table\"}],\"barpolar\":[{\"marker\":{\"line\":{\"color\":\"#E5ECF6\",\"width\":0.5},\"pattern\":{\"fillmode\":\"overlay\",\"size\":10,\"solidity\":0.2}},\"type\":\"barpolar\"}],\"pie\":[{\"automargin\":true,\"type\":\"pie\"}]},\"layout\":{\"autotypenumbers\":\"strict\",\"colorway\":[\"#636efa\",\"#EF553B\",\"#00cc96\",\"#ab63fa\",\"#FFA15A\",\"#19d3f3\",\"#FF6692\",\"#B6E880\",\"#FF97FF\",\"#FECB52\"],\"font\":{\"color\":\"#2a3f5f\"},\"hovermode\":\"closest\",\"hoverlabel\":{\"align\":\"left\"},\"paper_bgcolor\":\"white\",\"plot_bgcolor\":\"#E5ECF6\",\"polar\":{\"bgcolor\":\"#E5ECF6\",\"angularaxis\":{\"gridcolor\":\"white\",\"linecolor\":\"white\",\"ticks\":\"\"},\"radialaxis\":{\"gridcolor\":\"white\",\"linecolor\":\"white\",\"ticks\":\"\"}},\"ternary\":{\"bgcolor\":\"#E5ECF6\",\"aaxis\":{\"gridcolor\":\"white\",\"linecolor\":\"white\",\"ticks\":\"\"},\"baxis\":{\"gridcolor\":\"white\",\"linecolor\":\"white\",\"ticks\":\"\"},\"caxis\":{\"gridcolor\":\"white\",\"linecolor\":\"white\",\"ticks\":\"\"}},\"coloraxis\":{\"colorbar\":{\"outlinewidth\":0,\"ticks\":\"\"}},\"colorscale\":{\"sequential\":[[0.0,\"#0d0887\"],[0.1111111111111111,\"#46039f\"],[0.2222222222222222,\"#7201a8\"],[0.3333333333333333,\"#9c179e\"],[0.4444444444444444,\"#bd3786\"],[0.5555555555555556,\"#d8576b\"],[0.6666666666666666,\"#ed7953\"],[0.7777777777777778,\"#fb9f3a\"],[0.8888888888888888,\"#fdca26\"],[1.0,\"#f0f921\"]],\"sequentialminus\":[[0.0,\"#0d0887\"],[0.1111111111111111,\"#46039f\"],[0.2222222222222222,\"#7201a8\"],[0.3333333333333333,\"#9c179e\"],[0.4444444444444444,\"#bd3786\"],[0.5555555555555556,\"#d8576b\"],[0.6666666666666666,\"#ed7953\"],[0.7777777777777778,\"#fb9f3a\"],[0.8888888888888888,\"#fdca26\"],[1.0,\"#f0f921\"]],\"diverging\":[[0,\"#8e0152\"],[0.1,\"#c51b7d\"],[0.2,\"#de77ae\"],[0.3,\"#f1b6da\"],[0.4,\"#fde0ef\"],[0.5,\"#f7f7f7\"],[0.6,\"#e6f5d0\"],[0.7,\"#b8e186\"],[0.8,\"#7fbc41\"],[0.9,\"#4d9221\"],[1,\"#276419\"]]},\"xaxis\":{\"gridcolor\":\"white\",\"linecolor\":\"white\",\"ticks\":\"\",\"title\":{\"standoff\":15},\"zerolinecolor\":\"white\",\"automargin\":true,\"zerolinewidth\":2},\"yaxis\":{\"gridcolor\":\"white\",\"linecolor\":\"white\",\"ticks\":\"\",\"title\":{\"standoff\":15},\"zerolinecolor\":\"white\",\"automargin\":true,\"zerolinewidth\":2},\"scene\":{\"xaxis\":{\"backgroundcolor\":\"#E5ECF6\",\"gridcolor\":\"white\",\"linecolor\":\"white\",\"showbackground\":true,\"ticks\":\"\",\"zerolinecolor\":\"white\",\"gridwidth\":2},\"yaxis\":{\"backgroundcolor\":\"#E5ECF6\",\"gridcolor\":\"white\",\"linecolor\":\"white\",\"showbackground\":true,\"ticks\":\"\",\"zerolinecolor\":\"white\",\"gridwidth\":2},\"zaxis\":{\"backgroundcolor\":\"#E5ECF6\",\"gridcolor\":\"white\",\"linecolor\":\"white\",\"showbackground\":true,\"ticks\":\"\",\"zerolinecolor\":\"white\",\"gridwidth\":2}},\"shapedefaults\":{\"line\":{\"color\":\"#2a3f5f\"}},\"annotationdefaults\":{\"arrowcolor\":\"#2a3f5f\",\"arrowhead\":0,\"arrowwidth\":1},\"geo\":{\"bgcolor\":\"white\",\"landcolor\":\"#E5ECF6\",\"subunitcolor\":\"white\",\"showland\":true,\"showlakes\":true,\"lakecolor\":\"white\"},\"title\":{\"x\":0.05},\"mapbox\":{\"style\":\"light\"}}},\"xaxis\":{\"anchor\":\"y\",\"domain\":[0.0,1.0],\"title\":{\"text\":\"CoapplicantIncome\"}},\"yaxis\":{\"anchor\":\"x\",\"domain\":[0.0,1.0],\"title\":{\"text\":\"sum of CoapplicantIncome\"}},\"legend\":{\"tracegroupgap\":0},\"margin\":{\"t\":60},\"barmode\":\"relative\",\"title\":{\"text\":\"CoapplicantIncome\"}},                        {\"responsive\": true}                    ).then(function(){\n",
              "                            \n",
              "var gd = document.getElementById('f7f9de01-17a6-4e60-8a43-a66d32cc0a55');\n",
              "var x = new MutationObserver(function (mutations, observer) {{\n",
              "        var display = window.getComputedStyle(gd).display;\n",
              "        if (!display || display === 'none') {{\n",
              "            console.log([gd, 'removed!']);\n",
              "            Plotly.purge(gd);\n",
              "            observer.disconnect();\n",
              "        }}\n",
              "}});\n",
              "\n",
              "// Listen for the removal of the full notebook cells\n",
              "var notebookContainer = gd.closest('#notebook-container');\n",
              "if (notebookContainer) {{\n",
              "    x.observe(notebookContainer, {childList: true});\n",
              "}}\n",
              "\n",
              "// Listen for the clearing of the current output cell\n",
              "var outputEl = gd.closest('.output');\n",
              "if (outputEl) {{\n",
              "    x.observe(outputEl, {childList: true});\n",
              "}}\n",
              "\n",
              "                        })                };                            </script>        </div>\n",
              "</body>\n",
              "</html>"
            ]
          },
          "metadata": {}
        },
        {
          "output_type": "display_data",
          "data": {
            "text/html": [
              "<html>\n",
              "<head><meta charset=\"utf-8\" /></head>\n",
              "<body>\n",
              "    <div>            <script src=\"https://cdnjs.cloudflare.com/ajax/libs/mathjax/2.7.5/MathJax.js?config=TeX-AMS-MML_SVG\"></script><script type=\"text/javascript\">if (window.MathJax && window.MathJax.Hub && window.MathJax.Hub.Config) {window.MathJax.Hub.Config({SVG: {font: \"STIX-Web\"}});}</script>                <script type=\"text/javascript\">window.PlotlyConfig = {MathJaxConfig: 'local'};</script>\n",
              "        <script src=\"https://cdn.plot.ly/plotly-2.18.2.min.js\"></script>                <div id=\"f4e53678-b51a-4671-a91f-dcb27e538d56\" class=\"plotly-graph-div\" style=\"height:525px; width:100%;\"></div>            <script type=\"text/javascript\">                                    window.PLOTLYENV=window.PLOTLYENV || {};                                    if (document.getElementById(\"f4e53678-b51a-4671-a91f-dcb27e538d56\")) {                    Plotly.newPlot(                        \"f4e53678-b51a-4671-a91f-dcb27e538d56\",                        [{\"alignmentgroup\":\"True\",\"bingroup\":\"x\",\"histfunc\":\"sum\",\"hovertemplate\":\"LoanAmount=%{x}<br>sum of LoanAmount=%{y}<extra></extra>\",\"legendgroup\":\"\",\"marker\":{\"color\":\"#636efa\",\"pattern\":{\"shape\":\"\"}},\"name\":\"\",\"offsetgroup\":\"\",\"orientation\":\"v\",\"showlegend\":false,\"x\":[4.852030263919617,4.852030263919617,4.189654742026425,4.787491742782046,4.948759890378168,5.58724865840025,4.553876891600541,5.062595033026967,5.123963979403259,5.855071922202427,4.248495242049359,4.6913478822291435,5.298317366548036,4.736198448394496,2.833213344056216,4.8283137373023015,4.605170185988092,4.330733340286331,4.890349128221754,4.74493212836325,4.6443908991413725,5.752572638825633,4.7535901911063645,4.718498871295094,5.017279836814924,5.25227342804663,4.804021044733257,4.700480365792417,3.5553480614894135,4.787491742782046,5.303304908059076,4.30406509320417,4.663439094112067,4.736198448394496,5.768320995793772,4.852030263919617,4.605170185988092,4.969813299576001,5.214935757608986,4.700480365792417,4.382026634673881,3.8501476017100584,4.31748811353631,4.897839799950911,4.564348191467836,4.477336814478207,3.784189633918261,4.969813299576001,4.787491742782046,4.969813299576001,4.605170185988092,4.787491742782046,4.718498871295094,4.897839799950911,5.655991810819852,4.574710978503383,4.564348191467836,4.90527477843843,5.19295685089021,4.969813299576001,4.787491742782046,4.59511985013459,5.10594547390058,4.852030263919617,4.7535901911063645,5.552959584921617,4.836281906951478,5.7430031878094825,4.8283137373023015,4.912654885736052,5.147494476813453,4.574710978503383,4.394449154672439,4.553876891600541,5.231108616854587,4.727387818712341,5.170483995038151,4.700480365792417,5.19295685089021,4.867534450455582,4.709530201312334,4.852030263919617,5.117993812416755,5.579729825986222,3.912023005428146,4.912654885736052,4.59511985013459,4.6443908991413725,5.3471075307174685,5.1647859739235145,4.875197323201151,5.236441962829949,4.394449154672439,4.804021044733257,3.2188758248682006,4.852030263919617,4.919980925828125,3.912023005428146,4.74493212836325,4.875197323201151,4.890349128221754,5.017279836814924,4.852030263919617,4.852030263919617,5.075173815233827,4.605170185988092,5.41610040220442,4.787491742782046,5.375278407684165,4.543294782270004,4.912654885736052,4.9344739331306915,5.0238805208462765,4.852030263919617,4.770684624465665,5.220355825078324,5.0369526024136295,4.442651256490317,5.1647859739235145,5.556828061699537,5.19295685089021,3.784189633918261,4.919980925828125,4.394449154672439,5.267858159063328,4.532599493153256,5.91350300563827,4.852030263919617,5.075173815233827,5.204006687076795,6.476972362889683,4.30406509320417,4.248495242049359,3.2188758248682006,4.624972813284271,5.66988092298052,4.430816798843313,4.477336814478207,5.488937726156687,4.859812404361672,5.220355825078324,5.123963979403259,5.1647859739235145,4.804021044733257,5.231108616854587,4.605170185988092,4.248495242049359,3.4011973816621555,5.41610040220442,4.8283137373023015,4.770684624465665,5.0238805208462765,5.497168225293202,4.727387818712341,3.912023005428146,6.396929655216146,5.075173815233827,5.231108616854587,4.787491742782046,5.541263545158426,4.584967478670572,5.616771097666572,4.795790545596741,5.062595033026967,4.31748811353631,5.204006687076795,4.718498871295094,4.859812404361672,4.143134726391533,5.298317366548036,4.553876891600541,6.551080335043404,4.394449154672439,5.231108616854587,4.465908118654584,4.7535901911063645,4.61512051684126,6.20455776256869,4.7535901911063645,4.624972813284271,5.19295685089021,4.204692619390966,4.290459441148391,5.560681631015528,4.68213122712422,4.787491742782046,4.189654742026425,4.060443010546419,5.123963979403259,5.236441962829949,3.871201010907891,5.099866427824199,5.075173815233827,4.330733340286331,4.787491742782046,5.135798437050262,5.231108616854587,4.787491742782046,4.727387818712341,4.418840607796598,4.499809670330265,5.111987788356544,4.852030263919617,4.90527477843843,4.820281565605037,4.787491742782046,4.382026634673881,4.007333185232471,4.07753744390572,4.844187086458591,5.365976015021851,4.852030263919617,5.480638923341991,4.867534450455582,4.919980925828125,4.605170185988092,4.90527477843843,4.875197323201151,4.276666119016055,4.844187086458591,4.0943445622221,4.7535901911063645,4.969813299576001,5.1647859739235145,4.852030263919617,5.135798437050262,4.927253685157205,5.3471075307174685,5.062595033026967,5.298317366548036,4.6443908991413725,3.7376696182833684,4.787491742782046,5.634789603169249,4.941642422609304,5.135798437050262,5.541263545158426,4.804021044733257,4.718498871295094,4.564348191467836,4.787491742782046,4.941642422609304,5.043425116919247,4.68213122712422,4.812184355372417,4.787491742782046,4.718498871295094,4.919980925828125,4.812184355372417,4.499809670330265,5.303304908059076,4.927253685157205,4.6443908991413725,5.631211781821365,5.2574953720277815,5.541263545158426,4.74493212836325,4.543294782270004,5.717027701406222,4.852030263919617,5.799092654460526,4.897839799950911,5.043425116919247,4.787491742782046,4.852030263919617,5.017279836814924,5.0106352940962555,5.075173815233827,4.90527477843843,4.499809670330265,3.4011973816621555,4.912654885736052,4.836281906951478,5.0106352940962555,4.499809670330265,4.74493212836325,5.332718793265369,4.382026634673881,6.077642243349034,4.820281565605037,5.062595033026967,4.718498871295094,4.356708826689592,3.9889840465642745,4.852030263919617,4.48863636973214,4.59511985013459,4.787491742782046,4.74493212836325,5.231108616854587,4.9344739331306915,4.844187086458591,4.897839799950911,4.962844630259907,5.147494476813453,4.700480365792417,5.298317366548036,4.90527477843843,5.017279836814924,4.727387818712341,4.532599493153256,4.653960350157523,4.882801922586371,4.564348191467836,4.941642422609304,4.852030263919617,4.90527477843843,4.6443908991413725,6.173786103901937,5.220355825078324,4.430816798843313,4.709530201312334,4.02535169073515,4.969813299576001,5.0689042022202315,4.709530201312334,4.787491742782046,4.477336814478207,4.718498871295094,5.043425116919247,4.74493212836325,4.820281565605037,4.852030263919617,4.882801922586371,5.703782474656201,5.929589143389895,4.867534450455582,5.214935757608986,4.700480365792417,4.204692619390966,4.762173934797756,4.584967478670572,4.2626798770413155,6.194405391104672,5.204006687076795,4.248495242049359,5.075173815233827,5.170483995038151,4.852030263919617,4.2626798770413155,5.153291594497779,3.828641396489095,5.062595033026967,4.30406509320417,4.8283137373023015,5.075173815233827,5.0238805208462765,4.836281906951478,5.556828061699537,5.231108616854587,5.429345628954441,5.730099782973574,4.553876891600541,4.653960350157523,4.867534450455582,4.7535901911063645,5.10594547390058,4.204692619390966,4.605170185988092,5.298317366548036,4.394449154672439,5.4638318050256105,4.867534450455582,4.553876891600541,4.948759890378168,4.890349128221754,4.564348191467836,4.820281565605037,5.1647859739235145,6.345636360828596,4.007333185232471,5.043425116919247,5.940171252720432,4.709530201312334,4.700480365792417,4.787491742782046,4.867534450455582,4.867534450455582,4.2626798770413155,4.867534450455582,4.852030263919617,5.69035945432406,5.049856007249537,4.852030263919617,4.605170185988092,4.727387818712341,4.882801922586371,4.852030263919617,4.912654885736052,4.8283137373023015,5.220355825078324,5.616771097666572,4.787491742782046,4.727387818712341,4.727387818712341,4.90527477843843,4.2626798770413155,4.553876891600541,4.6913478822291435,4.634728988229636,3.8066624897703196,4.174387269895637,4.634728988229636,3.970291913552122,5.267858159063328,4.74493212836325,4.74493212836325,4.189654742026425,5.0238805208462765,5.886104031450156,4.127134385045092,5.075173815233827,5.384495062789089,4.700480365792417,5.181783550292085,4.0943445622221,5.075173815233827,5.476463551931511,4.718498871295094,4.927253685157205,4.927253685157205,4.382026634673881,4.605170185988092,4.700480365792417,4.564348191467836,4.795790545596741,4.394449154672439,4.890349128221754,4.465908118654584,4.0943445622221,5.0106352940962555,4.653960350157523,6.003887067106539,4.962844630259907,4.605170185988092,4.852030263919617,3.912023005428146,4.852030263919617,5.231108616854587,4.927253685157205,5.231108616854587,5.19295685089021,4.997212273764115,5.0238805208462765,5.1647859739235145,4.867534450455582,4.700480365792417,4.007333185232471,5.0106352940962555,5.247024072160486,4.8283137373023015,4.0943445622221,5.003946305945459,4.499809670330265,4.430816798843313,4.564348191467836,4.770684624465665,5.153291594497779,4.912654885736052,5.075173815233827,5.075173815233827,4.852030263919617,5.030437921392435,4.882801922586371,4.584967478670572,4.941642422609304,4.248495242049359,4.700480365792417,4.584967478670572,4.700480365792417,5.087596335232384,4.727387818712341,4.605170185988092,4.532599493153256,5.087596335232384,5.0106352940962555,5.438079308923196,4.882801922586371,4.454347296253507,4.852030263919617,5.0369526024136295,4.727387818712341,4.852030263919617,5.455321115357702,5.5053315359323625,4.875197323201151,4.382026634673881,6.214608098422191,5.075173815233827,4.31748811353631,4.564348191467836,5.225746673713202,4.700480365792417,5.41610040220442,4.77912349311153,4.653960350157523,4.672828834461906,4.709530201312334,4.553876891600541,5.342334251964811,4.727387818712341,4.605170185988092,5.337538079701318,4.927253685157205,4.820281565605037,5.493061443340548,6.173786103901937,4.564348191467836,5.236441962829949,3.6888794541139363,4.605170185988092,5.521460917862246,4.997212273764115,4.248495242049359,5.739792912179234,5.0106352940962555,4.727387818712341,4.812184355372417,5.220355825078324,4.553876891600541,3.8066624897703196,4.007333185232471,4.605170185988092,6.173786103901937,4.852030263919617,5.991464547107982,4.700480365792417,5.081404364984463,4.543294782270004,4.867534450455582,5.375278407684165,4.605170185988092,4.700480365792417,5.278114659230517,4.8283137373023015,4.836281906951478,5.780743515792329,4.672828834461906,4.189654742026425,5.056245805348308,4.941642422609304,4.59511985013459,4.553876891600541,4.852030263919617,4.624972813284271,5.043425116919247,4.382026634673881,4.976733742420574,4.634728988229636,4.700480365792417,4.852030263919617,4.852030263919617,5.062595033026967,5.198497031265826,4.882801922586371,3.258096538021482,4.430816798843313,5.560681631015528,5.087596335232384,5.204006687076795,4.68213122712422,6.396929655216146,5.351858133476067,4.882801922586371,5.552959584921617,4.787491742782046,4.248495242049359,4.812184355372417,2.1972245773362196,4.6443908991413725,5.225746673713202,5.10594547390058,5.616771097666572,5.231108616854587,5.0106352940962555,4.68213122712422,4.912654885736052,4.700480365792417,4.672828834461906,5.081404364984463,5.3230099791384085,4.499809670330265,3.58351893845611,4.110873864173311,4.983606621708336,5.147494476813453,4.6443908991413725,4.248495242049359,4.543294782270004,4.663439094112067,4.02535169073515,5.3230099791384085,5.676753802268282,4.955827057601261,5.560681631015528,4.700480365792417,5.231108616854587,4.477336814478207,5.19295685089021,5.2574953720277815,5.857933154483459,5.043425116919247,4.852030263919617,5.147494476813453,6.206575926724928,4.852030263919617,5.153291594497779,5.056245805348308,4.68213122712422,4.2626798770413155,3.6888794541139363,5.53338948872752,5.231108616854587,4.890349128221754],\"xaxis\":\"x\",\"y\":[4.852030263919617,4.852030263919617,4.189654742026425,4.787491742782046,4.948759890378168,5.58724865840025,4.553876891600541,5.062595033026967,5.123963979403259,5.855071922202427,4.248495242049359,4.6913478822291435,5.298317366548036,4.736198448394496,2.833213344056216,4.8283137373023015,4.605170185988092,4.330733340286331,4.890349128221754,4.74493212836325,4.6443908991413725,5.752572638825633,4.7535901911063645,4.718498871295094,5.017279836814924,5.25227342804663,4.804021044733257,4.700480365792417,3.5553480614894135,4.787491742782046,5.303304908059076,4.30406509320417,4.663439094112067,4.736198448394496,5.768320995793772,4.852030263919617,4.605170185988092,4.969813299576001,5.214935757608986,4.700480365792417,4.382026634673881,3.8501476017100584,4.31748811353631,4.897839799950911,4.564348191467836,4.477336814478207,3.784189633918261,4.969813299576001,4.787491742782046,4.969813299576001,4.605170185988092,4.787491742782046,4.718498871295094,4.897839799950911,5.655991810819852,4.574710978503383,4.564348191467836,4.90527477843843,5.19295685089021,4.969813299576001,4.787491742782046,4.59511985013459,5.10594547390058,4.852030263919617,4.7535901911063645,5.552959584921617,4.836281906951478,5.7430031878094825,4.8283137373023015,4.912654885736052,5.147494476813453,4.574710978503383,4.394449154672439,4.553876891600541,5.231108616854587,4.727387818712341,5.170483995038151,4.700480365792417,5.19295685089021,4.867534450455582,4.709530201312334,4.852030263919617,5.117993812416755,5.579729825986222,3.912023005428146,4.912654885736052,4.59511985013459,4.6443908991413725,5.3471075307174685,5.1647859739235145,4.875197323201151,5.236441962829949,4.394449154672439,4.804021044733257,3.2188758248682006,4.852030263919617,4.919980925828125,3.912023005428146,4.74493212836325,4.875197323201151,4.890349128221754,5.017279836814924,4.852030263919617,4.852030263919617,5.075173815233827,4.605170185988092,5.41610040220442,4.787491742782046,5.375278407684165,4.543294782270004,4.912654885736052,4.9344739331306915,5.0238805208462765,4.852030263919617,4.770684624465665,5.220355825078324,5.0369526024136295,4.442651256490317,5.1647859739235145,5.556828061699537,5.19295685089021,3.784189633918261,4.919980925828125,4.394449154672439,5.267858159063328,4.532599493153256,5.91350300563827,4.852030263919617,5.075173815233827,5.204006687076795,6.476972362889683,4.30406509320417,4.248495242049359,3.2188758248682006,4.624972813284271,5.66988092298052,4.430816798843313,4.477336814478207,5.488937726156687,4.859812404361672,5.220355825078324,5.123963979403259,5.1647859739235145,4.804021044733257,5.231108616854587,4.605170185988092,4.248495242049359,3.4011973816621555,5.41610040220442,4.8283137373023015,4.770684624465665,5.0238805208462765,5.497168225293202,4.727387818712341,3.912023005428146,6.396929655216146,5.075173815233827,5.231108616854587,4.787491742782046,5.541263545158426,4.584967478670572,5.616771097666572,4.795790545596741,5.062595033026967,4.31748811353631,5.204006687076795,4.718498871295094,4.859812404361672,4.143134726391533,5.298317366548036,4.553876891600541,6.551080335043404,4.394449154672439,5.231108616854587,4.465908118654584,4.7535901911063645,4.61512051684126,6.20455776256869,4.7535901911063645,4.624972813284271,5.19295685089021,4.204692619390966,4.290459441148391,5.560681631015528,4.68213122712422,4.787491742782046,4.189654742026425,4.060443010546419,5.123963979403259,5.236441962829949,3.871201010907891,5.099866427824199,5.075173815233827,4.330733340286331,4.787491742782046,5.135798437050262,5.231108616854587,4.787491742782046,4.727387818712341,4.418840607796598,4.499809670330265,5.111987788356544,4.852030263919617,4.90527477843843,4.820281565605037,4.787491742782046,4.382026634673881,4.007333185232471,4.07753744390572,4.844187086458591,5.365976015021851,4.852030263919617,5.480638923341991,4.867534450455582,4.919980925828125,4.605170185988092,4.90527477843843,4.875197323201151,4.276666119016055,4.844187086458591,4.0943445622221,4.7535901911063645,4.969813299576001,5.1647859739235145,4.852030263919617,5.135798437050262,4.927253685157205,5.3471075307174685,5.062595033026967,5.298317366548036,4.6443908991413725,3.7376696182833684,4.787491742782046,5.634789603169249,4.941642422609304,5.135798437050262,5.541263545158426,4.804021044733257,4.718498871295094,4.564348191467836,4.787491742782046,4.941642422609304,5.043425116919247,4.68213122712422,4.812184355372417,4.787491742782046,4.718498871295094,4.919980925828125,4.812184355372417,4.499809670330265,5.303304908059076,4.927253685157205,4.6443908991413725,5.631211781821365,5.2574953720277815,5.541263545158426,4.74493212836325,4.543294782270004,5.717027701406222,4.852030263919617,5.799092654460526,4.897839799950911,5.043425116919247,4.787491742782046,4.852030263919617,5.017279836814924,5.0106352940962555,5.075173815233827,4.90527477843843,4.499809670330265,3.4011973816621555,4.912654885736052,4.836281906951478,5.0106352940962555,4.499809670330265,4.74493212836325,5.332718793265369,4.382026634673881,6.077642243349034,4.820281565605037,5.062595033026967,4.718498871295094,4.356708826689592,3.9889840465642745,4.852030263919617,4.48863636973214,4.59511985013459,4.787491742782046,4.74493212836325,5.231108616854587,4.9344739331306915,4.844187086458591,4.897839799950911,4.962844630259907,5.147494476813453,4.700480365792417,5.298317366548036,4.90527477843843,5.017279836814924,4.727387818712341,4.532599493153256,4.653960350157523,4.882801922586371,4.564348191467836,4.941642422609304,4.852030263919617,4.90527477843843,4.6443908991413725,6.173786103901937,5.220355825078324,4.430816798843313,4.709530201312334,4.02535169073515,4.969813299576001,5.0689042022202315,4.709530201312334,4.787491742782046,4.477336814478207,4.718498871295094,5.043425116919247,4.74493212836325,4.820281565605037,4.852030263919617,4.882801922586371,5.703782474656201,5.929589143389895,4.867534450455582,5.214935757608986,4.700480365792417,4.204692619390966,4.762173934797756,4.584967478670572,4.2626798770413155,6.194405391104672,5.204006687076795,4.248495242049359,5.075173815233827,5.170483995038151,4.852030263919617,4.2626798770413155,5.153291594497779,3.828641396489095,5.062595033026967,4.30406509320417,4.8283137373023015,5.075173815233827,5.0238805208462765,4.836281906951478,5.556828061699537,5.231108616854587,5.429345628954441,5.730099782973574,4.553876891600541,4.653960350157523,4.867534450455582,4.7535901911063645,5.10594547390058,4.204692619390966,4.605170185988092,5.298317366548036,4.394449154672439,5.4638318050256105,4.867534450455582,4.553876891600541,4.948759890378168,4.890349128221754,4.564348191467836,4.820281565605037,5.1647859739235145,6.345636360828596,4.007333185232471,5.043425116919247,5.940171252720432,4.709530201312334,4.700480365792417,4.787491742782046,4.867534450455582,4.867534450455582,4.2626798770413155,4.867534450455582,4.852030263919617,5.69035945432406,5.049856007249537,4.852030263919617,4.605170185988092,4.727387818712341,4.882801922586371,4.852030263919617,4.912654885736052,4.8283137373023015,5.220355825078324,5.616771097666572,4.787491742782046,4.727387818712341,4.727387818712341,4.90527477843843,4.2626798770413155,4.553876891600541,4.6913478822291435,4.634728988229636,3.8066624897703196,4.174387269895637,4.634728988229636,3.970291913552122,5.267858159063328,4.74493212836325,4.74493212836325,4.189654742026425,5.0238805208462765,5.886104031450156,4.127134385045092,5.075173815233827,5.384495062789089,4.700480365792417,5.181783550292085,4.0943445622221,5.075173815233827,5.476463551931511,4.718498871295094,4.927253685157205,4.927253685157205,4.382026634673881,4.605170185988092,4.700480365792417,4.564348191467836,4.795790545596741,4.394449154672439,4.890349128221754,4.465908118654584,4.0943445622221,5.0106352940962555,4.653960350157523,6.003887067106539,4.962844630259907,4.605170185988092,4.852030263919617,3.912023005428146,4.852030263919617,5.231108616854587,4.927253685157205,5.231108616854587,5.19295685089021,4.997212273764115,5.0238805208462765,5.1647859739235145,4.867534450455582,4.700480365792417,4.007333185232471,5.0106352940962555,5.247024072160486,4.8283137373023015,4.0943445622221,5.003946305945459,4.499809670330265,4.430816798843313,4.564348191467836,4.770684624465665,5.153291594497779,4.912654885736052,5.075173815233827,5.075173815233827,4.852030263919617,5.030437921392435,4.882801922586371,4.584967478670572,4.941642422609304,4.248495242049359,4.700480365792417,4.584967478670572,4.700480365792417,5.087596335232384,4.727387818712341,4.605170185988092,4.532599493153256,5.087596335232384,5.0106352940962555,5.438079308923196,4.882801922586371,4.454347296253507,4.852030263919617,5.0369526024136295,4.727387818712341,4.852030263919617,5.455321115357702,5.5053315359323625,4.875197323201151,4.382026634673881,6.214608098422191,5.075173815233827,4.31748811353631,4.564348191467836,5.225746673713202,4.700480365792417,5.41610040220442,4.77912349311153,4.653960350157523,4.672828834461906,4.709530201312334,4.553876891600541,5.342334251964811,4.727387818712341,4.605170185988092,5.337538079701318,4.927253685157205,4.820281565605037,5.493061443340548,6.173786103901937,4.564348191467836,5.236441962829949,3.6888794541139363,4.605170185988092,5.521460917862246,4.997212273764115,4.248495242049359,5.739792912179234,5.0106352940962555,4.727387818712341,4.812184355372417,5.220355825078324,4.553876891600541,3.8066624897703196,4.007333185232471,4.605170185988092,6.173786103901937,4.852030263919617,5.991464547107982,4.700480365792417,5.081404364984463,4.543294782270004,4.867534450455582,5.375278407684165,4.605170185988092,4.700480365792417,5.278114659230517,4.8283137373023015,4.836281906951478,5.780743515792329,4.672828834461906,4.189654742026425,5.056245805348308,4.941642422609304,4.59511985013459,4.553876891600541,4.852030263919617,4.624972813284271,5.043425116919247,4.382026634673881,4.976733742420574,4.634728988229636,4.700480365792417,4.852030263919617,4.852030263919617,5.062595033026967,5.198497031265826,4.882801922586371,3.258096538021482,4.430816798843313,5.560681631015528,5.087596335232384,5.204006687076795,4.68213122712422,6.396929655216146,5.351858133476067,4.882801922586371,5.552959584921617,4.787491742782046,4.248495242049359,4.812184355372417,2.1972245773362196,4.6443908991413725,5.225746673713202,5.10594547390058,5.616771097666572,5.231108616854587,5.0106352940962555,4.68213122712422,4.912654885736052,4.700480365792417,4.672828834461906,5.081404364984463,5.3230099791384085,4.499809670330265,3.58351893845611,4.110873864173311,4.983606621708336,5.147494476813453,4.6443908991413725,4.248495242049359,4.543294782270004,4.663439094112067,4.02535169073515,5.3230099791384085,5.676753802268282,4.955827057601261,5.560681631015528,4.700480365792417,5.231108616854587,4.477336814478207,5.19295685089021,5.2574953720277815,5.857933154483459,5.043425116919247,4.852030263919617,5.147494476813453,6.206575926724928,4.852030263919617,5.153291594497779,5.056245805348308,4.68213122712422,4.2626798770413155,3.6888794541139363,5.53338948872752,5.231108616854587,4.890349128221754],\"yaxis\":\"y\",\"type\":\"histogram\"}],                        {\"template\":{\"data\":{\"histogram2dcontour\":[{\"type\":\"histogram2dcontour\",\"colorbar\":{\"outlinewidth\":0,\"ticks\":\"\"},\"colorscale\":[[0.0,\"#0d0887\"],[0.1111111111111111,\"#46039f\"],[0.2222222222222222,\"#7201a8\"],[0.3333333333333333,\"#9c179e\"],[0.4444444444444444,\"#bd3786\"],[0.5555555555555556,\"#d8576b\"],[0.6666666666666666,\"#ed7953\"],[0.7777777777777778,\"#fb9f3a\"],[0.8888888888888888,\"#fdca26\"],[1.0,\"#f0f921\"]]}],\"choropleth\":[{\"type\":\"choropleth\",\"colorbar\":{\"outlinewidth\":0,\"ticks\":\"\"}}],\"histogram2d\":[{\"type\":\"histogram2d\",\"colorbar\":{\"outlinewidth\":0,\"ticks\":\"\"},\"colorscale\":[[0.0,\"#0d0887\"],[0.1111111111111111,\"#46039f\"],[0.2222222222222222,\"#7201a8\"],[0.3333333333333333,\"#9c179e\"],[0.4444444444444444,\"#bd3786\"],[0.5555555555555556,\"#d8576b\"],[0.6666666666666666,\"#ed7953\"],[0.7777777777777778,\"#fb9f3a\"],[0.8888888888888888,\"#fdca26\"],[1.0,\"#f0f921\"]]}],\"heatmap\":[{\"type\":\"heatmap\",\"colorbar\":{\"outlinewidth\":0,\"ticks\":\"\"},\"colorscale\":[[0.0,\"#0d0887\"],[0.1111111111111111,\"#46039f\"],[0.2222222222222222,\"#7201a8\"],[0.3333333333333333,\"#9c179e\"],[0.4444444444444444,\"#bd3786\"],[0.5555555555555556,\"#d8576b\"],[0.6666666666666666,\"#ed7953\"],[0.7777777777777778,\"#fb9f3a\"],[0.8888888888888888,\"#fdca26\"],[1.0,\"#f0f921\"]]}],\"heatmapgl\":[{\"type\":\"heatmapgl\",\"colorbar\":{\"outlinewidth\":0,\"ticks\":\"\"},\"colorscale\":[[0.0,\"#0d0887\"],[0.1111111111111111,\"#46039f\"],[0.2222222222222222,\"#7201a8\"],[0.3333333333333333,\"#9c179e\"],[0.4444444444444444,\"#bd3786\"],[0.5555555555555556,\"#d8576b\"],[0.6666666666666666,\"#ed7953\"],[0.7777777777777778,\"#fb9f3a\"],[0.8888888888888888,\"#fdca26\"],[1.0,\"#f0f921\"]]}],\"contourcarpet\":[{\"type\":\"contourcarpet\",\"colorbar\":{\"outlinewidth\":0,\"ticks\":\"\"}}],\"contour\":[{\"type\":\"contour\",\"colorbar\":{\"outlinewidth\":0,\"ticks\":\"\"},\"colorscale\":[[0.0,\"#0d0887\"],[0.1111111111111111,\"#46039f\"],[0.2222222222222222,\"#7201a8\"],[0.3333333333333333,\"#9c179e\"],[0.4444444444444444,\"#bd3786\"],[0.5555555555555556,\"#d8576b\"],[0.6666666666666666,\"#ed7953\"],[0.7777777777777778,\"#fb9f3a\"],[0.8888888888888888,\"#fdca26\"],[1.0,\"#f0f921\"]]}],\"surface\":[{\"type\":\"surface\",\"colorbar\":{\"outlinewidth\":0,\"ticks\":\"\"},\"colorscale\":[[0.0,\"#0d0887\"],[0.1111111111111111,\"#46039f\"],[0.2222222222222222,\"#7201a8\"],[0.3333333333333333,\"#9c179e\"],[0.4444444444444444,\"#bd3786\"],[0.5555555555555556,\"#d8576b\"],[0.6666666666666666,\"#ed7953\"],[0.7777777777777778,\"#fb9f3a\"],[0.8888888888888888,\"#fdca26\"],[1.0,\"#f0f921\"]]}],\"mesh3d\":[{\"type\":\"mesh3d\",\"colorbar\":{\"outlinewidth\":0,\"ticks\":\"\"}}],\"scatter\":[{\"fillpattern\":{\"fillmode\":\"overlay\",\"size\":10,\"solidity\":0.2},\"type\":\"scatter\"}],\"parcoords\":[{\"type\":\"parcoords\",\"line\":{\"colorbar\":{\"outlinewidth\":0,\"ticks\":\"\"}}}],\"scatterpolargl\":[{\"type\":\"scatterpolargl\",\"marker\":{\"colorbar\":{\"outlinewidth\":0,\"ticks\":\"\"}}}],\"bar\":[{\"error_x\":{\"color\":\"#2a3f5f\"},\"error_y\":{\"color\":\"#2a3f5f\"},\"marker\":{\"line\":{\"color\":\"#E5ECF6\",\"width\":0.5},\"pattern\":{\"fillmode\":\"overlay\",\"size\":10,\"solidity\":0.2}},\"type\":\"bar\"}],\"scattergeo\":[{\"type\":\"scattergeo\",\"marker\":{\"colorbar\":{\"outlinewidth\":0,\"ticks\":\"\"}}}],\"scatterpolar\":[{\"type\":\"scatterpolar\",\"marker\":{\"colorbar\":{\"outlinewidth\":0,\"ticks\":\"\"}}}],\"histogram\":[{\"marker\":{\"pattern\":{\"fillmode\":\"overlay\",\"size\":10,\"solidity\":0.2}},\"type\":\"histogram\"}],\"scattergl\":[{\"type\":\"scattergl\",\"marker\":{\"colorbar\":{\"outlinewidth\":0,\"ticks\":\"\"}}}],\"scatter3d\":[{\"type\":\"scatter3d\",\"line\":{\"colorbar\":{\"outlinewidth\":0,\"ticks\":\"\"}},\"marker\":{\"colorbar\":{\"outlinewidth\":0,\"ticks\":\"\"}}}],\"scattermapbox\":[{\"type\":\"scattermapbox\",\"marker\":{\"colorbar\":{\"outlinewidth\":0,\"ticks\":\"\"}}}],\"scatterternary\":[{\"type\":\"scatterternary\",\"marker\":{\"colorbar\":{\"outlinewidth\":0,\"ticks\":\"\"}}}],\"scattercarpet\":[{\"type\":\"scattercarpet\",\"marker\":{\"colorbar\":{\"outlinewidth\":0,\"ticks\":\"\"}}}],\"carpet\":[{\"aaxis\":{\"endlinecolor\":\"#2a3f5f\",\"gridcolor\":\"white\",\"linecolor\":\"white\",\"minorgridcolor\":\"white\",\"startlinecolor\":\"#2a3f5f\"},\"baxis\":{\"endlinecolor\":\"#2a3f5f\",\"gridcolor\":\"white\",\"linecolor\":\"white\",\"minorgridcolor\":\"white\",\"startlinecolor\":\"#2a3f5f\"},\"type\":\"carpet\"}],\"table\":[{\"cells\":{\"fill\":{\"color\":\"#EBF0F8\"},\"line\":{\"color\":\"white\"}},\"header\":{\"fill\":{\"color\":\"#C8D4E3\"},\"line\":{\"color\":\"white\"}},\"type\":\"table\"}],\"barpolar\":[{\"marker\":{\"line\":{\"color\":\"#E5ECF6\",\"width\":0.5},\"pattern\":{\"fillmode\":\"overlay\",\"size\":10,\"solidity\":0.2}},\"type\":\"barpolar\"}],\"pie\":[{\"automargin\":true,\"type\":\"pie\"}]},\"layout\":{\"autotypenumbers\":\"strict\",\"colorway\":[\"#636efa\",\"#EF553B\",\"#00cc96\",\"#ab63fa\",\"#FFA15A\",\"#19d3f3\",\"#FF6692\",\"#B6E880\",\"#FF97FF\",\"#FECB52\"],\"font\":{\"color\":\"#2a3f5f\"},\"hovermode\":\"closest\",\"hoverlabel\":{\"align\":\"left\"},\"paper_bgcolor\":\"white\",\"plot_bgcolor\":\"#E5ECF6\",\"polar\":{\"bgcolor\":\"#E5ECF6\",\"angularaxis\":{\"gridcolor\":\"white\",\"linecolor\":\"white\",\"ticks\":\"\"},\"radialaxis\":{\"gridcolor\":\"white\",\"linecolor\":\"white\",\"ticks\":\"\"}},\"ternary\":{\"bgcolor\":\"#E5ECF6\",\"aaxis\":{\"gridcolor\":\"white\",\"linecolor\":\"white\",\"ticks\":\"\"},\"baxis\":{\"gridcolor\":\"white\",\"linecolor\":\"white\",\"ticks\":\"\"},\"caxis\":{\"gridcolor\":\"white\",\"linecolor\":\"white\",\"ticks\":\"\"}},\"coloraxis\":{\"colorbar\":{\"outlinewidth\":0,\"ticks\":\"\"}},\"colorscale\":{\"sequential\":[[0.0,\"#0d0887\"],[0.1111111111111111,\"#46039f\"],[0.2222222222222222,\"#7201a8\"],[0.3333333333333333,\"#9c179e\"],[0.4444444444444444,\"#bd3786\"],[0.5555555555555556,\"#d8576b\"],[0.6666666666666666,\"#ed7953\"],[0.7777777777777778,\"#fb9f3a\"],[0.8888888888888888,\"#fdca26\"],[1.0,\"#f0f921\"]],\"sequentialminus\":[[0.0,\"#0d0887\"],[0.1111111111111111,\"#46039f\"],[0.2222222222222222,\"#7201a8\"],[0.3333333333333333,\"#9c179e\"],[0.4444444444444444,\"#bd3786\"],[0.5555555555555556,\"#d8576b\"],[0.6666666666666666,\"#ed7953\"],[0.7777777777777778,\"#fb9f3a\"],[0.8888888888888888,\"#fdca26\"],[1.0,\"#f0f921\"]],\"diverging\":[[0,\"#8e0152\"],[0.1,\"#c51b7d\"],[0.2,\"#de77ae\"],[0.3,\"#f1b6da\"],[0.4,\"#fde0ef\"],[0.5,\"#f7f7f7\"],[0.6,\"#e6f5d0\"],[0.7,\"#b8e186\"],[0.8,\"#7fbc41\"],[0.9,\"#4d9221\"],[1,\"#276419\"]]},\"xaxis\":{\"gridcolor\":\"white\",\"linecolor\":\"white\",\"ticks\":\"\",\"title\":{\"standoff\":15},\"zerolinecolor\":\"white\",\"automargin\":true,\"zerolinewidth\":2},\"yaxis\":{\"gridcolor\":\"white\",\"linecolor\":\"white\",\"ticks\":\"\",\"title\":{\"standoff\":15},\"zerolinecolor\":\"white\",\"automargin\":true,\"zerolinewidth\":2},\"scene\":{\"xaxis\":{\"backgroundcolor\":\"#E5ECF6\",\"gridcolor\":\"white\",\"linecolor\":\"white\",\"showbackground\":true,\"ticks\":\"\",\"zerolinecolor\":\"white\",\"gridwidth\":2},\"yaxis\":{\"backgroundcolor\":\"#E5ECF6\",\"gridcolor\":\"white\",\"linecolor\":\"white\",\"showbackground\":true,\"ticks\":\"\",\"zerolinecolor\":\"white\",\"gridwidth\":2},\"zaxis\":{\"backgroundcolor\":\"#E5ECF6\",\"gridcolor\":\"white\",\"linecolor\":\"white\",\"showbackground\":true,\"ticks\":\"\",\"zerolinecolor\":\"white\",\"gridwidth\":2}},\"shapedefaults\":{\"line\":{\"color\":\"#2a3f5f\"}},\"annotationdefaults\":{\"arrowcolor\":\"#2a3f5f\",\"arrowhead\":0,\"arrowwidth\":1},\"geo\":{\"bgcolor\":\"white\",\"landcolor\":\"#E5ECF6\",\"subunitcolor\":\"white\",\"showland\":true,\"showlakes\":true,\"lakecolor\":\"white\"},\"title\":{\"x\":0.05},\"mapbox\":{\"style\":\"light\"}}},\"xaxis\":{\"anchor\":\"y\",\"domain\":[0.0,1.0],\"title\":{\"text\":\"LoanAmount\"}},\"yaxis\":{\"anchor\":\"x\",\"domain\":[0.0,1.0],\"title\":{\"text\":\"sum of LoanAmount\"}},\"legend\":{\"tracegroupgap\":0},\"margin\":{\"t\":60},\"barmode\":\"relative\",\"title\":{\"text\":\"LoanAmount\"}},                        {\"responsive\": true}                    ).then(function(){\n",
              "                            \n",
              "var gd = document.getElementById('f4e53678-b51a-4671-a91f-dcb27e538d56');\n",
              "var x = new MutationObserver(function (mutations, observer) {{\n",
              "        var display = window.getComputedStyle(gd).display;\n",
              "        if (!display || display === 'none') {{\n",
              "            console.log([gd, 'removed!']);\n",
              "            Plotly.purge(gd);\n",
              "            observer.disconnect();\n",
              "        }}\n",
              "}});\n",
              "\n",
              "// Listen for the removal of the full notebook cells\n",
              "var notebookContainer = gd.closest('#notebook-container');\n",
              "if (notebookContainer) {{\n",
              "    x.observe(notebookContainer, {childList: true});\n",
              "}}\n",
              "\n",
              "// Listen for the clearing of the current output cell\n",
              "var outputEl = gd.closest('.output');\n",
              "if (outputEl) {{\n",
              "    x.observe(outputEl, {childList: true});\n",
              "}}\n",
              "\n",
              "                        })                };                            </script>        </div>\n",
              "</body>\n",
              "</html>"
            ]
          },
          "metadata": {}
        },
        {
          "output_type": "display_data",
          "data": {
            "text/plain": [
              "<Figure size 1000x400 with 0 Axes>"
            ]
          },
          "metadata": {}
        }
      ]
    },
    {
      "cell_type": "markdown",
      "source": [
        "Now we can see that Bell Curve for all three variables and data is normally distributed now."
      ],
      "metadata": {
        "id": "J6sLBNK3MgqH"
      }
    },
    {
      "cell_type": "code",
      "source": [
        "'''\n",
        "data[\"Gender\"] = le.fit_transform(data[\"Gender\"])\n",
        "data[\"Married\"] = le.fit_transform(data[\"Married\"])\n",
        "data[\"Education\"] = le.fit_transform(data[\"Education\"])\n",
        "data[\"Self_Employed\"] = le.fit_transform(data[\"Self_Employed\"])\n",
        "data[\"Property_Area\"] = le.fit_transform(data[\"Property_Area\"])\n",
        "data[\"Loan_Status\"] = le.fit_transform(data[\"Loan_Status\"])\n",
        "\n",
        "#data = pd.get_dummies(data)\n",
        "data.head(5)\n",
        "'''"
      ],
      "metadata": {
        "id": "o9PfvqaAMxXQ"
      },
      "execution_count": null,
      "outputs": []
    },
    {
      "cell_type": "code",
      "source": [
        "from sklearn.preprocessing import LabelEncoder\n",
        "var_mod = ['Gender','Married','Dependents','Education','Self_Employed','Property_Area','Loan_Status']\n",
        "le = LabelEncoder()\n",
        "for i in var_mod:\n",
        "    data[i] = le.fit_transform(data[i])\n",
        "data.head() "
      ],
      "metadata": {
        "colab": {
          "base_uri": "https://localhost:8080/",
          "height": 270
        },
        "id": "KQ5zOfXLMvOY",
        "outputId": "73604aa0-65b5-4ab0-df37-05a13e01c423"
      },
      "execution_count": null,
      "outputs": [
        {
          "output_type": "execute_result",
          "data": {
            "text/plain": [
              "    Loan_ID  Gender  Married  Dependents  Education  Self_Employed  \\\n",
              "0  LP001002       1        0           0          0              0   \n",
              "1  LP001003       1        1           1          0              0   \n",
              "2  LP001005       1        1           0          0              1   \n",
              "3  LP001006       1        1           0          1              0   \n",
              "4  LP001008       1        0           0          0              0   \n",
              "\n",
              "   ApplicantIncome  CoapplicantIncome  LoanAmount  Loan_Amount_Term  \\\n",
              "0         8.674026           0.000000    4.852030             360.0   \n",
              "1         8.430109           7.318540    4.852030             360.0   \n",
              "2         8.006368           0.000000    4.189655             360.0   \n",
              "3         7.856707           7.765569    4.787492             360.0   \n",
              "4         8.699515           0.000000    4.948760             360.0   \n",
              "\n",
              "   Credit_History  Property_Area  Loan_Status  \n",
              "0             1.0              2            1  \n",
              "1             1.0              0            0  \n",
              "2             1.0              2            1  \n",
              "3             1.0              2            1  \n",
              "4             1.0              2            1  "
            ],
            "text/html": [
              "\n",
              "  <div id=\"df-05e2d280-32e7-49be-9455-1ab2a9cd96c2\">\n",
              "    <div class=\"colab-df-container\">\n",
              "      <div>\n",
              "<style scoped>\n",
              "    .dataframe tbody tr th:only-of-type {\n",
              "        vertical-align: middle;\n",
              "    }\n",
              "\n",
              "    .dataframe tbody tr th {\n",
              "        vertical-align: top;\n",
              "    }\n",
              "\n",
              "    .dataframe thead th {\n",
              "        text-align: right;\n",
              "    }\n",
              "</style>\n",
              "<table border=\"1\" class=\"dataframe\">\n",
              "  <thead>\n",
              "    <tr style=\"text-align: right;\">\n",
              "      <th></th>\n",
              "      <th>Loan_ID</th>\n",
              "      <th>Gender</th>\n",
              "      <th>Married</th>\n",
              "      <th>Dependents</th>\n",
              "      <th>Education</th>\n",
              "      <th>Self_Employed</th>\n",
              "      <th>ApplicantIncome</th>\n",
              "      <th>CoapplicantIncome</th>\n",
              "      <th>LoanAmount</th>\n",
              "      <th>Loan_Amount_Term</th>\n",
              "      <th>Credit_History</th>\n",
              "      <th>Property_Area</th>\n",
              "      <th>Loan_Status</th>\n",
              "    </tr>\n",
              "  </thead>\n",
              "  <tbody>\n",
              "    <tr>\n",
              "      <th>0</th>\n",
              "      <td>LP001002</td>\n",
              "      <td>1</td>\n",
              "      <td>0</td>\n",
              "      <td>0</td>\n",
              "      <td>0</td>\n",
              "      <td>0</td>\n",
              "      <td>8.674026</td>\n",
              "      <td>0.000000</td>\n",
              "      <td>4.852030</td>\n",
              "      <td>360.0</td>\n",
              "      <td>1.0</td>\n",
              "      <td>2</td>\n",
              "      <td>1</td>\n",
              "    </tr>\n",
              "    <tr>\n",
              "      <th>1</th>\n",
              "      <td>LP001003</td>\n",
              "      <td>1</td>\n",
              "      <td>1</td>\n",
              "      <td>1</td>\n",
              "      <td>0</td>\n",
              "      <td>0</td>\n",
              "      <td>8.430109</td>\n",
              "      <td>7.318540</td>\n",
              "      <td>4.852030</td>\n",
              "      <td>360.0</td>\n",
              "      <td>1.0</td>\n",
              "      <td>0</td>\n",
              "      <td>0</td>\n",
              "    </tr>\n",
              "    <tr>\n",
              "      <th>2</th>\n",
              "      <td>LP001005</td>\n",
              "      <td>1</td>\n",
              "      <td>1</td>\n",
              "      <td>0</td>\n",
              "      <td>0</td>\n",
              "      <td>1</td>\n",
              "      <td>8.006368</td>\n",
              "      <td>0.000000</td>\n",
              "      <td>4.189655</td>\n",
              "      <td>360.0</td>\n",
              "      <td>1.0</td>\n",
              "      <td>2</td>\n",
              "      <td>1</td>\n",
              "    </tr>\n",
              "    <tr>\n",
              "      <th>3</th>\n",
              "      <td>LP001006</td>\n",
              "      <td>1</td>\n",
              "      <td>1</td>\n",
              "      <td>0</td>\n",
              "      <td>1</td>\n",
              "      <td>0</td>\n",
              "      <td>7.856707</td>\n",
              "      <td>7.765569</td>\n",
              "      <td>4.787492</td>\n",
              "      <td>360.0</td>\n",
              "      <td>1.0</td>\n",
              "      <td>2</td>\n",
              "      <td>1</td>\n",
              "    </tr>\n",
              "    <tr>\n",
              "      <th>4</th>\n",
              "      <td>LP001008</td>\n",
              "      <td>1</td>\n",
              "      <td>0</td>\n",
              "      <td>0</td>\n",
              "      <td>0</td>\n",
              "      <td>0</td>\n",
              "      <td>8.699515</td>\n",
              "      <td>0.000000</td>\n",
              "      <td>4.948760</td>\n",
              "      <td>360.0</td>\n",
              "      <td>1.0</td>\n",
              "      <td>2</td>\n",
              "      <td>1</td>\n",
              "    </tr>\n",
              "  </tbody>\n",
              "</table>\n",
              "</div>\n",
              "      <button class=\"colab-df-convert\" onclick=\"convertToInteractive('df-05e2d280-32e7-49be-9455-1ab2a9cd96c2')\"\n",
              "              title=\"Convert this dataframe to an interactive table.\"\n",
              "              style=\"display:none;\">\n",
              "        \n",
              "  <svg xmlns=\"http://www.w3.org/2000/svg\" height=\"24px\"viewBox=\"0 0 24 24\"\n",
              "       width=\"24px\">\n",
              "    <path d=\"M0 0h24v24H0V0z\" fill=\"none\"/>\n",
              "    <path d=\"M18.56 5.44l.94 2.06.94-2.06 2.06-.94-2.06-.94-.94-2.06-.94 2.06-2.06.94zm-11 1L8.5 8.5l.94-2.06 2.06-.94-2.06-.94L8.5 2.5l-.94 2.06-2.06.94zm10 10l.94 2.06.94-2.06 2.06-.94-2.06-.94-.94-2.06-.94 2.06-2.06.94z\"/><path d=\"M17.41 7.96l-1.37-1.37c-.4-.4-.92-.59-1.43-.59-.52 0-1.04.2-1.43.59L10.3 9.45l-7.72 7.72c-.78.78-.78 2.05 0 2.83L4 21.41c.39.39.9.59 1.41.59.51 0 1.02-.2 1.41-.59l7.78-7.78 2.81-2.81c.8-.78.8-2.07 0-2.86zM5.41 20L4 18.59l7.72-7.72 1.47 1.35L5.41 20z\"/>\n",
              "  </svg>\n",
              "      </button>\n",
              "      \n",
              "  <style>\n",
              "    .colab-df-container {\n",
              "      display:flex;\n",
              "      flex-wrap:wrap;\n",
              "      gap: 12px;\n",
              "    }\n",
              "\n",
              "    .colab-df-convert {\n",
              "      background-color: #E8F0FE;\n",
              "      border: none;\n",
              "      border-radius: 50%;\n",
              "      cursor: pointer;\n",
              "      display: none;\n",
              "      fill: #1967D2;\n",
              "      height: 32px;\n",
              "      padding: 0 0 0 0;\n",
              "      width: 32px;\n",
              "    }\n",
              "\n",
              "    .colab-df-convert:hover {\n",
              "      background-color: #E2EBFA;\n",
              "      box-shadow: 0px 1px 2px rgba(60, 64, 67, 0.3), 0px 1px 3px 1px rgba(60, 64, 67, 0.15);\n",
              "      fill: #174EA6;\n",
              "    }\n",
              "\n",
              "    [theme=dark] .colab-df-convert {\n",
              "      background-color: #3B4455;\n",
              "      fill: #D2E3FC;\n",
              "    }\n",
              "\n",
              "    [theme=dark] .colab-df-convert:hover {\n",
              "      background-color: #434B5C;\n",
              "      box-shadow: 0px 1px 3px 1px rgba(0, 0, 0, 0.15);\n",
              "      filter: drop-shadow(0px 1px 2px rgba(0, 0, 0, 0.3));\n",
              "      fill: #FFFFFF;\n",
              "    }\n",
              "  </style>\n",
              "\n",
              "      <script>\n",
              "        const buttonEl =\n",
              "          document.querySelector('#df-05e2d280-32e7-49be-9455-1ab2a9cd96c2 button.colab-df-convert');\n",
              "        buttonEl.style.display =\n",
              "          google.colab.kernel.accessAllowed ? 'block' : 'none';\n",
              "\n",
              "        async function convertToInteractive(key) {\n",
              "          const element = document.querySelector('#df-05e2d280-32e7-49be-9455-1ab2a9cd96c2');\n",
              "          const dataTable =\n",
              "            await google.colab.kernel.invokeFunction('convertToInteractive',\n",
              "                                                     [key], {});\n",
              "          if (!dataTable) return;\n",
              "\n",
              "          const docLinkHtml = 'Like what you see? Visit the ' +\n",
              "            '<a target=\"_blank\" href=https://colab.research.google.com/notebooks/data_table.ipynb>data table notebook</a>'\n",
              "            + ' to learn more about interactive tables.';\n",
              "          element.innerHTML = '';\n",
              "          dataTable['output_type'] = 'display_data';\n",
              "          await google.colab.output.renderOutput(dataTable, element);\n",
              "          const docLink = document.createElement('div');\n",
              "          docLink.innerHTML = docLinkHtml;\n",
              "          element.appendChild(docLink);\n",
              "        }\n",
              "      </script>\n",
              "    </div>\n",
              "  </div>\n",
              "  "
            ]
          },
          "metadata": {},
          "execution_count": 13
        }
      ]
    },
    {
      "cell_type": "markdown",
      "source": [
        "**Feature Importance**\n",
        "\n",
        "In order to create best predictive model we need to best understand the available data and get most information from the data.\n",
        "\n",
        "In multivariate data it is important to understand the importance of varialbes and how much they are contributing towards the target variable. Such that we can remove unnecessary variables to increase model performance.\n",
        "\n",
        "Many times dataset consists of exta columns which do not identically serve information to classify the data. This leads in Wrong Assumption of model while training.\n",
        "\n",
        "To understand the importance of the data we are going to use Machine Learning classifiers and then will plot bar graph based on importance.\n",
        "\n",
        "Also XGBoost has built-in Feature Importance Plotting tool which we are going to use.\n",
        "\n",
        "Using more than one classifier will increase the confidence on our assumption of which variables to keep and which to remove."
      ],
      "metadata": {
        "id": "oyblU0aYN5hB"
      }
    },
    {
      "cell_type": "code",
      "source": [
        "#Dividing data into Input X variables and Target Y variable\n",
        "X = data.drop([\"Loan_Status\",\"Loan_ID\"],axis=1)\n",
        "y = data[\"Loan_Status\"]"
      ],
      "metadata": {
        "id": "9XKokeMHOws_"
      },
      "execution_count": null,
      "outputs": []
    },
    {
      "cell_type": "code",
      "source": [
        "print(\"Feature importance by XGBoost:->\\n\")\n",
        "XGBR = XGBClassifier()\n",
        "XGBR.fit(X,y)\n",
        "features = XGBR.feature_importances_\n",
        "Columns = list(X.columns)\n",
        "for i,j in enumerate(features):\n",
        "    print(Columns[i],\"->\",j)\n",
        "plt.figure(figsize=(16,5))\n",
        "plt.title(label=\"XGBC\")\n",
        "plt.bar([x for x in range(len(features))],features)\n",
        "plt.show()\n",
        "\n",
        "plot_importance(XGBR)\n",
        "\n",
        "print(\"Feature importance by Random Forest:->\\n\")\n",
        "RF = RandomForestClassifier()\n",
        "RF.fit(X,y)\n",
        "features = RF.feature_importances_\n",
        "Columns = list(X.columns)\n",
        "for i,j in enumerate(features):\n",
        "    print(Columns[i],\"->\",j)\n",
        "plt.figure(figsize=(16,5))\n",
        "plt.title(label=\"RF\")\n",
        "plt.bar([x for x in range(len(features))],features)\n",
        "plt.show()\n",
        "\n",
        "print(\"Feature importance by Decision Tree:->\\n\")\n",
        "DT = DecisionTreeClassifier()\n",
        "DT.fit(X,y)\n",
        "features = DT.feature_importances_\n",
        "Columns = list(X.columns)\n",
        "for i,j in enumerate(features):\n",
        "    print(Columns[i],\"->\",j)\n",
        "plt.figure(figsize=(16,5))\n",
        "plt.title(label=\"DT\")\n",
        "plt.bar([x for x in range(len(features))],features)\n",
        "plt.show()\n",
        "\n",
        "print(\"Feature importance by Suppoprt Vector Machine:->\\n\")\n",
        "SVM = SVC(kernel=\"linear\")\n",
        "SVM.fit(X,y)\n",
        "features = SVM.coef_[0]\n",
        "Columns = list(X.columns)\n",
        "for i,j in enumerate(features):\n",
        "    print(Columns[i],\"->\",j)\n",
        "plt.figure(figsize=(16,5))\n",
        "plt.bar([x for x in range(len(features))],features)\n",
        "plt.show()\n",
        "\n",
        "print(\"Feature importance by Logistic Regression:->\\n\")\n",
        "LOGC = LogisticRegression()\n",
        "LOGC.fit(X,y)\n",
        "features = LOGC.coef_[0]\n",
        "Columns = list(X.columns)\n",
        "for i,j in enumerate(features):\n",
        "    print(Columns[i],\"->\",j)\n",
        "plt.figure(figsize=(16,5))\n",
        "plt.title(label=\"LOGC\")\n",
        "plt.bar([x for x in range(len(features))],features)\n",
        "plt.show()"
      ],
      "metadata": {
        "colab": {
          "base_uri": "https://localhost:8080/",
          "height": 1000
        },
        "id": "obidq_-tO6dX",
        "outputId": "e75465ec-a135-405b-f55f-6b874f149a1c"
      },
      "execution_count": null,
      "outputs": [
        {
          "output_type": "stream",
          "name": "stdout",
          "text": [
            "Feature importance by XGBoost:->\n",
            "\n",
            "Gender -> 0.032498196\n",
            "Married -> 0.03846162\n",
            "Dependents -> 0.042435512\n",
            "Education -> 0.062977344\n",
            "Self_Employed -> 0.043533668\n",
            "ApplicantIncome -> 0.043603152\n",
            "CoapplicantIncome -> 0.057352304\n",
            "LoanAmount -> 0.045793608\n",
            "Loan_Amount_Term -> 0.049817037\n",
            "Credit_History -> 0.53902644\n",
            "Property_Area -> 0.04450115\n"
          ]
        },
        {
          "output_type": "display_data",
          "data": {
            "text/plain": [
              "<Figure size 1600x500 with 1 Axes>"
            ],
            "image/png": "[encoded data removed]"
          },
          "metadata": {}
        },
        {
          "output_type": "stream",
          "name": "stdout",
          "text": [
            "\n",
            "Feature importance by Random Forest:->\n",
            "\n",
            "Gender -> 0.017516374005524516\n",
            "Married -> 0.02499249826923888\n",
            "Dependents -> 0.05006831410735039\n",
            "Education -> 0.02235372502761123\n",
            "Self_Employed -> 0.01777773171240901\n",
            "ApplicantIncome -> 0.2062647490828848\n",
            "CoapplicantIncome -> 0.11936473567166135\n",
            "LoanAmount -> 0.19149967168114196\n",
            "Loan_Amount_Term -> 0.04141050431050145\n",
            "Credit_History -> 0.2598732185718\n",
            "Property_Area -> 0.04887847755987655\n"
          ]
        },
        {
          "output_type": "display_data",
          "data": {
            "text/plain": [
              "<Figure size 640x480 with 1 Axes>"
            ],
            "image/png": "[encoded data removed]"
          },
          "metadata": {}
        },
        {
          "output_type": "display_data",
          "data": {
            "text/plain": [
              "<Figure size 1600x500 with 1 Axes>"
            ],
            "image/png": "[encoded data removed]"
          },
          "metadata": {}
        },
        {
          "output_type": "stream",
          "name": "stdout",
          "text": [
            "Feature importance by Decision Tree:->\n",
            "\n",
            "Gender -> 0.018103003773916097\n",
            "Married -> 0.00938008732131147\n",
            "Dependents -> 0.06774245750174664\n",
            "Education -> 0.020592364905141575\n",
            "Self_Employed -> 0.011818073892274126\n",
            "ApplicantIncome -> 0.2348245776537006\n",
            "CoapplicantIncome -> 0.0884921066723446\n",
            "LoanAmount -> 0.18454327625373962\n",
            "Loan_Amount_Term -> 0.03259464507512319\n",
            "Credit_History -> 0.2922008668920113\n",
            "Property_Area -> 0.039708540058690844\n"
          ]
        },
        {
          "output_type": "display_data",
          "data": {
            "text/plain": [
              "<Figure size 1600x500 with 1 Axes>"
            ],
            "image/png": "[encoded data removed]"
          },
          "metadata": {}
        },
        {
          "output_type": "stream",
          "name": "stdout",
          "text": [
            "Feature importance by Suppoprt Vector Machine:->\n",
            "\n",
            "Gender -> -0.011153748611395287\n",
            "Married -> 0.016433621802949716\n",
            "Dependents -> -0.0003948864299205823\n",
            "Education -> -0.007897250281862611\n",
            "Self_Employed -> -0.0045186612877454735\n",
            "ApplicantIncome -> 0.009509713938893327\n",
            "CoapplicantIncome -> 0.0009391121595605512\n",
            "LoanAmount -> -0.012713675348784648\n",
            "Loan_Amount_Term -> 8.910680668350324e-05\n",
            "Credit_History -> 2.0812104159306477\n",
            "Property_Area -> -0.0006557085562250223\n"
          ]
        },
        {
          "output_type": "display_data",
          "data": {
            "text/plain": [
              "<Figure size 1600x500 with 1 Axes>"
            ],
            "image/png": "[encoded data removed]"
          },
          "metadata": {}
        },
        {
          "output_type": "stream",
          "name": "stdout",
          "text": [
            "Feature importance by Logistic Regression:->\n",
            "\n",
            "Gender -> -0.16049205754499127\n",
            "Married -> 0.4318044368656096\n",
            "Dependents -> 0.05622383360085621\n",
            "Education -> -0.4139565798999101\n",
            "Self_Employed -> 0.04271984818162127\n",
            "ApplicantIncome -> 0.10257613074067891\n",
            "CoapplicantIncome -> 0.04607333558301258\n",
            "LoanAmount -> -0.5499441933640734\n",
            "Loan_Amount_Term -> -0.0012411324727406067\n",
            "Credit_History -> 3.270667707191756\n",
            "Property_Area -> 0.05634297740683534\n"
          ]
        },
        {
          "output_type": "display_data",
          "data": {
            "text/plain": [
              "<Figure size 1600x500 with 1 Axes>"
            ],
            "image/png": "[encoded data removed]"
          },
          "metadata": {}
        }
      ]
    },
    {
      "cell_type": "code",
      "source": [
        "from sklearn.ensemble import ExtraTreesClassifier\n",
        "import matplotlib.pyplot as plt\n",
        "\n",
        "model = ExtraTreesClassifier()\n",
        "model.fit(X,y)\n",
        "#print(model.feature_importances_) \n",
        "plt.style.use('ggplot')\n",
        "plt.figure(figsize=(6,6))\n",
        "feat_importances = pd.Series(model.feature_importances_, index=X.columns)\n",
        "feat_importances.nlargest(50).plot(kind='barh')\n",
        "plt.show()"
      ],
      "metadata": {
        "colab": {
          "base_uri": "https://localhost:8080/",
          "height": 522
        },
        "id": "n-5zqp3DXwST",
        "outputId": "0d3be9a1-3c6c-4a97-cf63-65c9771d3b5d"
      },
      "execution_count": null,
      "outputs": [
        {
          "output_type": "display_data",
          "data": {
            "text/plain": [
              "<Figure size 600x600 with 1 Axes>"
            ],
            "image/png": "[encoded data removed]"
          },
          "metadata": {}
        }
      ]
    },
    {
      "cell_type": "markdown",
      "source": [
        "From feature importance -> Credit History , ApplicantIncome , CoapplicantIncome, LoanAmount are the most important features"
      ],
      "metadata": {
        "id": "4fhEyW9_X-f5"
      }
    },
    {
      "cell_type": "code",
      "source": [
        "#Heat map of dataset with relative importance\n",
        "matrix = data.drop([\"Gender\",\"Married\",\"Dependents\",\"Education\",\"Self_Employed\"],axis=1).corr()\n",
        "#f , ax = plt.subplots(figsize=(18,6))\n",
        "plt.figure(figsize=(18,8))\n",
        "sns.heatmap(matrix,vmax=0.8,square=True,cmap=\"BuPu\",annot=True)"
      ],
      "metadata": {
        "colab": {
          "base_uri": "https://localhost:8080/",
          "height": 820
        },
        "id": "FIyfxHkkXfbf",
        "outputId": "c891ea9c-3e17-4ded-d7b0-e4eb01dcbb87"
      },
      "execution_count": null,
      "outputs": [
        {
          "output_type": "execute_result",
          "data": {
            "text/plain": [
              "<Axes: >"
            ]
          },
          "metadata": {},
          "execution_count": 27
        },
        {
          "output_type": "display_data",
          "data": {
            "text/plain": [
              "<Figure size 1800x800 with 2 Axes>"
            ],
            "image/png": "[encoded data removed]"
          },
          "metadata": {}
        }
      ]
    },
    {
      "cell_type": "markdown",
      "source": [
        "It seems Credit history and Loan Status are correlated.\n",
        "\n",
        "Application income and Loan Amount are correlated.\n",
        "\n",
        "Coapplicant income and Loan amount are correlatedn."
      ],
      "metadata": {
        "id": "Ja8bwQsIYcC_"
      }
    },
    {
      "cell_type": "code",
      "source": [
        "A = list(data.Loan_Status).count(1)\n",
        "B = list(data.Loan_Status).count(0)\n",
        "print(\"Count of 1<Approved>: \",A,\"\\nCount of 0<Rejected>: \",B)\n",
        "\n",
        "fig = px.bar((A,B),x=[\"Approved\",\"Rejected\"],y=[A,B],color=[A,B],width=500, height=400)\n",
        "fig.show()"
      ],
      "metadata": {
        "colab": {
          "base_uri": "https://localhost:8080/",
          "height": 452
        },
        "id": "y1Em5M9qZZiP",
        "outputId": "8fdf8b3c-5fac-45f5-c071-f080a3bf8594"
      },
      "execution_count": null,
      "outputs": [
        {
          "output_type": "stream",
          "name": "stdout",
          "text": [
            "Count of 1<Approved>:  422 \n",
            "Count of 0<Rejected>:  192\n"
          ]
        },
        {
          "output_type": "display_data",
          "data": {
            "text/html": [
              "<html>\n",
              "<head><meta charset=\"utf-8\" /></head>\n",
              "<body>\n",
              "    <div>            <script src=\"https://cdnjs.cloudflare.com/ajax/libs/mathjax/2.7.5/MathJax.js?config=TeX-AMS-MML_SVG\"></script><script type=\"text/javascript\">if (window.MathJax && window.MathJax.Hub && window.MathJax.Hub.Config) {window.MathJax.Hub.Config({SVG: {font: \"STIX-Web\"}});}</script>                <script type=\"text/javascript\">window.PlotlyConfig = {MathJaxConfig: 'local'};</script>\n",
              "        <script src=\"https://cdn.plot.ly/plotly-2.18.2.min.js\"></script>                <div id=\"36807835-4137-46e1-87f7-cfb61d5c7958\" class=\"plotly-graph-div\" style=\"height:400px; width:500px;\"></div>            <script type=\"text/javascript\">                                    window.PLOTLYENV=window.PLOTLYENV || {};                                    if (document.getElementById(\"36807835-4137-46e1-87f7-cfb61d5c7958\")) {                    Plotly.newPlot(                        \"36807835-4137-46e1-87f7-cfb61d5c7958\",                        [{\"alignmentgroup\":\"True\",\"hovertemplate\":\"x=%{x}<br>y=%{y}<br>color=%{marker.color}<extra></extra>\",\"legendgroup\":\"\",\"marker\":{\"color\":[422,192],\"coloraxis\":\"coloraxis\",\"pattern\":{\"shape\":\"\"}},\"name\":\"\",\"offsetgroup\":\"\",\"orientation\":\"v\",\"showlegend\":false,\"textposition\":\"auto\",\"x\":[\"Approved\",\"Rejected\"],\"xaxis\":\"x\",\"y\":[422,192],\"yaxis\":\"y\",\"type\":\"bar\"}],                        {\"template\":{\"data\":{\"histogram2dcontour\":[{\"type\":\"histogram2dcontour\",\"colorbar\":{\"outlinewidth\":0,\"ticks\":\"\"},\"colorscale\":[[0.0,\"#0d0887\"],[0.1111111111111111,\"#46039f\"],[0.2222222222222222,\"#7201a8\"],[0.3333333333333333,\"#9c179e\"],[0.4444444444444444,\"#bd3786\"],[0.5555555555555556,\"#d8576b\"],[0.6666666666666666,\"#ed7953\"],[0.7777777777777778,\"#fb9f3a\"],[0.8888888888888888,\"#fdca26\"],[1.0,\"#f0f921\"]]}],\"choropleth\":[{\"type\":\"choropleth\",\"colorbar\":{\"outlinewidth\":0,\"ticks\":\"\"}}],\"histogram2d\":[{\"type\":\"histogram2d\",\"colorbar\":{\"outlinewidth\":0,\"ticks\":\"\"},\"colorscale\":[[0.0,\"#0d0887\"],[0.1111111111111111,\"#46039f\"],[0.2222222222222222,\"#7201a8\"],[0.3333333333333333,\"#9c179e\"],[0.4444444444444444,\"#bd3786\"],[0.5555555555555556,\"#d8576b\"],[0.6666666666666666,\"#ed7953\"],[0.7777777777777778,\"#fb9f3a\"],[0.8888888888888888,\"#fdca26\"],[1.0,\"#f0f921\"]]}],\"heatmap\":[{\"type\":\"heatmap\",\"colorbar\":{\"outlinewidth\":0,\"ticks\":\"\"},\"colorscale\":[[0.0,\"#0d0887\"],[0.1111111111111111,\"#46039f\"],[0.2222222222222222,\"#7201a8\"],[0.3333333333333333,\"#9c179e\"],[0.4444444444444444,\"#bd3786\"],[0.5555555555555556,\"#d8576b\"],[0.6666666666666666,\"#ed7953\"],[0.7777777777777778,\"#fb9f3a\"],[0.8888888888888888,\"#fdca26\"],[1.0,\"#f0f921\"]]}],\"heatmapgl\":[{\"type\":\"heatmapgl\",\"colorbar\":{\"outlinewidth\":0,\"ticks\":\"\"},\"colorscale\":[[0.0,\"#0d0887\"],[0.1111111111111111,\"#46039f\"],[0.2222222222222222,\"#7201a8\"],[0.3333333333333333,\"#9c179e\"],[0.4444444444444444,\"#bd3786\"],[0.5555555555555556,\"#d8576b\"],[0.6666666666666666,\"#ed7953\"],[0.7777777777777778,\"#fb9f3a\"],[0.8888888888888888,\"#fdca26\"],[1.0,\"#f0f921\"]]}],\"contourcarpet\":[{\"type\":\"contourcarpet\",\"colorbar\":{\"outlinewidth\":0,\"ticks\":\"\"}}],\"contour\":[{\"type\":\"contour\",\"colorbar\":{\"outlinewidth\":0,\"ticks\":\"\"},\"colorscale\":[[0.0,\"#0d0887\"],[0.1111111111111111,\"#46039f\"],[0.2222222222222222,\"#7201a8\"],[0.3333333333333333,\"#9c179e\"],[0.4444444444444444,\"#bd3786\"],[0.5555555555555556,\"#d8576b\"],[0.6666666666666666,\"#ed7953\"],[0.7777777777777778,\"#fb9f3a\"],[0.8888888888888888,\"#fdca26\"],[1.0,\"#f0f921\"]]}],\"surface\":[{\"type\":\"surface\",\"colorbar\":{\"outlinewidth\":0,\"ticks\":\"\"},\"colorscale\":[[0.0,\"#0d0887\"],[0.1111111111111111,\"#46039f\"],[0.2222222222222222,\"#7201a8\"],[0.3333333333333333,\"#9c179e\"],[0.4444444444444444,\"#bd3786\"],[0.5555555555555556,\"#d8576b\"],[0.6666666666666666,\"#ed7953\"],[0.7777777777777778,\"#fb9f3a\"],[0.8888888888888888,\"#fdca26\"],[1.0,\"#f0f921\"]]}],\"mesh3d\":[{\"type\":\"mesh3d\",\"colorbar\":{\"outlinewidth\":0,\"ticks\":\"\"}}],\"scatter\":[{\"fillpattern\":{\"fillmode\":\"overlay\",\"size\":10,\"solidity\":0.2},\"type\":\"scatter\"}],\"parcoords\":[{\"type\":\"parcoords\",\"line\":{\"colorbar\":{\"outlinewidth\":0,\"ticks\":\"\"}}}],\"scatterpolargl\":[{\"type\":\"scatterpolargl\",\"marker\":{\"colorbar\":{\"outlinewidth\":0,\"ticks\":\"\"}}}],\"bar\":[{\"error_x\":{\"color\":\"#2a3f5f\"},\"error_y\":{\"color\":\"#2a3f5f\"},\"marker\":{\"line\":{\"color\":\"#E5ECF6\",\"width\":0.5},\"pattern\":{\"fillmode\":\"overlay\",\"size\":10,\"solidity\":0.2}},\"type\":\"bar\"}],\"scattergeo\":[{\"type\":\"scattergeo\",\"marker\":{\"colorbar\":{\"outlinewidth\":0,\"ticks\":\"\"}}}],\"scatterpolar\":[{\"type\":\"scatterpolar\",\"marker\":{\"colorbar\":{\"outlinewidth\":0,\"ticks\":\"\"}}}],\"histogram\":[{\"marker\":{\"pattern\":{\"fillmode\":\"overlay\",\"size\":10,\"solidity\":0.2}},\"type\":\"histogram\"}],\"scattergl\":[{\"type\":\"scattergl\",\"marker\":{\"colorbar\":{\"outlinewidth\":0,\"ticks\":\"\"}}}],\"scatter3d\":[{\"type\":\"scatter3d\",\"line\":{\"colorbar\":{\"outlinewidth\":0,\"ticks\":\"\"}},\"marker\":{\"colorbar\":{\"outlinewidth\":0,\"ticks\":\"\"}}}],\"scattermapbox\":[{\"type\":\"scattermapbox\",\"marker\":{\"colorbar\":{\"outlinewidth\":0,\"ticks\":\"\"}}}],\"scatterternary\":[{\"type\":\"scatterternary\",\"marker\":{\"colorbar\":{\"outlinewidth\":0,\"ticks\":\"\"}}}],\"scattercarpet\":[{\"type\":\"scattercarpet\",\"marker\":{\"colorbar\":{\"outlinewidth\":0,\"ticks\":\"\"}}}],\"carpet\":[{\"aaxis\":{\"endlinecolor\":\"#2a3f5f\",\"gridcolor\":\"white\",\"linecolor\":\"white\",\"minorgridcolor\":\"white\",\"startlinecolor\":\"#2a3f5f\"},\"baxis\":{\"endlinecolor\":\"#2a3f5f\",\"gridcolor\":\"white\",\"linecolor\":\"white\",\"minorgridcolor\":\"white\",\"startlinecolor\":\"#2a3f5f\"},\"type\":\"carpet\"}],\"table\":[{\"cells\":{\"fill\":{\"color\":\"#EBF0F8\"},\"line\":{\"color\":\"white\"}},\"header\":{\"fill\":{\"color\":\"#C8D4E3\"},\"line\":{\"color\":\"white\"}},\"type\":\"table\"}],\"barpolar\":[{\"marker\":{\"line\":{\"color\":\"#E5ECF6\",\"width\":0.5},\"pattern\":{\"fillmode\":\"overlay\",\"size\":10,\"solidity\":0.2}},\"type\":\"barpolar\"}],\"pie\":[{\"automargin\":true,\"type\":\"pie\"}]},\"layout\":{\"autotypenumbers\":\"strict\",\"colorway\":[\"#636efa\",\"#EF553B\",\"#00cc96\",\"#ab63fa\",\"#FFA15A\",\"#19d3f3\",\"#FF6692\",\"#B6E880\",\"#FF97FF\",\"#FECB52\"],\"font\":{\"color\":\"#2a3f5f\"},\"hovermode\":\"closest\",\"hoverlabel\":{\"align\":\"left\"},\"paper_bgcolor\":\"white\",\"plot_bgcolor\":\"#E5ECF6\",\"polar\":{\"bgcolor\":\"#E5ECF6\",\"angularaxis\":{\"gridcolor\":\"white\",\"linecolor\":\"white\",\"ticks\":\"\"},\"radialaxis\":{\"gridcolor\":\"white\",\"linecolor\":\"white\",\"ticks\":\"\"}},\"ternary\":{\"bgcolor\":\"#E5ECF6\",\"aaxis\":{\"gridcolor\":\"white\",\"linecolor\":\"white\",\"ticks\":\"\"},\"baxis\":{\"gridcolor\":\"white\",\"linecolor\":\"white\",\"ticks\":\"\"},\"caxis\":{\"gridcolor\":\"white\",\"linecolor\":\"white\",\"ticks\":\"\"}},\"coloraxis\":{\"colorbar\":{\"outlinewidth\":0,\"ticks\":\"\"}},\"colorscale\":{\"sequential\":[[0.0,\"#0d0887\"],[0.1111111111111111,\"#46039f\"],[0.2222222222222222,\"#7201a8\"],[0.3333333333333333,\"#9c179e\"],[0.4444444444444444,\"#bd3786\"],[0.5555555555555556,\"#d8576b\"],[0.6666666666666666,\"#ed7953\"],[0.7777777777777778,\"#fb9f3a\"],[0.8888888888888888,\"#fdca26\"],[1.0,\"#f0f921\"]],\"sequentialminus\":[[0.0,\"#0d0887\"],[0.1111111111111111,\"#46039f\"],[0.2222222222222222,\"#7201a8\"],[0.3333333333333333,\"#9c179e\"],[0.4444444444444444,\"#bd3786\"],[0.5555555555555556,\"#d8576b\"],[0.6666666666666666,\"#ed7953\"],[0.7777777777777778,\"#fb9f3a\"],[0.8888888888888888,\"#fdca26\"],[1.0,\"#f0f921\"]],\"diverging\":[[0,\"#8e0152\"],[0.1,\"#c51b7d\"],[0.2,\"#de77ae\"],[0.3,\"#f1b6da\"],[0.4,\"#fde0ef\"],[0.5,\"#f7f7f7\"],[0.6,\"#e6f5d0\"],[0.7,\"#b8e186\"],[0.8,\"#7fbc41\"],[0.9,\"#4d9221\"],[1,\"#276419\"]]},\"xaxis\":{\"gridcolor\":\"white\",\"linecolor\":\"white\",\"ticks\":\"\",\"title\":{\"standoff\":15},\"zerolinecolor\":\"white\",\"automargin\":true,\"zerolinewidth\":2},\"yaxis\":{\"gridcolor\":\"white\",\"linecolor\":\"white\",\"ticks\":\"\",\"title\":{\"standoff\":15},\"zerolinecolor\":\"white\",\"automargin\":true,\"zerolinewidth\":2},\"scene\":{\"xaxis\":{\"backgroundcolor\":\"#E5ECF6\",\"gridcolor\":\"white\",\"linecolor\":\"white\",\"showbackground\":true,\"ticks\":\"\",\"zerolinecolor\":\"white\",\"gridwidth\":2},\"yaxis\":{\"backgroundcolor\":\"#E5ECF6\",\"gridcolor\":\"white\",\"linecolor\":\"white\",\"showbackground\":true,\"ticks\":\"\",\"zerolinecolor\":\"white\",\"gridwidth\":2},\"zaxis\":{\"backgroundcolor\":\"#E5ECF6\",\"gridcolor\":\"white\",\"linecolor\":\"white\",\"showbackground\":true,\"ticks\":\"\",\"zerolinecolor\":\"white\",\"gridwidth\":2}},\"shapedefaults\":{\"line\":{\"color\":\"#2a3f5f\"}},\"annotationdefaults\":{\"arrowcolor\":\"#2a3f5f\",\"arrowhead\":0,\"arrowwidth\":1},\"geo\":{\"bgcolor\":\"white\",\"landcolor\":\"#E5ECF6\",\"subunitcolor\":\"white\",\"showland\":true,\"showlakes\":true,\"lakecolor\":\"white\"},\"title\":{\"x\":0.05},\"mapbox\":{\"style\":\"light\"}}},\"xaxis\":{\"anchor\":\"y\",\"domain\":[0.0,1.0],\"title\":{\"text\":\"x\"}},\"yaxis\":{\"anchor\":\"x\",\"domain\":[0.0,1.0],\"title\":{\"text\":\"y\"}},\"coloraxis\":{\"colorbar\":{\"title\":{\"text\":\"color\"}},\"colorscale\":[[0.0,\"#0d0887\"],[0.1111111111111111,\"#46039f\"],[0.2222222222222222,\"#7201a8\"],[0.3333333333333333,\"#9c179e\"],[0.4444444444444444,\"#bd3786\"],[0.5555555555555556,\"#d8576b\"],[0.6666666666666666,\"#ed7953\"],[0.7777777777777778,\"#fb9f3a\"],[0.8888888888888888,\"#fdca26\"],[1.0,\"#f0f921\"]]},\"legend\":{\"tracegroupgap\":0},\"margin\":{\"t\":60},\"barmode\":\"relative\",\"height\":400,\"width\":500},                        {\"responsive\": true}                    ).then(function(){\n",
              "                            \n",
              "var gd = document.getElementById('36807835-4137-46e1-87f7-cfb61d5c7958');\n",
              "var x = new MutationObserver(function (mutations, observer) {{\n",
              "        var display = window.getComputedStyle(gd).display;\n",
              "        if (!display || display === 'none') {{\n",
              "            console.log([gd, 'removed!']);\n",
              "            Plotly.purge(gd);\n",
              "            observer.disconnect();\n",
              "        }}\n",
              "}});\n",
              "\n",
              "// Listen for the removal of the full notebook cells\n",
              "var notebookContainer = gd.closest('#notebook-container');\n",
              "if (notebookContainer) {{\n",
              "    x.observe(notebookContainer, {childList: true});\n",
              "}}\n",
              "\n",
              "// Listen for the clearing of the current output cell\n",
              "var outputEl = gd.closest('.output');\n",
              "if (outputEl) {{\n",
              "    x.observe(outputEl, {childList: true});\n",
              "}}\n",
              "\n",
              "                        })                };                            </script>        </div>\n",
              "</body>\n",
              "</html>"
            ]
          },
          "metadata": {}
        }
      ]
    },
    {
      "cell_type": "markdown",
      "source": [
        "It seems that data is highly Imbalanced.\n",
        "\n",
        "When the target classes does not have equal count then the data is considered as imbalanced data.\n",
        "\n",
        "From above graph it seems that dataset contains more records with Approved Loan_Status than Rejected Loan_Status. 422 over 192\n",
        "\n",
        "(If data would have maximum of 20-30 records difference that time this imabalnced would be ignorable.)\n",
        "\n",
        "This will lead to make wrong assumptions by model and also model will be biased after training. \n",
        "\n",
        "To overcome this problem we will balance the data using Resampling technique with Upsample and Downsample."
      ],
      "metadata": {
        "id": "cEg89-Jna6lJ"
      }
    },
    {
      "cell_type": "code",
      "source": [
        "#To keep original data as it is to use the same for later.\n",
        "new_data = data.copy()\n",
        "\n",
        "#Getting seperated data with 1 and 0 status.\n",
        "df_majority = new_data[new_data.Loan_Status==1]\n",
        "df_minority = new_data[new_data.Loan_Status==0]\n",
        "\n",
        "#Here we are downsampling the Majority Class Data Points. \n",
        "#i.e. We will get equal amount of datapoint as Minority class from Majority class\n",
        "\n",
        "df_majority_downsampled = resample(df_majority,replace=False,n_samples=192,random_state=123)\n",
        "df_downsampled = pd.concat([df_majority_downsampled,df_minority])\n",
        "print(\"Downsampled data:->\\n\",df_downsampled.Loan_Status.value_counts())\n",
        "\n",
        "#Here we are upsampling the Minority Class Data Points. \n",
        "#i.e. We will get equal amount of datapoint as Majority class from Minority class\n",
        "df_minority_upsampled = resample(df_minority,replace=True,n_samples=422,random_state=123)\n",
        "df_upsampled = pd.concat([df_majority,df_minority_upsampled])\n",
        "print(\"Upsampled data:->\\n\",df_upsampled.Loan_Status.value_counts())"
      ],
      "metadata": {
        "colab": {
          "base_uri": "https://localhost:8080/"
        },
        "id": "kF7qGh0UbPkl",
        "outputId": "c762ff6f-6519-4d6a-c325-db30a555d2a5"
      },
      "execution_count": null,
      "outputs": [
        {
          "output_type": "stream",
          "name": "stdout",
          "text": [
            "Downsampled data:->\n",
            " 1    192\n",
            "0    192\n",
            "Name: Loan_Status, dtype: int64\n",
            "Upsampled data:->\n",
            " 1    422\n",
            "0    422\n",
            "Name: Loan_Status, dtype: int64\n"
          ]
        }
      ]
    },
    {
      "cell_type": "markdown",
      "source": [
        "Data Standardization / Normalization Data normalization is required when the variable values are in very distinct range.\n",
        "\n",
        "For Ex. Suppose we have 2 columns \"Age\" and \"Income\"\n",
        "\n",
        "Where value range of \"Age\" lying in 0-100 Approx. and value range of \"Income\" lying in 20,000 to 100,000\n",
        "\n",
        "At this time model will perform poorly on testig data as all input values are not in same value range.\n",
        "\n",
        "So not every time but whenever we get such type of data we need to normalized it i.e. Rescale it.\n",
        "\n",
        "Widely used scaling tools are Min-Max Scaler and Standard-Scaler\n",
        "\n",
        "Data Normalization is done by Min-Max Scaler which scales all th values between 0 to 1 range.\n",
        "\n",
        "Data standardization is done by Standard-Scaler which scales the data so that Mean of observed data is 0 and Standard Deviation is 1.\n",
        "\n",
        "As our data is not much normally distributed we will choose Standardization using Standard-Scaler aiming that it will reduce more skewness and contribute in accuracy gain.\n",
        "\n",
        "Experimental Modeling In order to gain maximum posible accuracy one needs to conduct much more experiments.\n",
        "\n",
        "We will pass data on by one with different state i.e.\n",
        "\n",
        "-Only Scaled data\n",
        "\n",
        "-Scaled + Down Sampled Data\n",
        "\n",
        "-Scaled + Up Sampled Data\n",
        "\n",
        "-Scaled + Up Sampled Data + Selected feature with respective importance."
      ],
      "metadata": {
        "id": "_ODGAHGYbqYO"
      }
    },
    {
      "cell_type": "code",
      "source": [
        "#Experiment 1: Only Scaled data with all variables\n",
        "\n",
        "#X = new_data.drop([\"Loan_ID\",\"Gender\",\"Married\",\"Education\",\"Self_Employed\",\"Loan_Amount_Term\",\"Loan_Status\",'Property_Area'],axis=1)\n",
        "X = new_data.drop([\"Loan_Status\",\"Loan_ID\"],axis=1)\n",
        "y = new_data[\"Loan_Status\"]\n",
        "counter = Counter(y)\n",
        "print(\"Counter: \",counter)\n",
        "\n",
        "X_train , X_test , y_train , y_test = train_test_split(X,y,test_size=0.25,random_state=0)\n",
        "\n",
        "#Scaling data here:------------->\n",
        "\n",
        "StSc = StandardScaler()\n",
        "X_train  = StSc.fit_transform(X_train)\n",
        "X_test  = StSc.fit_transform(X_test)\n",
        "\n",
        "#Check mean is 0 and Standard deviation is 1\n",
        "print(\"After Standardization\\nMean \",np.mean(X_train),\"Standard Deviation \",np.std(X_train),\"\\n\")\n",
        "\n",
        "#Voting ensemble mathod. Combining all tree based algorithms.\n",
        "models = []\n",
        "models.append((\"XGB\",XGBClassifier()))\n",
        "models.append((\"RF\",RandomForestClassifier()))\n",
        "models.append((\"DT\",DecisionTreeClassifier()))\n",
        "models.append((\"ADB\",AdaBoostClassifier()))\n",
        "models.append((\"GB\",GradientBoostingClassifier()))\n",
        "\n",
        "ensemble = VotingClassifier(estimators=models)\n",
        "ensemble.fit(X_train,y_train)\n",
        "y_pred = ensemble.predict(X_test) \n",
        "print(classification_report(y_pred,y_test))\n",
        "print(\"Voting Ensemble:>\",accuracy_score(y_pred,y_test))\n",
        "\n",
        "\n",
        "\n",
        "SVM = SVC(kernel=\"linear\",class_weight=\"balanced\",probability=True)\n",
        "SVM.fit(X_train,y_train)\n",
        "y_pred = SVM.predict(X_test)\n",
        "print(classification_report(y_pred,y_test))\n",
        "print(\"SVM:>\",accuracy_score(y_pred,y_test))\n",
        "\n",
        "\n",
        "XGBC = XGBClassifier(learning_rate =0.1,n_estimators=10000,max_depth=4,min_child_weight=6,gamma=0,subsample=0.6,colsample_bytree=0.8,\n",
        " reg_alpha=0.005, objective= 'binary:logistic', nthread=2, scale_pos_weight=1, seed=27,eval_metric = \"logloss\")\n",
        "XGBC.fit(X_train,y_train)\n",
        "y_pred = XGBC.predict(X_test)\n",
        "print(classification_report(y_pred,y_test))\n",
        "print(\"XGBoost:>\",accuracy_score(y_pred,y_test))\n",
        "\n",
        "Model1 = RandomForestClassifier(n_estimators=1000,random_state=0,n_jobs=1000,max_depth=70,bootstrap=True)\n",
        "Model1.fit(X_train,y_train)\n",
        "y_pred = Model1.predict(X_test)\n",
        "print(classification_report(y_pred,y_test))\n",
        "print(\"RandomForestClassifier:>\",accuracy_score(y_pred,y_test))\n",
        "\n",
        "\n",
        "Model2 = GradientBoostingClassifier()\n",
        "Model2.fit(X_train,y_train)\n",
        "y_pred = Model2.predict(X_test)\n",
        "print(classification_report(y_pred,y_test))\n",
        "print(\"GradientBoostingClassifier:>\",accuracy_score(y_pred,y_test))\n",
        "\n",
        "\n",
        "Model3 = DecisionTreeClassifier(class_weight=None, criterion='gini', max_depth=100,\n",
        " max_features=1.0, max_leaf_nodes=10, min_samples_leaf=1,\n",
        " min_samples_split=2, min_weight_fraction_leaf=0.10,\n",
        " random_state=27, splitter='best')\n",
        "Model3.fit(X_train,y_train)\n",
        "y_pred = Model3.predict(X_test)\n",
        "print(classification_report(y_pred,y_test))\n",
        "print(\"DecisionTreeClassifier:>\",accuracy_score(y_pred,y_test))\n",
        "\n",
        "\n",
        "Model4 = AdaBoostClassifier()\n",
        "Model4.fit(X_train,y_train)\n",
        "y_pred = Model4.predict(X_test)\n",
        "print(classification_report(y_pred,y_test))\n",
        "print(\"AdaBoostClassifier:>\",accuracy_score(y_pred,y_test))\n",
        "\n",
        "\n",
        "Model5 = LinearDiscriminantAnalysis()\n",
        "Model5.fit(X_train,y_train)\n",
        "y_pred = Model5.predict(X_test)\n",
        "print(classification_report(y_pred,y_test))\n",
        "print(\"LinearDiscriminantAnalysis:>\",accuracy_score(y_pred,y_test),\"\\n\")\n",
        "\n",
        "\n",
        "KNN = KNeighborsClassifier(leaf_size=1,p=2,n_neighbors=20)\n",
        "KNN.fit(X_train,y_train)\n",
        "y_pred = KNN.predict(X_test)\n",
        "print(classification_report(y_pred,y_test))\n",
        "print(\"KNeighborsClassifier:>\",accuracy_score(y_pred,y_test))\n",
        "\n",
        "\n",
        "Model7 = GaussianNB()\n",
        "Model7.fit(X_train,y_train)\n",
        "y_pred = Model7.predict(X_test)\n",
        "print(classification_report(y_pred,y_test))\n",
        "print(\"GaussianNB:>\",accuracy_score(y_pred,y_test))\n",
        "\n",
        "\n",
        "Model8 = LogisticRegression(C=1.0, class_weight=None, dual=False, fit_intercept=True,\n",
        "          intercept_scaling=1, max_iter=100, multi_class='ovr', n_jobs=1,\n",
        "          penalty='l2', random_state=None, solver='liblinear', tol=0.0001,\n",
        "          verbose=0, warm_start=False)\n",
        "Model8.fit(X_train,y_train)\n",
        "y_pred = Model8.predict(X_test)\n",
        "print(classification_report(y_pred,y_test))\n",
        "print(\"Logistic Regression:>\",accuracy_score(y_pred,y_test))"
      ],
      "metadata": {
        "colab": {
          "base_uri": "https://localhost:8080/"
        },
        "id": "YCBx_6m9cT7m",
        "outputId": "20f235c6-55d1-47c8-fe4d-592d8e3b1b0f"
      },
      "execution_count": null,
      "outputs": [
        {
          "output_type": "stream",
          "name": "stdout",
          "text": [
            "Counter:  Counter({1: 422, 0: 192})\n",
            "After Standardization\n",
            "Mean  -1.2357264969740873e-16 Standard Deviation  1.0 \n",
            "\n",
            "              precision    recall  f1-score   support\n",
            "\n",
            "           0       0.49      0.78      0.60        27\n",
            "           1       0.95      0.83      0.88       127\n",
            "\n",
            "    accuracy                           0.82       154\n",
            "   macro avg       0.72      0.80      0.74       154\n",
            "weighted avg       0.87      0.82      0.83       154\n",
            "\n",
            "Voting Ensemble:> 0.8181818181818182\n",
            "              precision    recall  f1-score   support\n",
            "\n",
            "           0       0.44      0.90      0.59        21\n",
            "           1       0.98      0.82      0.89       133\n",
            "\n",
            "    accuracy                           0.83       154\n",
            "   macro avg       0.71      0.86      0.74       154\n",
            "weighted avg       0.91      0.83      0.85       154\n",
            "\n",
            "SVM:> 0.8311688311688312\n",
            "              precision    recall  f1-score   support\n",
            "\n",
            "           0       0.26      0.37      0.30        30\n",
            "           1       0.83      0.74      0.78       124\n",
            "\n",
            "    accuracy                           0.67       154\n",
            "   macro avg       0.54      0.55      0.54       154\n",
            "weighted avg       0.72      0.67      0.69       154\n",
            "\n",
            "XGBoost:> 0.6688311688311688\n",
            "              precision    recall  f1-score   support\n",
            "\n",
            "           0       0.44      0.73      0.55        26\n",
            "           1       0.94      0.81      0.87       128\n",
            "\n",
            "    accuracy                           0.80       154\n",
            "   macro avg       0.69      0.77      0.71       154\n",
            "weighted avg       0.85      0.80      0.82       154\n",
            "\n",
            "RandomForestClassifier:> 0.7987012987012987\n",
            "              precision    recall  f1-score   support\n",
            "\n",
            "           0       0.47      0.80      0.59        25\n",
            "           1       0.95      0.82      0.88       129\n",
            "\n",
            "    accuracy                           0.82       154\n",
            "   macro avg       0.71      0.81      0.74       154\n",
            "weighted avg       0.88      0.82      0.84       154\n",
            "\n",
            "GradientBoostingClassifier:> 0.8181818181818182\n",
            "              precision    recall  f1-score   support\n",
            "\n",
            "           0       0.44      0.90      0.59        21\n",
            "           1       0.98      0.82      0.89       133\n",
            "\n",
            "    accuracy                           0.83       154\n",
            "   macro avg       0.71      0.86      0.74       154\n",
            "weighted avg       0.91      0.83      0.85       154\n",
            "\n",
            "DecisionTreeClassifier:> 0.8311688311688312\n",
            "              precision    recall  f1-score   support\n",
            "\n",
            "           0       0.49      0.81      0.61        26\n",
            "           1       0.95      0.83      0.89       128\n",
            "\n",
            "    accuracy                           0.82       154\n",
            "   macro avg       0.72      0.82      0.75       154\n",
            "weighted avg       0.88      0.82      0.84       154\n",
            "\n",
            "AdaBoostClassifier:> 0.8246753246753247\n",
            "              precision    recall  f1-score   support\n",
            "\n",
            "           0       0.44      0.90      0.59        21\n",
            "           1       0.98      0.82      0.89       133\n",
            "\n",
            "    accuracy                           0.83       154\n",
            "   macro avg       0.71      0.86      0.74       154\n",
            "weighted avg       0.91      0.83      0.85       154\n",
            "\n",
            "LinearDiscriminantAnalysis:> 0.8311688311688312 \n",
            "\n",
            "              precision    recall  f1-score   support\n",
            "\n",
            "           0       0.47      0.91      0.62        22\n",
            "           1       0.98      0.83      0.90       132\n",
            "\n",
            "    accuracy                           0.84       154\n",
            "   macro avg       0.72      0.87      0.76       154\n",
            "weighted avg       0.91      0.84      0.86       154\n",
            "\n",
            "KNeighborsClassifier:> 0.8376623376623377\n",
            "              precision    recall  f1-score   support\n",
            "\n",
            "           0       0.44      0.90      0.59        21\n",
            "           1       0.98      0.82      0.89       133\n",
            "\n",
            "    accuracy                           0.83       154\n",
            "   macro avg       0.71      0.86      0.74       154\n",
            "weighted avg       0.91      0.83      0.85       154\n",
            "\n",
            "GaussianNB:> 0.8311688311688312\n",
            "              precision    recall  f1-score   support\n",
            "\n",
            "           0       0.44      0.90      0.59        21\n",
            "           1       0.98      0.82      0.89       133\n",
            "\n",
            "    accuracy                           0.83       154\n",
            "   macro avg       0.71      0.86      0.74       154\n",
            "weighted avg       0.91      0.83      0.85       154\n",
            "\n",
            "Logistic Regression:> 0.8311688311688312\n"
          ]
        }
      ]
    },
    {
      "cell_type": "code",
      "source": [
        "#Experiment 2: Sclaed + Down Sampled Data\n",
        "\n",
        "#X = df_downsampled.drop([\"Loan_ID\",\"Gender\",\"Married\",\"Education\",\"Self_Employed\",\"Loan_Amount_Term\",\"Loan_Status\",'Property_Area'],axis=1)\n",
        "X = df_downsampled.drop([\"Loan_Status\",\"Loan_ID\"],axis=1)\n",
        "y = df_downsampled.Loan_Status\n",
        "X_train , X_test , y_train , y_test = train_test_split(X,y,test_size=0.25,random_state=0)\n",
        "\n",
        "\n",
        "#Scaling data here:------------->\n",
        "\n",
        "StSc = StandardScaler()\n",
        "X_train  = StSc.fit_transform(X_train)\n",
        "X_test  = StSc.fit_transform(X_test)\n",
        "\n",
        "#Check mean is 0 and Standard deviation is 1\n",
        "print(\"After Standardization\\nMean \",np.mean(X_train),\"Standard Deviation \",np.std(X_train),\"\\n\")\n",
        "\n",
        "#Voting ensemble mathod. Combining all tree based algorithms.\n",
        "models = []\n",
        "models.append((\"XGB\",XGBClassifier()))\n",
        "models.append((\"RF\",RandomForestClassifier()))\n",
        "models.append((\"DT\",DecisionTreeClassifier()))\n",
        "models.append((\"ADB\",AdaBoostClassifier()))\n",
        "models.append((\"GB\",GradientBoostingClassifier()))\n",
        "\n",
        "ensemble = VotingClassifier(estimators=models)\n",
        "ensemble.fit(X_train,y_train)\n",
        "y_pred = ensemble.predict(X_test) \n",
        "print(classification_report(y_pred,y_test))\n",
        "print(\"Voting Ensemble:>\",accuracy_score(y_pred,y_test))\n",
        "\n",
        "\n",
        "\n",
        "SVM = SVC(kernel=\"linear\",class_weight=\"balanced\",probability=True)\n",
        "SVM.fit(X_train,y_train)\n",
        "y_pred = SVM.predict(X_test)\n",
        "print(classification_report(y_pred,y_test))\n",
        "print(\"SVM:>\",accuracy_score(y_pred,y_test))\n",
        "\n",
        "\n",
        "XGBC = XGBClassifier(learning_rate =0.1,n_estimators=10000,max_depth=4,min_child_weight=6,gamma=0,subsample=0.6,colsample_bytree=0.8,\n",
        " reg_alpha=0.005, objective= 'binary:logistic', nthread=2, scale_pos_weight=1, seed=27,eval_metric = \"logloss\")\n",
        "XGBC.fit(X_train,y_train)\n",
        "y_pred = XGBC.predict(X_test)\n",
        "print(classification_report(y_pred,y_test))\n",
        "print(\"XGBoost:>\",accuracy_score(y_pred,y_test))\n",
        "\n",
        "Model1 = RandomForestClassifier(n_estimators=1000,random_state=0,n_jobs=1000,max_depth=70,bootstrap=True)\n",
        "Model1.fit(X_train,y_train)\n",
        "y_pred = Model1.predict(X_test)\n",
        "print(classification_report(y_pred,y_test))\n",
        "print(\"RandomForestClassifier:>\",accuracy_score(y_pred,y_test))\n",
        "\n",
        "\n",
        "Model2 = GradientBoostingClassifier()\n",
        "Model2.fit(X_train,y_train)\n",
        "y_pred = Model2.predict(X_test)\n",
        "print(classification_report(y_pred,y_test))\n",
        "print(\"GradientBoostingClassifier:>\",accuracy_score(y_pred,y_test))\n",
        "\n",
        "\n",
        "Model3 = DecisionTreeClassifier(class_weight=None, criterion='gini', max_depth=100,\n",
        " max_features=1.0, max_leaf_nodes=10, min_samples_leaf=1,\n",
        " min_samples_split=2, min_weight_fraction_leaf=0.10,\n",
        " random_state=27, splitter='best')\n",
        "Model3.fit(X_train,y_train)\n",
        "y_pred = Model3.predict(X_test)\n",
        "print(classification_report(y_pred,y_test))\n",
        "print(\"DecisionTreeClassifier:>\",accuracy_score(y_pred,y_test))\n",
        "\n",
        "\n",
        "Model4 = AdaBoostClassifier()\n",
        "Model4.fit(X_train,y_train)\n",
        "y_pred = Model4.predict(X_test)\n",
        "print(classification_report(y_pred,y_test))\n",
        "print(\"AdaBoostClassifier:>\",accuracy_score(y_pred,y_test))\n",
        "\n",
        "\n",
        "Model5 = LinearDiscriminantAnalysis()\n",
        "Model5.fit(X_train,y_train)\n",
        "y_pred = Model5.predict(X_test)\n",
        "print(classification_report(y_pred,y_test))\n",
        "print(\"LinearDiscriminantAnalysis:>\",accuracy_score(y_pred,y_test))\n",
        "\n",
        "KNN = KNeighborsClassifier(leaf_size=1,p=2,n_neighbors=20)\n",
        "KNN.fit(X_train,y_train)\n",
        "y_pred = KNN.predict(X_test)\n",
        "print(classification_report(y_pred,y_test))\n",
        "print(\"KNeighborsClassifier:>\",accuracy_score(y_pred,y_test))\n",
        "\n",
        "\n",
        "Model7 = GaussianNB()\n",
        "Model7.fit(X_train,y_train)\n",
        "y_pred = Model7.predict(X_test)\n",
        "print(classification_report(y_pred,y_test))\n",
        "print(\"GaussianNB:>\",accuracy_score(y_pred,y_test))\n",
        "\n",
        "\n",
        "Model8 = LogisticRegression(C=1.0, class_weight=None, dual=False, fit_intercept=True,\n",
        "          intercept_scaling=1, max_iter=100, multi_class='ovr', n_jobs=1,\n",
        "          penalty='l2', random_state=None, solver='liblinear', tol=0.0001,\n",
        "          verbose=0, warm_start=False,)\n",
        "Model8.fit(X_train,y_train)\n",
        "y_pred = Model8.predict(X_test)\n",
        "print(classification_report(y_pred,y_test))\n",
        "print(\"Logistic Regression:>\",accuracy_score(y_pred,y_test))"
      ],
      "metadata": {
        "colab": {
          "base_uri": "https://localhost:8080/"
        },
        "id": "iDwb9JDJclm3",
        "outputId": "512fb3ac-0076-4cef-fbd7-f006772713b4"
      },
      "execution_count": null,
      "outputs": [
        {
          "output_type": "stream",
          "name": "stdout",
          "text": [
            "After Standardization\n",
            "Mean  -3.064327691705293e-16 Standard Deviation  1.0 \n",
            "\n",
            "              precision    recall  f1-score   support\n",
            "\n",
            "           0       0.58      0.72      0.64        39\n",
            "           1       0.77      0.65      0.70        57\n",
            "\n",
            "    accuracy                           0.68        96\n",
            "   macro avg       0.68      0.68      0.67        96\n",
            "weighted avg       0.69      0.68      0.68        96\n",
            "\n",
            "Voting Ensemble:> 0.6770833333333334\n",
            "              precision    recall  f1-score   support\n",
            "\n",
            "           0       0.42      1.00      0.59        20\n",
            "           1       1.00      0.63      0.77        76\n",
            "\n",
            "    accuracy                           0.71        96\n",
            "   macro avg       0.71      0.82      0.68        96\n",
            "weighted avg       0.88      0.71      0.74        96\n",
            "\n",
            "SVM:> 0.7083333333333334\n",
            "              precision    recall  f1-score   support\n",
            "\n",
            "           0       0.48      0.62      0.54        37\n",
            "           1       0.71      0.58      0.64        59\n",
            "\n",
            "    accuracy                           0.59        96\n",
            "   macro avg       0.59      0.60      0.59        96\n",
            "weighted avg       0.62      0.59      0.60        96\n",
            "\n",
            "XGBoost:> 0.59375\n",
            "              precision    recall  f1-score   support\n",
            "\n",
            "           0       0.58      0.78      0.67        36\n",
            "           1       0.83      0.67      0.74        60\n",
            "\n",
            "    accuracy                           0.71        96\n",
            "   macro avg       0.71      0.72      0.70        96\n",
            "weighted avg       0.74      0.71      0.71        96\n",
            "\n",
            "RandomForestClassifier:> 0.7083333333333334\n",
            "              precision    recall  f1-score   support\n",
            "\n",
            "           0       0.54      0.70      0.61        37\n",
            "           1       0.77      0.63      0.69        59\n",
            "\n",
            "    accuracy                           0.66        96\n",
            "   macro avg       0.66      0.66      0.65        96\n",
            "weighted avg       0.68      0.66      0.66        96\n",
            "\n",
            "GradientBoostingClassifier:> 0.65625\n",
            "              precision    recall  f1-score   support\n",
            "\n",
            "           0       0.54      0.87      0.67        30\n",
            "           1       0.92      0.67      0.77        66\n",
            "\n",
            "    accuracy                           0.73        96\n",
            "   macro avg       0.73      0.77      0.72        96\n",
            "weighted avg       0.80      0.73      0.74        96\n",
            "\n",
            "DecisionTreeClassifier:> 0.7291666666666666\n",
            "              precision    recall  f1-score   support\n",
            "\n",
            "           0       0.58      0.85      0.69        33\n",
            "           1       0.90      0.68      0.77        63\n",
            "\n",
            "    accuracy                           0.74        96\n",
            "   macro avg       0.74      0.77      0.73        96\n",
            "weighted avg       0.79      0.74      0.75        96\n",
            "\n",
            "AdaBoostClassifier:> 0.7395833333333334\n",
            "              precision    recall  f1-score   support\n",
            "\n",
            "           0       0.50      0.77      0.61        31\n",
            "           1       0.85      0.63      0.73        65\n",
            "\n",
            "    accuracy                           0.68        96\n",
            "   macro avg       0.68      0.70      0.67        96\n",
            "weighted avg       0.74      0.68      0.69        96\n",
            "\n",
            "LinearDiscriminantAnalysis:> 0.6770833333333334\n",
            "              precision    recall  f1-score   support\n",
            "\n",
            "           0       0.50      0.83      0.62        29\n",
            "           1       0.90      0.64      0.75        67\n",
            "\n",
            "    accuracy                           0.70        96\n",
            "   macro avg       0.70      0.73      0.69        96\n",
            "weighted avg       0.78      0.70      0.71        96\n",
            "\n",
            "KNeighborsClassifier:> 0.6979166666666666\n",
            "              precision    recall  f1-score   support\n",
            "\n",
            "           0       0.42      0.91      0.57        22\n",
            "           1       0.96      0.62      0.75        74\n",
            "\n",
            "    accuracy                           0.69        96\n",
            "   macro avg       0.69      0.77      0.66        96\n",
            "weighted avg       0.83      0.69      0.71        96\n",
            "\n",
            "GaussianNB:> 0.6875\n",
            "              precision    recall  f1-score   support\n",
            "\n",
            "           0       0.54      0.74      0.63        35\n",
            "           1       0.81      0.64      0.72        61\n",
            "\n",
            "    accuracy                           0.68        96\n",
            "   macro avg       0.68      0.69      0.67        96\n",
            "weighted avg       0.71      0.68      0.68        96\n",
            "\n",
            "Logistic Regression:> 0.6770833333333334\n"
          ]
        }
      ]
    },
    {
      "cell_type": "code",
      "source": [
        "#Experiment 3: Sclaed + Up Sampled Data\n",
        "\n",
        "#X = df_upsampled.drop([\"Loan_ID\",\"Gender\",\"Married\",\"Education\",\"Self_Employed\",\"Loan_Amount_Term\",\"Loan_Status\",'Property_Area'],axis=1)\n",
        "X = df_upsampled.drop([\"Loan_Status\",\"Loan_ID\"],axis=1)\n",
        "y = df_upsampled.Loan_Status\n",
        "print(len(X),len(y))\n",
        "X_train , X_test , y_train , y_test = train_test_split(X,y,test_size=0.25,random_state=0)\n",
        "\n",
        "#Scaling data here:------------->\n",
        "\n",
        "StSc = StandardScaler()\n",
        "X_train  = StSc.fit_transform(X_train)\n",
        "X_test  = StSc.fit_transform(X_test)\n",
        "\n",
        "#Check mean is 0 and Standard deviation is 1\n",
        "print(\"After Standardization\\nMean \",np.mean(X_train),\"Standard Deviation \",np.std(X_train),\"\\n\")\n",
        "\n",
        "#Voting ensemble mathod. Combining all tree based algorithms.\n",
        "models = []\n",
        "models.append((\"XGB\",XGBClassifier()))\n",
        "models.append((\"RF\",RandomForestClassifier()))\n",
        "models.append((\"DT\",DecisionTreeClassifier()))\n",
        "models.append((\"ADB\",AdaBoostClassifier()))\n",
        "models.append((\"GB\",GradientBoostingClassifier()))\n",
        "\n",
        "ensemble = VotingClassifier(estimators=models)\n",
        "ensemble.fit(X_train,y_train)\n",
        "y_pred = ensemble.predict(X_test) \n",
        "print(classification_report(y_pred,y_test))\n",
        "print(\"Voting Ensemble:>\",accuracy_score(y_pred,y_test))\n",
        "\n",
        "\n",
        "\n",
        "SVM = SVC(kernel=\"linear\",class_weight=\"balanced\",probability=True)\n",
        "SVM.fit(X_train,y_train)\n",
        "y_pred = SVM.predict(X_test)\n",
        "print(classification_report(y_pred,y_test))\n",
        "print(\"SVM:>\",accuracy_score(y_pred,y_test))\n",
        "\n",
        "\n",
        "XGBC = XGBClassifier(learning_rate =0.1,n_estimators=10000,max_depth=4,min_child_weight=6,gamma=0,subsample=0.6,colsample_bytree=0.8,\n",
        " reg_alpha=0.005, objective= 'binary:logistic', nthread=2, scale_pos_weight=1, seed=27,eval_metric = \"logloss\")\n",
        "XGBC.fit(X_train,y_train)\n",
        "y_pred = XGBC.predict(X_test)\n",
        "print(classification_report(y_pred,y_test))\n",
        "print(\"XGBoost:>\",accuracy_score(y_pred,y_test))\n",
        "\n",
        "Model1 = RandomForestClassifier(n_estimators=1000,random_state=0,n_jobs=1000,max_depth=70,bootstrap=True)\n",
        "Model1.fit(X_train,y_train)\n",
        "y_pred = Model1.predict(X_test)\n",
        "print(classification_report(y_pred,y_test))\n",
        "print(\"RandomForestClassifier:>\",accuracy_score(y_pred,y_test))\n",
        "\n",
        "\n",
        "Model2 = GradientBoostingClassifier()\n",
        "Model2.fit(X_train,y_train)\n",
        "y_pred = Model2.predict(X_test)\n",
        "print(classification_report(y_pred,y_test))\n",
        "print(\"GradientBoostingClassifier:>\",accuracy_score(y_pred,y_test))\n",
        "\n",
        "\n",
        "Model3 = DecisionTreeClassifier(class_weight=None, criterion='gini', max_depth=100,\n",
        " max_features=1.0, max_leaf_nodes=10, min_samples_leaf=1,\n",
        " min_samples_split=2, min_weight_fraction_leaf=0.10,\n",
        " random_state=27, splitter='best')\n",
        "Model3.fit(X_train,y_train)\n",
        "y_pred = Model3.predict(X_test)\n",
        "print(classification_report(y_pred,y_test))\n",
        "print(\"DecisionTreeClassifier:>\",accuracy_score(y_pred,y_test))\n",
        "\n",
        "\n",
        "Model4 = AdaBoostClassifier()\n",
        "Model4.fit(X_train,y_train)\n",
        "y_pred = Model4.predict(X_test)\n",
        "print(classification_report(y_pred,y_test))\n",
        "print(\"AdaBoostClassifier:>\",accuracy_score(y_pred,y_test))\n",
        "\n",
        "\n",
        "Model5 = LinearDiscriminantAnalysis()\n",
        "Model5.fit(X_train,y_train)\n",
        "y_pred = Model5.predict(X_test)\n",
        "print(classification_report(y_pred,y_test))\n",
        "print(\"LinearDiscriminantAnalysis:>\",accuracy_score(y_pred,y_test))\n",
        "\n",
        "KNN = KNeighborsClassifier(leaf_size=1,p=2,n_neighbors=20)\n",
        "KNN.fit(X_train,y_train)\n",
        "y_pred = KNN.predict(X_test)\n",
        "print(classification_report(y_pred,y_test))\n",
        "print(\"KNeighborsClassifier:>\",accuracy_score(y_pred,y_test))\n",
        "\n",
        "\n",
        "Model7 = GaussianNB()\n",
        "Model7.fit(X_train,y_train)\n",
        "y_pred = Model7.predict(X_test)\n",
        "print(classification_report(y_pred,y_test))\n",
        "print(\"GaussianNB:>\",accuracy_score(y_pred,y_test))\n",
        "\n",
        "\n",
        "Model8 = LogisticRegression(C=1.0, class_weight=None, dual=False, fit_intercept=True,\n",
        "          intercept_scaling=1, max_iter=100, multi_class='ovr', n_jobs=1,\n",
        "          penalty='l2', random_state=None, solver='liblinear', tol=0.0001,\n",
        "          verbose=0, warm_start=False)\n",
        "Model8.fit(X_train,y_train)\n",
        "y_pred = Model8.predict(X_test)\n",
        "print(classification_report(y_pred,y_test))\n",
        "print(\"Logistic Regression:>\",accuracy_score(y_pred,y_test))"
      ],
      "metadata": {
        "colab": {
          "base_uri": "https://localhost:8080/"
        },
        "id": "Tl6_zWxjdboS",
        "outputId": "c011850e-4cd7-4d12-b5ac-933b41e38c56"
      },
      "execution_count": null,
      "outputs": [
        {
          "output_type": "stream",
          "name": "stdout",
          "text": [
            "844 844\n",
            "After Standardization\n",
            "Mean  7.143184188310644e-17 Standard Deviation  1.0 \n",
            "\n",
            "              precision    recall  f1-score   support\n",
            "\n",
            "           0       0.69      0.85      0.76        87\n",
            "           1       0.87      0.73      0.79       124\n",
            "\n",
            "    accuracy                           0.78       211\n",
            "   macro avg       0.78      0.79      0.78       211\n",
            "weighted avg       0.80      0.78      0.78       211\n",
            "\n",
            "Voting Ensemble:> 0.7772511848341233\n",
            "              precision    recall  f1-score   support\n",
            "\n",
            "           0       0.38      0.95      0.54        43\n",
            "           1       0.98      0.60      0.75       168\n",
            "\n",
            "    accuracy                           0.67       211\n",
            "   macro avg       0.68      0.78      0.64       211\n",
            "weighted avg       0.86      0.67      0.70       211\n",
            "\n",
            "SVM:> 0.6729857819905213\n",
            "              precision    recall  f1-score   support\n",
            "\n",
            "           0       0.67      0.73      0.70        98\n",
            "           1       0.75      0.68      0.71       113\n",
            "\n",
            "    accuracy                           0.71       211\n",
            "   macro avg       0.71      0.71      0.71       211\n",
            "weighted avg       0.71      0.71      0.71       211\n",
            "\n",
            "XGBoost:> 0.7061611374407583\n",
            "              precision    recall  f1-score   support\n",
            "\n",
            "           0       0.80      0.88      0.83        98\n",
            "           1       0.88      0.81      0.84       113\n",
            "\n",
            "    accuracy                           0.84       211\n",
            "   macro avg       0.84      0.84      0.84       211\n",
            "weighted avg       0.84      0.84      0.84       211\n",
            "\n",
            "RandomForestClassifier:> 0.8388625592417062\n",
            "              precision    recall  f1-score   support\n",
            "\n",
            "           0       0.59      0.77      0.67        83\n",
            "           1       0.82      0.66      0.73       128\n",
            "\n",
            "    accuracy                           0.70       211\n",
            "   macro avg       0.70      0.71      0.70       211\n",
            "weighted avg       0.73      0.70      0.70       211\n",
            "\n",
            "GradientBoostingClassifier:> 0.7014218009478673\n",
            "              precision    recall  f1-score   support\n",
            "\n",
            "           0       0.54      0.70      0.61        83\n",
            "           1       0.76      0.61      0.68       128\n",
            "\n",
            "    accuracy                           0.64       211\n",
            "   macro avg       0.65      0.65      0.64       211\n",
            "weighted avg       0.67      0.64      0.65       211\n",
            "\n",
            "DecisionTreeClassifier:> 0.6445497630331753\n",
            "              precision    recall  f1-score   support\n",
            "\n",
            "           0       0.63      0.76      0.69        89\n",
            "           1       0.80      0.67      0.73       122\n",
            "\n",
            "    accuracy                           0.71       211\n",
            "   macro avg       0.71      0.72      0.71       211\n",
            "weighted avg       0.73      0.71      0.71       211\n",
            "\n",
            "AdaBoostClassifier:> 0.7109004739336493\n",
            "              precision    recall  f1-score   support\n",
            "\n",
            "           0       0.44      0.78      0.56        60\n",
            "           1       0.87      0.60      0.71       151\n",
            "\n",
            "    accuracy                           0.65       211\n",
            "   macro avg       0.65      0.69      0.63       211\n",
            "weighted avg       0.75      0.65      0.67       211\n",
            "\n",
            "LinearDiscriminantAnalysis:> 0.6492890995260664\n",
            "              precision    recall  f1-score   support\n",
            "\n",
            "           0       0.55      0.81      0.65        73\n",
            "           1       0.86      0.64      0.74       138\n",
            "\n",
            "    accuracy                           0.70       211\n",
            "   macro avg       0.71      0.73      0.70       211\n",
            "weighted avg       0.75      0.70      0.71       211\n",
            "\n",
            "KNeighborsClassifier:> 0.7014218009478673\n",
            "              precision    recall  f1-score   support\n",
            "\n",
            "           0       0.40      0.88      0.55        49\n",
            "           1       0.94      0.60      0.73       162\n",
            "\n",
            "    accuracy                           0.66       211\n",
            "   macro avg       0.67      0.74      0.64       211\n",
            "weighted avg       0.82      0.66      0.69       211\n",
            "\n",
            "GaussianNB:> 0.6635071090047393\n",
            "              precision    recall  f1-score   support\n",
            "\n",
            "           0       0.45      0.79      0.58        62\n",
            "           1       0.87      0.60      0.71       149\n",
            "\n",
            "    accuracy                           0.66       211\n",
            "   macro avg       0.66      0.70      0.65       211\n",
            "weighted avg       0.75      0.66      0.67       211\n",
            "\n",
            "Logistic Regression:> 0.6587677725118484\n"
          ]
        }
      ]
    },
    {
      "cell_type": "code",
      "source": [
        "# Experiment 4: Sclaed + Selected features with respective importance\n",
        "#Droping features which are less important and keeping features as per importance analysis.\n",
        "X = new_data.drop([\"Loan_ID\",\"Gender\",\"Married\",\"Education\",\"Self_Employed\",\"Loan_Amount_Term\",\"Loan_Status\",\"Property_Area\"],axis=1)\n",
        "#X = new_data.drop([\"Loan_Status\",\"Loan_ID\"],axis=1)\n",
        "y = new_data.Loan_Status\n",
        "print(len(X),len(y))\n",
        "X_train , X_test , y_train , y_test = train_test_split(X,y,test_size=0.25,random_state=0)\n",
        "\n",
        "#Scaling data here:------------->\n",
        "\n",
        "StSc = StandardScaler()\n",
        "X_train  = StSc.fit_transform(X_train)\n",
        "X_test  = StSc.fit_transform(X_test)\n",
        "\n",
        "#Check mean is 0 and Standard deviation is 1\n",
        "print(\"After Standardization\\nMean \",np.mean(X_train),\"Standard Deviation \",np.std(X_train),\"\\n\")\n",
        "\n",
        "#Voting ensemble mathod. Combining all tree based algorithms.\n",
        "models = []\n",
        "models.append((\"XGB\",XGBClassifier()))\n",
        "models.append((\"RF\",RandomForestClassifier()))\n",
        "models.append((\"DT\",DecisionTreeClassifier()))\n",
        "models.append((\"ADB\",AdaBoostClassifier()))\n",
        "models.append((\"GB\",GradientBoostingClassifier()))\n",
        "\n",
        "ensemble = VotingClassifier(estimators=models)\n",
        "ensemble.fit(X_train,y_train)\n",
        "y_pred = ensemble.predict(X_test) \n",
        "print(classification_report(y_pred,y_test))\n",
        "print(\"Voting Ensemble:>\",accuracy_score(y_pred,y_test))\n",
        "\n",
        "\n",
        "\n",
        "SVM = SVC(kernel=\"linear\",class_weight=\"balanced\",probability=True)\n",
        "SVM.fit(X_train,y_train)\n",
        "y_pred = SVM.predict(X_test)\n",
        "print(classification_report(y_pred,y_test))\n",
        "print(\"SVM:>\",accuracy_score(y_pred,y_test))\n",
        "\n",
        "\n",
        "XGBC = XGBClassifier(learning_rate =0.1,n_estimators=10000,max_depth=4,min_child_weight=6,gamma=0,subsample=0.6,colsample_bytree=0.8,\n",
        " reg_alpha=0.005, objective= 'binary:logistic', nthread=2, scale_pos_weight=1, seed=27,eval_metric = \"logloss\")\n",
        "XGBC.fit(X_train,y_train)\n",
        "y_pred = XGBC.predict(X_test)\n",
        "print(classification_report(y_pred,y_test))\n",
        "print(\"XGBoost:>\",accuracy_score(y_pred,y_test))\n",
        "\n",
        "Model1 = RandomForestClassifier(n_estimators=1000,random_state=0,n_jobs=1000,max_depth=70,bootstrap=True)\n",
        "Model1.fit(X_train,y_train)\n",
        "y_pred = Model1.predict(X_test)\n",
        "print(classification_report(y_pred,y_test))\n",
        "print(\"RandomForestClassifier:>\",accuracy_score(y_pred,y_test))\n",
        "\n",
        "\n",
        "Model2 = GradientBoostingClassifier()\n",
        "Model2.fit(X_train,y_train)\n",
        "y_pred = Model2.predict(X_test)\n",
        "print(classification_report(y_pred,y_test))\n",
        "print(\"GradientBoostingClassifier:>\",accuracy_score(y_pred,y_test))\n",
        "\n",
        "\n",
        "Model3 = DecisionTreeClassifier(class_weight=None, criterion='gini', max_depth=100,\n",
        " max_features=1.0, max_leaf_nodes=10, min_samples_leaf=1,\n",
        " min_samples_split=2, min_weight_fraction_leaf=0.10,\n",
        " random_state=27, splitter='best')\n",
        "Model3.fit(X_train,y_train)\n",
        "y_pred = Model3.predict(X_test)\n",
        "print(classification_report(y_pred,y_test))\n",
        "print(\"DecisionTreeClassifier:>\",accuracy_score(y_pred,y_test))\n",
        "\n",
        "\n",
        "Model4 = AdaBoostClassifier()\n",
        "Model4.fit(X_train,y_train)\n",
        "y_pred = Model4.predict(X_test)\n",
        "print(classification_report(y_pred,y_test))\n",
        "print(\"AdaBoostClassifier:>\",accuracy_score(y_pred,y_test))\n",
        "\n",
        "\n",
        "Model5 = LinearDiscriminantAnalysis()\n",
        "Model5.fit(X_train,y_train)\n",
        "y_pred = Model5.predict(X_test)\n",
        "print(classification_report(y_pred,y_test))\n",
        "print(\"LinearDiscriminantAnalysis:>\",accuracy_score(y_pred,y_test))\n",
        "\n",
        "KNN = KNeighborsClassifier(leaf_size=1,p=2,n_neighbors=20)\n",
        "KNN.fit(X_train,y_train)\n",
        "y_pred = KNN.predict(X_test)\n",
        "print(classification_report(y_pred,y_test))\n",
        "print(\"KNeighborsClassifier:>\",accuracy_score(y_pred,y_test))\n",
        "\n",
        "\n",
        "Model7 = GaussianNB()\n",
        "Model7.fit(X_train,y_train)\n",
        "y_pred = Model7.predict(X_test)\n",
        "print(classification_report(y_pred,y_test))\n",
        "print(\"GaussianNB:>\",accuracy_score(y_pred,y_test))\n",
        "\n",
        "\n",
        "Model8 = LogisticRegression(C=1.0, class_weight=None, dual=False, fit_intercept=True,\n",
        "          intercept_scaling=1, max_iter=100, multi_class='ovr', n_jobs=1,\n",
        "          penalty='l2', random_state=None, solver='liblinear', tol=0.0001,\n",
        "          verbose=0, warm_start=False)\n",
        "Model8.fit(X_train,y_train)\n",
        "y_pred = Model8.predict(X_test)\n",
        "print(classification_report(y_pred,y_test))\n",
        "print(\"Logistic Regression:>\",accuracy_score(y_pred,y_test))"
      ],
      "metadata": {
        "colab": {
          "base_uri": "https://localhost:8080/"
        },
        "id": "rQU_kZdRd5Ho",
        "outputId": "e65999ff-e3ab-4a73-c96a-f2bd51476b03"
      },
      "execution_count": null,
      "outputs": [
        {
          "output_type": "stream",
          "name": "stdout",
          "text": [
            "614 614\n",
            "After Standardization\n",
            "Mean  -3.2669519263752433e-16 Standard Deviation  1.0 \n",
            "\n",
            "              precision    recall  f1-score   support\n",
            "\n",
            "           0       0.51      0.73      0.60        30\n",
            "           1       0.93      0.83      0.88       124\n",
            "\n",
            "    accuracy                           0.81       154\n",
            "   macro avg       0.72      0.78      0.74       154\n",
            "weighted avg       0.85      0.81      0.82       154\n",
            "\n",
            "Voting Ensemble:> 0.8116883116883117\n",
            "              precision    recall  f1-score   support\n",
            "\n",
            "           0       0.44      0.90      0.59        21\n",
            "           1       0.98      0.82      0.89       133\n",
            "\n",
            "    accuracy                           0.83       154\n",
            "   macro avg       0.71      0.86      0.74       154\n",
            "weighted avg       0.91      0.83      0.85       154\n",
            "\n",
            "SVM:> 0.8311688311688312\n",
            "              precision    recall  f1-score   support\n",
            "\n",
            "           0       0.23      0.34      0.28        29\n",
            "           1       0.83      0.74      0.78       125\n",
            "\n",
            "    accuracy                           0.66       154\n",
            "   macro avg       0.53      0.54      0.53       154\n",
            "weighted avg       0.72      0.66      0.69       154\n",
            "\n",
            "XGBoost:> 0.6623376623376623\n",
            "              precision    recall  f1-score   support\n",
            "\n",
            "           0       0.47      0.69      0.56        29\n",
            "           1       0.92      0.82      0.86       125\n",
            "\n",
            "    accuracy                           0.79       154\n",
            "   macro avg       0.69      0.75      0.71       154\n",
            "weighted avg       0.83      0.79      0.81       154\n",
            "\n",
            "RandomForestClassifier:> 0.7922077922077922\n",
            "              precision    recall  f1-score   support\n",
            "\n",
            "           0       0.44      0.73      0.55        26\n",
            "           1       0.94      0.81      0.87       128\n",
            "\n",
            "    accuracy                           0.80       154\n",
            "   macro avg       0.69      0.77      0.71       154\n",
            "weighted avg       0.85      0.80      0.82       154\n",
            "\n",
            "GradientBoostingClassifier:> 0.7987012987012987\n",
            "              precision    recall  f1-score   support\n",
            "\n",
            "           0       0.44      0.90      0.59        21\n",
            "           1       0.98      0.82      0.89       133\n",
            "\n",
            "    accuracy                           0.83       154\n",
            "   macro avg       0.71      0.86      0.74       154\n",
            "weighted avg       0.91      0.83      0.85       154\n",
            "\n",
            "DecisionTreeClassifier:> 0.8311688311688312\n",
            "              precision    recall  f1-score   support\n",
            "\n",
            "           0       0.47      0.83      0.60        24\n",
            "           1       0.96      0.82      0.89       130\n",
            "\n",
            "    accuracy                           0.82       154\n",
            "   macro avg       0.71      0.83      0.74       154\n",
            "weighted avg       0.89      0.82      0.84       154\n",
            "\n",
            "AdaBoostClassifier:> 0.8246753246753247\n",
            "              precision    recall  f1-score   support\n",
            "\n",
            "           0       0.44      0.90      0.59        21\n",
            "           1       0.98      0.82      0.89       133\n",
            "\n",
            "    accuracy                           0.83       154\n",
            "   macro avg       0.71      0.86      0.74       154\n",
            "weighted avg       0.91      0.83      0.85       154\n",
            "\n",
            "LinearDiscriminantAnalysis:> 0.8311688311688312\n",
            "              precision    recall  f1-score   support\n",
            "\n",
            "           0       0.44      0.90      0.59        21\n",
            "           1       0.98      0.82      0.89       133\n",
            "\n",
            "    accuracy                           0.83       154\n",
            "   macro avg       0.71      0.86      0.74       154\n",
            "weighted avg       0.91      0.83      0.85       154\n",
            "\n",
            "KNeighborsClassifier:> 0.8311688311688312\n",
            "              precision    recall  f1-score   support\n",
            "\n",
            "           0       0.44      0.90      0.59        21\n",
            "           1       0.98      0.82      0.89       133\n",
            "\n",
            "    accuracy                           0.83       154\n",
            "   macro avg       0.71      0.86      0.74       154\n",
            "weighted avg       0.91      0.83      0.85       154\n",
            "\n",
            "GaussianNB:> 0.8311688311688312\n",
            "              precision    recall  f1-score   support\n",
            "\n",
            "           0       0.44      0.90      0.59        21\n",
            "           1       0.98      0.82      0.89       133\n",
            "\n",
            "    accuracy                           0.83       154\n",
            "   macro avg       0.71      0.86      0.74       154\n",
            "weighted avg       0.91      0.83      0.85       154\n",
            "\n",
            "Logistic Regression:> 0.8311688311688312\n"
          ]
        }
      ]
    },
    {
      "cell_type": "code",
      "source": [
        "# Tuning SVM parameters\n",
        "\n",
        "#X = new_data.drop([\"Loan_ID\",\"Gender\",\"Married\",\"Education\",\"Self_Employed\",\"Loan_Amount_Term\",\"Loan_Status\",\"Property_Area\"],axis=1)\n",
        "X = new_data.drop([\"Loan_Status\",\"Loan_ID\"],axis=1)\n",
        "y = new_data.Loan_Status\n",
        "print(len(X),len(y))\n",
        "X_train , X_test , y_train , y_test = train_test_split(X,y,test_size=0.25,random_state=0)\n",
        "\n",
        "\n",
        "model = SVC()\n",
        "kernel = ['poly', 'rbf', 'sigmoid']\n",
        "C = [50, 10, 1.0, 0.1, 0.01]\n",
        "gamma = ['scale']\n",
        "# define grid search\n",
        "grid = dict(kernel=kernel,C=C,gamma=gamma)\n",
        "cv = RepeatedStratifiedKFold(n_splits=10, n_repeats=3, random_state=1)\n",
        "grid_search = GridSearchCV(estimator=model, param_grid=grid, n_jobs=-1, cv=cv, scoring='accuracy',error_score=0)\n",
        "grid_result = grid_search.fit(X, y)\n",
        "# summarize results\n",
        "print(\"Best: %f using %s\" % (grid_result.best_score_, grid_result.best_params_))\n",
        "means = grid_result.cv_results_['mean_test_score']\n",
        "stds = grid_result.cv_results_['std_test_score']\n",
        "params = grid_result.cv_results_['params']\n",
        "for mean, stdev, param in zip(means, stds, params):\n",
        "    print(\"%f (%f) with: %r\" % (mean, stdev, param))"
      ],
      "metadata": {
        "colab": {
          "base_uri": "https://localhost:8080/"
        },
        "id": "4G6LlzqgeM1U",
        "outputId": "e2475c08-346f-4b14-953c-a65b24bf8101"
      },
      "execution_count": null,
      "outputs": [
        {
          "output_type": "stream",
          "name": "stdout",
          "text": [
            "614 614\n",
            "Best: 0.689468 using {'C': 50, 'gamma': 'scale', 'kernel': 'rbf'}\n",
            "0.687308 (0.005314) with: {'C': 50, 'gamma': 'scale', 'kernel': 'poly'}\n",
            "0.689468 (0.016542) with: {'C': 50, 'gamma': 'scale', 'kernel': 'rbf'}\n",
            "0.686215 (0.027277) with: {'C': 50, 'gamma': 'scale', 'kernel': 'sigmoid'}\n",
            "0.687308 (0.005314) with: {'C': 10, 'gamma': 'scale', 'kernel': 'poly'}\n",
            "0.682434 (0.009840) with: {'C': 10, 'gamma': 'scale', 'kernel': 'rbf'}\n",
            "0.687308 (0.026685) with: {'C': 10, 'gamma': 'scale', 'kernel': 'sigmoid'}\n",
            "0.687308 (0.005314) with: {'C': 1.0, 'gamma': 'scale', 'kernel': 'poly'}\n",
            "0.687308 (0.005314) with: {'C': 1.0, 'gamma': 'scale', 'kernel': 'rbf'}\n",
            "0.687308 (0.005314) with: {'C': 1.0, 'gamma': 'scale', 'kernel': 'sigmoid'}\n",
            "0.687308 (0.005314) with: {'C': 0.1, 'gamma': 'scale', 'kernel': 'poly'}\n",
            "0.687308 (0.005314) with: {'C': 0.1, 'gamma': 'scale', 'kernel': 'rbf'}\n",
            "0.687308 (0.005314) with: {'C': 0.1, 'gamma': 'scale', 'kernel': 'sigmoid'}\n",
            "0.687308 (0.005314) with: {'C': 0.01, 'gamma': 'scale', 'kernel': 'poly'}\n",
            "0.687308 (0.005314) with: {'C': 0.01, 'gamma': 'scale', 'kernel': 'rbf'}\n",
            "0.687308 (0.005314) with: {'C': 0.01, 'gamma': 'scale', 'kernel': 'sigmoid'}\n"
          ]
        }
      ]
    },
    {
      "cell_type": "markdown",
      "source": [
        "**Conclusion** \n",
        "Resut Summary is as below:-----> Algorithm : Accuracy\n",
        "\n",
        "Experiment 1 : Scaled data only\n",
        "\n",
        "Support Vector Machine 83.116 Decision Tree 83.1168 Linear Discriminant Analysis 83.166 KNearest Neighbors 83.766 Gaussian Naivey Bayes 83.116 Logistic Regression 83.116\n",
        "\n",
        "Experiment 2: Sclaed + Down Sampled Data\n",
        "\n",
        "AdaBoost 73.95 Decision Tree 72.91 Adaboost 73.9\n",
        "\n",
        "Experiment 3: Sclaed + Up Sampled Data\n",
        "\n",
        "Random Forest only 83.88\n",
        "\n",
        "Experiment 4: Sclaed + Selected features with respective importance\n",
        "\n",
        "Support Vector Machine 83.11 Decision Tree 83.11 AdaBoost 82.46 Linear Discriminant Analysis 83.11 KNearest Neighbors 83.11 Gaussian Naivey Bayes 83.11 Logistic Regression 83.11\n",
        "\n",
        "Also after parameter tuning with\n",
        "\n",
        "KNN 83.11\n",
        "\n",
        "After all possible experiments Maximum accuracy achieved By making data balanced as Up Sampling. Surprisingly only Random forest performed well in that state of the data.\n",
        "\n",
        "Surprisingly feature selection doesn't make increase in accuracy."
      ],
      "metadata": {
        "id": "YrDX-ZhCes-W"
      }
    },
    {
      "cell_type": "markdown",
      "metadata": {
        "id": "5nomnQ0fzu2V"
      },
      "source": [
        "# Understanding the various features (columns) of the dataset."
      ]
    },
    {
      "cell_type": "code",
      "execution_count": null,
      "metadata": {
        "id": "Q7UDUnK4zu2U"
      },
      "outputs": [],
      "source": [
        "# Store total number of observation in training dataset\n",
        "df_length =len(df)\n",
        "\n",
        "# Store total number of columns in testing data set\n",
        "test_col = len(test.columns)"
      ]
    },
    {
      "cell_type": "code",
      "execution_count": null,
      "metadata": {
        "colab": {
          "base_uri": "https://localhost:8080/",
          "height": 300
        },
        "id": "6TkgBGe_zu2V",
        "outputId": "9fedddfb-9cf8-4564-c31d-7cbce6ba5d3a"
      },
      "outputs": [
        {
          "output_type": "execute_result",
          "data": {
            "text/plain": [
              "       ApplicantIncome  CoapplicantIncome  LoanAmount  Loan_Amount_Term  \\\n",
              "count       614.000000         614.000000  592.000000         600.00000   \n",
              "mean       5403.459283        1621.245798  146.412162         342.00000   \n",
              "std        6109.041673        2926.248369   85.587325          65.12041   \n",
              "min         150.000000           0.000000    9.000000          12.00000   \n",
              "25%        2877.500000           0.000000  100.000000         360.00000   \n",
              "50%        3812.500000        1188.500000  128.000000         360.00000   \n",
              "75%        5795.000000        2297.250000  168.000000         360.00000   \n",
              "max       81000.000000       41667.000000  700.000000         480.00000   \n",
              "\n",
              "       Credit_History  \n",
              "count      564.000000  \n",
              "mean         0.842199  \n",
              "std          0.364878  \n",
              "min          0.000000  \n",
              "25%          1.000000  \n",
              "50%          1.000000  \n",
              "75%          1.000000  \n",
              "max          1.000000  "
            ],
            "text/html": [
              "\n",
              "  <div id=\"df-cdb88968-ab80-47dd-bdb8-54235248c531\">\n",
              "    <div class=\"colab-df-container\">\n",
              "      <div>\n",
              "<style scoped>\n",
              "    .dataframe tbody tr th:only-of-type {\n",
              "        vertical-align: middle;\n",
              "    }\n",
              "\n",
              "    .dataframe tbody tr th {\n",
              "        vertical-align: top;\n",
              "    }\n",
              "\n",
              "    .dataframe thead th {\n",
              "        text-align: right;\n",
              "    }\n",
              "</style>\n",
              "<table border=\"1\" class=\"dataframe\">\n",
              "  <thead>\n",
              "    <tr style=\"text-align: right;\">\n",
              "      <th></th>\n",
              "      <th>ApplicantIncome</th>\n",
              "      <th>CoapplicantIncome</th>\n",
              "      <th>LoanAmount</th>\n",
              "      <th>Loan_Amount_Term</th>\n",
              "      <th>Credit_History</th>\n",
              "    </tr>\n",
              "  </thead>\n",
              "  <tbody>\n",
              "    <tr>\n",
              "      <th>count</th>\n",
              "      <td>614.000000</td>\n",
              "      <td>614.000000</td>\n",
              "      <td>592.000000</td>\n",
              "      <td>600.00000</td>\n",
              "      <td>564.000000</td>\n",
              "    </tr>\n",
              "    <tr>\n",
              "      <th>mean</th>\n",
              "      <td>5403.459283</td>\n",
              "      <td>1621.245798</td>\n",
              "      <td>146.412162</td>\n",
              "      <td>342.00000</td>\n",
              "      <td>0.842199</td>\n",
              "    </tr>\n",
              "    <tr>\n",
              "      <th>std</th>\n",
              "      <td>6109.041673</td>\n",
              "      <td>2926.248369</td>\n",
              "      <td>85.587325</td>\n",
              "      <td>65.12041</td>\n",
              "      <td>0.364878</td>\n",
              "    </tr>\n",
              "    <tr>\n",
              "      <th>min</th>\n",
              "      <td>150.000000</td>\n",
              "      <td>0.000000</td>\n",
              "      <td>9.000000</td>\n",
              "      <td>12.00000</td>\n",
              "      <td>0.000000</td>\n",
              "    </tr>\n",
              "    <tr>\n",
              "      <th>25%</th>\n",
              "      <td>2877.500000</td>\n",
              "      <td>0.000000</td>\n",
              "      <td>100.000000</td>\n",
              "      <td>360.00000</td>\n",
              "      <td>1.000000</td>\n",
              "    </tr>\n",
              "    <tr>\n",
              "      <th>50%</th>\n",
              "      <td>3812.500000</td>\n",
              "      <td>1188.500000</td>\n",
              "      <td>128.000000</td>\n",
              "      <td>360.00000</td>\n",
              "      <td>1.000000</td>\n",
              "    </tr>\n",
              "    <tr>\n",
              "      <th>75%</th>\n",
              "      <td>5795.000000</td>\n",
              "      <td>2297.250000</td>\n",
              "      <td>168.000000</td>\n",
              "      <td>360.00000</td>\n",
              "      <td>1.000000</td>\n",
              "    </tr>\n",
              "    <tr>\n",
              "      <th>max</th>\n",
              "      <td>81000.000000</td>\n",
              "      <td>41667.000000</td>\n",
              "      <td>700.000000</td>\n",
              "      <td>480.00000</td>\n",
              "      <td>1.000000</td>\n",
              "    </tr>\n",
              "  </tbody>\n",
              "</table>\n",
              "</div>\n",
              "      <button class=\"colab-df-convert\" onclick=\"convertToInteractive('df-cdb88968-ab80-47dd-bdb8-54235248c531')\"\n",
              "              title=\"Convert this dataframe to an interactive table.\"\n",
              "              style=\"display:none;\">\n",
              "        \n",
              "  <svg xmlns=\"http://www.w3.org/2000/svg\" height=\"24px\"viewBox=\"0 0 24 24\"\n",
              "       width=\"24px\">\n",
              "    <path d=\"M0 0h24v24H0V0z\" fill=\"none\"/>\n",
              "    <path d=\"M18.56 5.44l.94 2.06.94-2.06 2.06-.94-2.06-.94-.94-2.06-.94 2.06-2.06.94zm-11 1L8.5 8.5l.94-2.06 2.06-.94-2.06-.94L8.5 2.5l-.94 2.06-2.06.94zm10 10l.94 2.06.94-2.06 2.06-.94-2.06-.94-.94-2.06-.94 2.06-2.06.94z\"/><path d=\"M17.41 7.96l-1.37-1.37c-.4-.4-.92-.59-1.43-.59-.52 0-1.04.2-1.43.59L10.3 9.45l-7.72 7.72c-.78.78-.78 2.05 0 2.83L4 21.41c.39.39.9.59 1.41.59.51 0 1.02-.2 1.41-.59l7.78-7.78 2.81-2.81c.8-.78.8-2.07 0-2.86zM5.41 20L4 18.59l7.72-7.72 1.47 1.35L5.41 20z\"/>\n",
              "  </svg>\n",
              "      </button>\n",
              "      \n",
              "  <style>\n",
              "    .colab-df-container {\n",
              "      display:flex;\n",
              "      flex-wrap:wrap;\n",
              "      gap: 12px;\n",
              "    }\n",
              "\n",
              "    .colab-df-convert {\n",
              "      background-color: #E8F0FE;\n",
              "      border: none;\n",
              "      border-radius: 50%;\n",
              "      cursor: pointer;\n",
              "      display: none;\n",
              "      fill: #1967D2;\n",
              "      height: 32px;\n",
              "      padding: 0 0 0 0;\n",
              "      width: 32px;\n",
              "    }\n",
              "\n",
              "    .colab-df-convert:hover {\n",
              "      background-color: #E2EBFA;\n",
              "      box-shadow: 0px 1px 2px rgba(60, 64, 67, 0.3), 0px 1px 3px 1px rgba(60, 64, 67, 0.15);\n",
              "      fill: #174EA6;\n",
              "    }\n",
              "\n",
              "    [theme=dark] .colab-df-convert {\n",
              "      background-color: #3B4455;\n",
              "      fill: #D2E3FC;\n",
              "    }\n",
              "\n",
              "    [theme=dark] .colab-df-convert:hover {\n",
              "      background-color: #434B5C;\n",
              "      box-shadow: 0px 1px 3px 1px rgba(0, 0, 0, 0.15);\n",
              "      filter: drop-shadow(0px 1px 2px rgba(0, 0, 0, 0.3));\n",
              "      fill: #FFFFFF;\n",
              "    }\n",
              "  </style>\n",
              "\n",
              "      <script>\n",
              "        const buttonEl =\n",
              "          document.querySelector('#df-cdb88968-ab80-47dd-bdb8-54235248c531 button.colab-df-convert');\n",
              "        buttonEl.style.display =\n",
              "          google.colab.kernel.accessAllowed ? 'block' : 'none';\n",
              "\n",
              "        async function convertToInteractive(key) {\n",
              "          const element = document.querySelector('#df-cdb88968-ab80-47dd-bdb8-54235248c531');\n",
              "          const dataTable =\n",
              "            await google.colab.kernel.invokeFunction('convertToInteractive',\n",
              "                                                     [key], {});\n",
              "          if (!dataTable) return;\n",
              "\n",
              "          const docLinkHtml = 'Like what you see? Visit the ' +\n",
              "            '<a target=\"_blank\" href=https://colab.research.google.com/notebooks/data_table.ipynb>data table notebook</a>'\n",
              "            + ' to learn more about interactive tables.';\n",
              "          element.innerHTML = '';\n",
              "          dataTable['output_type'] = 'display_data';\n",
              "          await google.colab.output.renderOutput(dataTable, element);\n",
              "          const docLink = document.createElement('div');\n",
              "          docLink.innerHTML = docLinkHtml;\n",
              "          element.appendChild(docLink);\n",
              "        }\n",
              "      </script>\n",
              "    </div>\n",
              "  </div>\n",
              "  "
            ]
          },
          "metadata": {},
          "execution_count": 4
        }
      ],
      "source": [
        "# Summary of numerical variables for training data set\n",
        "\n",
        "df.describe()"
      ]
    },
    {
      "cell_type": "markdown",
      "metadata": {
        "id": "I2vRj2tHzu2W"
      },
      "source": [
        "1. For the non-numerical values (e.g. Property_Area, Credit_History etc.), we can look at frequency distribution to understand whether they make sense or not."
      ]
    },
    {
      "cell_type": "code",
      "source": [
        "#Univariate Analysis, countplots for categorical variables\n",
        "\n",
        "import numpy as np # linear algebra\n",
        "import pandas as pd # data processing, CSV file I/O (e.g. pd.read_csv)\n",
        "import matplotlib.pyplot as plt # Plotting charts\n",
        "import seaborn as sns # Plotting charts\n",
        "import os # To change directories on local machine\n",
        "from sklearn.model_selection import train_test_split # train and test split for Modelling \n",
        "\n",
        "fig,ax = plt.subplots(2,4,figsize=(16,10))\n",
        "sns.countplot(data=df, x='Loan_Status',ax=ax[0][0])\n",
        "sns.countplot(data=df, x='Gender',ax=ax[0][1])\n",
        "sns.countplot(data=df, x='Married',ax=ax[0][2])\n",
        "sns.countplot(data=df, x='Education',ax=ax[0][3])\n",
        "sns.countplot(data=df, x='Self_Employed',ax=ax[1][0])\n",
        "sns.countplot(data=df, x='Property_Area',ax=ax[1][1])\n",
        "sns.countplot(data=df, x='Credit_History',ax=ax[1][2])\n",
        "sns.countplot(data=df, x='Dependents',ax=ax[1][3])\n",
        "\n",
        "# df['Property_Area'].value_counts()\n",
        "# df['Property_Area'].value_counts().plot(kind='bar')"
      ],
      "metadata": {
        "colab": {
          "base_uri": "https://localhost:8080/",
          "height": 783
        },
        "id": "fwi78nTut8bY",
        "outputId": "1dc3f9f1-ebc1-4aa8-ac62-a8d54a4fabc7"
      },
      "execution_count": null,
      "outputs": [
        {
          "output_type": "execute_result",
          "data": {
            "text/plain": [
              "<Axes: xlabel='Dependents', ylabel='count'>"
            ]
          },
          "metadata": {},
          "execution_count": 71
        },
        {
          "output_type": "display_data",
          "data": {
            "text/plain": [
              "<Figure size 1600x1000 with 8 Axes>"
            ],
            "image/png": "[encoded data removed]"
          },
          "metadata": {}
        }
      ]
    },
    {
      "cell_type": "code",
      "execution_count": null,
      "metadata": {
        "colab": {
          "base_uri": "https://localhost:8080/",
          "height": 183
        },
        "id": "wgSsC7w2zu2W",
        "outputId": "76ab645a-f9fd-432e-ef8c-e633321ba7e1"
      },
      "outputs": [
        {
          "output_type": "error",
          "ename": "NameError",
          "evalue": "ignored",
          "traceback": [
            "\u001b[0;31m---------------------------------------------------------------------------\u001b[0m",
            "\u001b[0;31mNameError\u001b[0m                                 Traceback (most recent call last)",
            "\u001b[0;32m<ipython-input-1-d76f74c86602>\u001b[0m in \u001b[0;36m<cell line: 2>\u001b[0;34m()\u001b[0m\n\u001b[1;32m      1\u001b[0m \u001b[0;31m#Catplot - 'Married' Vs 'Loan_Status'\u001b[0m\u001b[0;34m\u001b[0m\u001b[0;34m\u001b[0m\u001b[0m\n\u001b[0;32m----> 2\u001b[0;31m \u001b[0msns\u001b[0m\u001b[0;34m.\u001b[0m\u001b[0mcatplot\u001b[0m\u001b[0;34m(\u001b[0m\u001b[0mdata\u001b[0m\u001b[0;34m=\u001b[0m\u001b[0mdata\u001b[0m\u001b[0;34m,\u001b[0m\u001b[0mx\u001b[0m\u001b[0;34m=\u001b[0m\u001b[0;34m'Married'\u001b[0m\u001b[0;34m,\u001b[0m\u001b[0my\u001b[0m\u001b[0;34m=\u001b[0m\u001b[0;34m'Loan_Status'\u001b[0m\u001b[0;34m,\u001b[0m\u001b[0mkind\u001b[0m\u001b[0;34m=\u001b[0m\u001b[0;34m'point'\u001b[0m\u001b[0;34m)\u001b[0m\u001b[0;34m\u001b[0m\u001b[0;34m\u001b[0m\u001b[0m\n\u001b[0m",
            "\u001b[0;31mNameError\u001b[0m: name 'sns' is not defined"
          ]
        }
      ],
      "source": [
        "#Catplot - 'Married' Vs 'Loan_Status' \n",
        "sns.catplot(data=data,x='Married',y='Loan_Status',kind='point')"
      ]
    },
    {
      "cell_type": "code",
      "source": [
        "print(data[\"Gender\"].value_counts())\n",
        "print(data[\"Married\"].value_counts())\n",
        "print(data[\"Self_Employed\"].value_counts())\n",
        "print(data[\"Dependents\"].value_counts())\n",
        "print(data[\"Credit_History\"].value_counts())\n",
        "print(data[\"Loan_Amount_Term\"].value_counts())"
      ],
      "metadata": {
        "id": "0HnnFmbUKH7H"
      },
      "execution_count": null,
      "outputs": []
    },
    {
      "cell_type": "markdown",
      "source": [
        "**Univariate analysis Observations:**\n",
        "\n",
        "- More Loans are approved than Rejected\n",
        "- Count of Male applicants is more than Female\n",
        "- Count of Married applicant is more than Non-married\n",
        "- Count of graduate are more than non-Graduate\n",
        "- Count of self-employed is less than that of Non-Self-employed\n",
        "- Maximum properties are located in Semiurban areas\n",
        "- Credit History is present for many applicants\n",
        "- Count of applicants with number of dependents=0 is maximum."
      ],
      "metadata": {
        "id": "LtYGNMNRvu2c"
      }
    },
    {
      "cell_type": "markdown",
      "metadata": {
        "id": "MmBwnFNMzu2X"
      },
      "source": [
        "2. Understanding Distribution of Numerical Variables\n",
        "    - ApplicantIncome\n",
        "    - LoanAmount"
      ]
    },
    {
      "cell_type": "code",
      "execution_count": null,
      "metadata": {
        "colab": {
          "base_uri": "https://localhost:8080/",
          "height": 447
        },
        "id": "VWFfjm0Fzu2X",
        "outputId": "1862bda6-f46a-485b-d67c-88041d9df83e"
      },
      "outputs": [
        {
          "output_type": "execute_result",
          "data": {
            "text/plain": [
              "<Axes: >"
            ]
          },
          "metadata": {},
          "execution_count": 34
        },
        {
          "output_type": "display_data",
          "data": {
            "text/plain": [
              "<Figure size 640x480 with 1 Axes>"
            ],
            "image/png": "[encoded data removed]"
          },
          "metadata": {}
        }
      ],
      "source": [
        "# Box Plot for understanding the distributions and to observe the outliers.\n",
        "\n",
        "%matplotlib inline\n",
        "\n",
        "# Histogram of variable ApplicantIncome\n",
        "\n",
        "df['ApplicantIncome'].hist(bins=50)  #can remove grid (bins=50,grid=False)"
      ]
    },
    {
      "cell_type": "code",
      "execution_count": null,
      "metadata": {
        "colab": {
          "base_uri": "https://localhost:8080/",
          "height": 447
        },
        "id": "k1GErK6xzu2Y",
        "outputId": "be82798e-5a4c-4e43-81dc-1a33f00882e2"
      },
      "outputs": [
        {
          "output_type": "execute_result",
          "data": {
            "text/plain": [
              "<Axes: >"
            ]
          },
          "metadata": {},
          "execution_count": 33
        },
        {
          "output_type": "display_data",
          "data": {
            "text/plain": [
              "<Figure size 640x480 with 1 Axes>"
            ],
            "image/png": "[encoded data removed]"
          },
          "metadata": {}
        }
      ],
      "source": [
        "# Box Plot for variable ApplicantIncome of training data set\n",
        "\n",
        "df.boxplot(column='ApplicantIncome')"
      ]
    },
    {
      "cell_type": "markdown",
      "metadata": {
        "id": "2S04Tg8Fzu2Z"
      },
      "source": [
        "3. The above Box Plot confirms the presence of a lot of outliers/extreme values. This can be attributed to the income disparity in the society. "
      ]
    },
    {
      "cell_type": "code",
      "execution_count": null,
      "metadata": {
        "colab": {
          "base_uri": "https://localhost:8080/",
          "height": 495
        },
        "id": "KrQS1kCyzu2Z",
        "outputId": "aa2aba6e-2734-4833-e27c-8569292e2e91"
      },
      "outputs": [
        {
          "output_type": "execute_result",
          "data": {
            "text/plain": [
              "<Axes: title={'center': 'ApplicantIncome'}, xlabel='Education'>"
            ]
          },
          "metadata": {},
          "execution_count": 8
        },
        {
          "output_type": "display_data",
          "data": {
            "text/plain": [
              "<Figure size 640x480 with 1 Axes>"
            ],
            "image/png": "[encoded data removed]"
          },
          "metadata": {}
        }
      ],
      "source": [
        "# Box Plot for variable ApplicantIncome by variable Education of training data set\n",
        "\n",
        "df.boxplot(column='ApplicantIncome', by = 'Education')"
      ]
    },
    {
      "cell_type": "markdown",
      "metadata": {
        "id": "YkZsEzLtzu2a"
      },
      "source": [
        "4. We can see that there is no substantial different between the mean income of graduate and non-graduates. But there are a higher number of graduates with very high incomes, which are appearing to be the outliers"
      ]
    },
    {
      "cell_type": "code",
      "execution_count": null,
      "metadata": {
        "colab": {
          "base_uri": "https://localhost:8080/",
          "height": 447
        },
        "id": "ZkyXrXFFzu2a",
        "outputId": "05ed0e3e-7e11-462f-ccd7-32d6e76e9ac6"
      },
      "outputs": [
        {
          "output_type": "execute_result",
          "data": {
            "text/plain": [
              "<Axes: >"
            ]
          },
          "metadata": {},
          "execution_count": 9
        },
        {
          "output_type": "display_data",
          "data": {
            "text/plain": [
              "<Figure size 640x480 with 1 Axes>"
            ],
            "image/png": "[encoded data removed]"
          },
          "metadata": {}
        }
      ],
      "source": [
        "# Histogram of variable LoanAmount\n",
        "\n",
        "df['LoanAmount'].hist(bins=50)"
      ]
    },
    {
      "cell_type": "code",
      "execution_count": null,
      "metadata": {
        "id": "f68euraFzu2b",
        "outputId": "4a1e96d7-5f95-4047-9534-a15db5fd96bc"
      },
      "outputs": [
        {
          "data": {
            "text/plain": [
              "<matplotlib.axes._subplots.AxesSubplot at 0x117693940>"
            ]
          },
          "execution_count": 10,
          "metadata": {},
          "output_type": "execute_result"
        },
        {
          "data": {
            "image/png": "[encoded data removed]",
            "text/plain": [
              "<Figure size 432x288 with 1 Axes>"
            ]
          },
          "metadata": {},
          "output_type": "display_data"
        }
      ],
      "source": [
        "# Box Plot for variable LoanAmount of training data set\n",
        "\n",
        "df.boxplot(column='LoanAmount')"
      ]
    },
    {
      "cell_type": "code",
      "execution_count": null,
      "metadata": {
        "id": "Eup6dwx-zu2b",
        "outputId": "14106530-850c-447b-d556-68da7018f885"
      },
      "outputs": [
        {
          "data": {
            "text/plain": [
              "<matplotlib.axes._subplots.AxesSubplot at 0x11763cb38>"
            ]
          },
          "execution_count": 11,
          "metadata": {},
          "output_type": "execute_result"
        },
        {
          "data": {
            "image/png": "[encoded data removed]",
            "text/plain": [
              "<Figure size 432x288 with 1 Axes>"
            ]
          },
          "metadata": {},
          "output_type": "display_data"
        }
      ],
      "source": [
        "# Box Plot for variable LoanAmount by variable Gender of training data set\n",
        "\n",
        "df.boxplot(column='LoanAmount', by = 'Gender')"
      ]
    },
    {
      "cell_type": "markdown",
      "metadata": {
        "id": "_iOv-64dzu2c"
      },
      "source": [
        "5. LoanAmount has missing as well as extreme values, while ApplicantIncome has a few extreme values."
      ]
    },
    {
      "cell_type": "markdown",
      "metadata": {
        "id": "j_aPVZ3Ozu2d"
      },
      "source": [
        "# Understanding Distribution of Categorical Variables"
      ]
    },
    {
      "cell_type": "code",
      "execution_count": null,
      "metadata": {
        "colab": {
          "base_uri": "https://localhost:8080/"
        },
        "id": "s92XB9-0zu2d",
        "outputId": "f281df54-1ec4-463e-c9c5-1acde03a797f"
      },
      "outputs": [
        {
          "output_type": "stream",
          "name": "stdout",
          "text": [
            "Y    422\n",
            "N    192\n",
            "Name: Loan_Status, dtype: int64\n"
          ]
        }
      ],
      "source": [
        "# Loan approval rates in absolute numbers\n",
        "loan_approval = df['Loan_Status'].value_counts()\n",
        "print(loan_approval)"
      ]
    },
    {
      "cell_type": "markdown",
      "metadata": {
        "id": "6f1p5Ufpzu2e"
      },
      "source": [
        "- 422 number of loans were approved."
      ]
    },
    {
      "cell_type": "code",
      "execution_count": null,
      "metadata": {
        "colab": {
          "base_uri": "https://localhost:8080/",
          "height": 175
        },
        "id": "N-9ZeiWdzu2f",
        "outputId": "982135a6-bdad-4ff3-d82c-56aaca31c0f3"
      },
      "outputs": [
        {
          "output_type": "execute_result",
          "data": {
            "text/plain": [
              "Loan_Status            N         Y\n",
              "Credit_History                    \n",
              "0.0             0.921348  0.078652\n",
              "1.0             0.204211  0.795789\n",
              "All             0.317376  0.682624"
            ],
            "text/html": [
              "\n",
              "  <div id=\"df-80070a0d-09b0-4b66-aff4-df1c212c4cab\">\n",
              "    <div class=\"colab-df-container\">\n",
              "      <div>\n",
              "<style scoped>\n",
              "    .dataframe tbody tr th:only-of-type {\n",
              "        vertical-align: middle;\n",
              "    }\n",
              "\n",
              "    .dataframe tbody tr th {\n",
              "        vertical-align: top;\n",
              "    }\n",
              "\n",
              "    .dataframe thead th {\n",
              "        text-align: right;\n",
              "    }\n",
              "</style>\n",
              "<table border=\"1\" class=\"dataframe\">\n",
              "  <thead>\n",
              "    <tr style=\"text-align: right;\">\n",
              "      <th>Loan_Status</th>\n",
              "      <th>N</th>\n",
              "      <th>Y</th>\n",
              "    </tr>\n",
              "    <tr>\n",
              "      <th>Credit_History</th>\n",
              "      <th></th>\n",
              "      <th></th>\n",
              "    </tr>\n",
              "  </thead>\n",
              "  <tbody>\n",
              "    <tr>\n",
              "      <th>0.0</th>\n",
              "      <td>0.921348</td>\n",
              "      <td>0.078652</td>\n",
              "    </tr>\n",
              "    <tr>\n",
              "      <th>1.0</th>\n",
              "      <td>0.204211</td>\n",
              "      <td>0.795789</td>\n",
              "    </tr>\n",
              "    <tr>\n",
              "      <th>All</th>\n",
              "      <td>0.317376</td>\n",
              "      <td>0.682624</td>\n",
              "    </tr>\n",
              "  </tbody>\n",
              "</table>\n",
              "</div>\n",
              "      <button class=\"colab-df-convert\" onclick=\"convertToInteractive('df-80070a0d-09b0-4b66-aff4-df1c212c4cab')\"\n",
              "              title=\"Convert this dataframe to an interactive table.\"\n",
              "              style=\"display:none;\">\n",
              "        \n",
              "  <svg xmlns=\"http://www.w3.org/2000/svg\" height=\"24px\"viewBox=\"0 0 24 24\"\n",
              "       width=\"24px\">\n",
              "    <path d=\"M0 0h24v24H0V0z\" fill=\"none\"/>\n",
              "    <path d=\"M18.56 5.44l.94 2.06.94-2.06 2.06-.94-2.06-.94-.94-2.06-.94 2.06-2.06.94zm-11 1L8.5 8.5l.94-2.06 2.06-.94-2.06-.94L8.5 2.5l-.94 2.06-2.06.94zm10 10l.94 2.06.94-2.06 2.06-.94-2.06-.94-.94-2.06-.94 2.06-2.06.94z\"/><path d=\"M17.41 7.96l-1.37-1.37c-.4-.4-.92-.59-1.43-.59-.52 0-1.04.2-1.43.59L10.3 9.45l-7.72 7.72c-.78.78-.78 2.05 0 2.83L4 21.41c.39.39.9.59 1.41.59.51 0 1.02-.2 1.41-.59l7.78-7.78 2.81-2.81c.8-.78.8-2.07 0-2.86zM5.41 20L4 18.59l7.72-7.72 1.47 1.35L5.41 20z\"/>\n",
              "  </svg>\n",
              "      </button>\n",
              "      \n",
              "  <style>\n",
              "    .colab-df-container {\n",
              "      display:flex;\n",
              "      flex-wrap:wrap;\n",
              "      gap: 12px;\n",
              "    }\n",
              "\n",
              "    .colab-df-convert {\n",
              "      background-color: #E8F0FE;\n",
              "      border: none;\n",
              "      border-radius: 50%;\n",
              "      cursor: pointer;\n",
              "      display: none;\n",
              "      fill: #1967D2;\n",
              "      height: 32px;\n",
              "      padding: 0 0 0 0;\n",
              "      width: 32px;\n",
              "    }\n",
              "\n",
              "    .colab-df-convert:hover {\n",
              "      background-color: #E2EBFA;\n",
              "      box-shadow: 0px 1px 2px rgba(60, 64, 67, 0.3), 0px 1px 3px 1px rgba(60, 64, 67, 0.15);\n",
              "      fill: #174EA6;\n",
              "    }\n",
              "\n",
              "    [theme=dark] .colab-df-convert {\n",
              "      background-color: #3B4455;\n",
              "      fill: #D2E3FC;\n",
              "    }\n",
              "\n",
              "    [theme=dark] .colab-df-convert:hover {\n",
              "      background-color: #434B5C;\n",
              "      box-shadow: 0px 1px 3px 1px rgba(0, 0, 0, 0.15);\n",
              "      filter: drop-shadow(0px 1px 2px rgba(0, 0, 0, 0.3));\n",
              "      fill: #FFFFFF;\n",
              "    }\n",
              "  </style>\n",
              "\n",
              "      <script>\n",
              "        const buttonEl =\n",
              "          document.querySelector('#df-80070a0d-09b0-4b66-aff4-df1c212c4cab button.colab-df-convert');\n",
              "        buttonEl.style.display =\n",
              "          google.colab.kernel.accessAllowed ? 'block' : 'none';\n",
              "\n",
              "        async function convertToInteractive(key) {\n",
              "          const element = document.querySelector('#df-80070a0d-09b0-4b66-aff4-df1c212c4cab');\n",
              "          const dataTable =\n",
              "            await google.colab.kernel.invokeFunction('convertToInteractive',\n",
              "                                                     [key], {});\n",
              "          if (!dataTable) return;\n",
              "\n",
              "          const docLinkHtml = 'Like what you see? Visit the ' +\n",
              "            '<a target=\"_blank\" href=https://colab.research.google.com/notebooks/data_table.ipynb>data table notebook</a>'\n",
              "            + ' to learn more about interactive tables.';\n",
              "          element.innerHTML = '';\n",
              "          dataTable['output_type'] = 'display_data';\n",
              "          await google.colab.output.renderOutput(dataTable, element);\n",
              "          const docLink = document.createElement('div');\n",
              "          docLink.innerHTML = docLinkHtml;\n",
              "          element.appendChild(docLink);\n",
              "        }\n",
              "      </script>\n",
              "    </div>\n",
              "  </div>\n",
              "  "
            ]
          },
          "metadata": {},
          "execution_count": 54
        }
      ],
      "source": [
        "# Credit History and Loan Status\n",
        "pd.crosstab(df ['Credit_History'], df ['Loan_Status'], margins=True, normalize='index')"
      ]
    },
    {
      "cell_type": "code",
      "source": [
        "# Credit History and Loan Status\n",
        "df.sort_values('Credit_History')"
      ],
      "metadata": {
        "colab": {
          "base_uri": "https://localhost:8080/",
          "height": 539
        },
        "id": "k4hL3tz1wceZ",
        "outputId": "ef0e06e5-86ee-40d4-bc1e-0f98344ba092"
      },
      "execution_count": null,
      "outputs": [
        {
          "output_type": "execute_result",
          "data": {
            "text/plain": [
              "      Loan_ID  Gender Married Dependents     Education Self_Employed  \\\n",
              "613  LP002990  Female      No          0      Graduate           Yes   \n",
              "450  LP002446    Male     Yes          2  Not Graduate            No   \n",
              "452  LP002448    Male     Yes          0      Graduate            No   \n",
              "453  LP002449    Male     Yes          0      Graduate            No   \n",
              "186  LP001641    Male     Yes          1      Graduate           Yes   \n",
              "..        ...     ...     ...        ...           ...           ...   \n",
              "544  LP002757  Female     Yes          0  Not Graduate            No   \n",
              "556  LP002794  Female      No          0      Graduate            No   \n",
              "565  LP002833    Male     Yes          0  Not Graduate            No   \n",
              "583  LP002898    Male     Yes          1      Graduate            No   \n",
              "600  LP002949  Female      No         3+      Graduate           NaN   \n",
              "\n",
              "     ApplicantIncome  CoapplicantIncome  LoanAmount  Loan_Amount_Term  \\\n",
              "613             4583                0.0       133.0             360.0   \n",
              "450             2309             1255.0       125.0             360.0   \n",
              "452             3948             1733.0       149.0             360.0   \n",
              "453             2483             2466.0        90.0             180.0   \n",
              "186             2178                0.0        66.0             300.0   \n",
              "..               ...                ...         ...               ...   \n",
              "544             3017              663.0       102.0             360.0   \n",
              "556             2667             1625.0        84.0             360.0   \n",
              "565             4467                0.0       120.0             360.0   \n",
              "583             1880                0.0        61.0             360.0   \n",
              "600              416            41667.0       350.0             180.0   \n",
              "\n",
              "     Credit_History Property_Area Loan_Status  \n",
              "613             0.0     Semiurban           N  \n",
              "450             0.0         Rural           N  \n",
              "452             0.0         Rural           N  \n",
              "453             0.0         Rural           Y  \n",
              "186             0.0         Rural           N  \n",
              "..              ...           ...         ...  \n",
              "544             NaN     Semiurban           Y  \n",
              "556             NaN         Urban           Y  \n",
              "565             NaN         Rural           Y  \n",
              "583             NaN         Rural           N  \n",
              "600             NaN         Urban           N  \n",
              "\n",
              "[614 rows x 13 columns]"
            ],
            "text/html": [
              "\n",
              "  <div id=\"df-9f76e5f6-3255-4cfd-97f7-e2d064e54421\">\n",
              "    <div class=\"colab-df-container\">\n",
              "      <div>\n",
              "<style scoped>\n",
              "    .dataframe tbody tr th:only-of-type {\n",
              "        vertical-align: middle;\n",
              "    }\n",
              "\n",
              "    .dataframe tbody tr th {\n",
              "        vertical-align: top;\n",
              "    }\n",
              "\n",
              "    .dataframe thead th {\n",
              "        text-align: right;\n",
              "    }\n",
              "</style>\n",
              "<table border=\"1\" class=\"dataframe\">\n",
              "  <thead>\n",
              "    <tr style=\"text-align: right;\">\n",
              "      <th></th>\n",
              "      <th>Loan_ID</th>\n",
              "      <th>Gender</th>\n",
              "      <th>Married</th>\n",
              "      <th>Dependents</th>\n",
              "      <th>Education</th>\n",
              "      <th>Self_Employed</th>\n",
              "      <th>ApplicantIncome</th>\n",
              "      <th>CoapplicantIncome</th>\n",
              "      <th>LoanAmount</th>\n",
              "      <th>Loan_Amount_Term</th>\n",
              "      <th>Credit_History</th>\n",
              "      <th>Property_Area</th>\n",
              "      <th>Loan_Status</th>\n",
              "    </tr>\n",
              "  </thead>\n",
              "  <tbody>\n",
              "    <tr>\n",
              "      <th>613</th>\n",
              "      <td>LP002990</td>\n",
              "      <td>Female</td>\n",
              "      <td>No</td>\n",
              "      <td>0</td>\n",
              "      <td>Graduate</td>\n",
              "      <td>Yes</td>\n",
              "      <td>4583</td>\n",
              "      <td>0.0</td>\n",
              "      <td>133.0</td>\n",
              "      <td>360.0</td>\n",
              "      <td>0.0</td>\n",
              "      <td>Semiurban</td>\n",
              "      <td>N</td>\n",
              "    </tr>\n",
              "    <tr>\n",
              "      <th>450</th>\n",
              "      <td>LP002446</td>\n",
              "      <td>Male</td>\n",
              "      <td>Yes</td>\n",
              "      <td>2</td>\n",
              "      <td>Not Graduate</td>\n",
              "      <td>No</td>\n",
              "      <td>2309</td>\n",
              "      <td>1255.0</td>\n",
              "      <td>125.0</td>\n",
              "      <td>360.0</td>\n",
              "      <td>0.0</td>\n",
              "      <td>Rural</td>\n",
              "      <td>N</td>\n",
              "    </tr>\n",
              "    <tr>\n",
              "      <th>452</th>\n",
              "      <td>LP002448</td>\n",
              "      <td>Male</td>\n",
              "      <td>Yes</td>\n",
              "      <td>0</td>\n",
              "      <td>Graduate</td>\n",
              "      <td>No</td>\n",
              "      <td>3948</td>\n",
              "      <td>1733.0</td>\n",
              "      <td>149.0</td>\n",
              "      <td>360.0</td>\n",
              "      <td>0.0</td>\n",
              "      <td>Rural</td>\n",
              "      <td>N</td>\n",
              "    </tr>\n",
              "    <tr>\n",
              "      <th>453</th>\n",
              "      <td>LP002449</td>\n",
              "      <td>Male</td>\n",
              "      <td>Yes</td>\n",
              "      <td>0</td>\n",
              "      <td>Graduate</td>\n",
              "      <td>No</td>\n",
              "      <td>2483</td>\n",
              "      <td>2466.0</td>\n",
              "      <td>90.0</td>\n",
              "      <td>180.0</td>\n",
              "      <td>0.0</td>\n",
              "      <td>Rural</td>\n",
              "      <td>Y</td>\n",
              "    </tr>\n",
              "    <tr>\n",
              "      <th>186</th>\n",
              "      <td>LP001641</td>\n",
              "      <td>Male</td>\n",
              "      <td>Yes</td>\n",
              "      <td>1</td>\n",
              "      <td>Graduate</td>\n",
              "      <td>Yes</td>\n",
              "      <td>2178</td>\n",
              "      <td>0.0</td>\n",
              "      <td>66.0</td>\n",
              "      <td>300.0</td>\n",
              "      <td>0.0</td>\n",
              "      <td>Rural</td>\n",
              "      <td>N</td>\n",
              "    </tr>\n",
              "    <tr>\n",
              "      <th>...</th>\n",
              "      <td>...</td>\n",
              "      <td>...</td>\n",
              "      <td>...</td>\n",
              "      <td>...</td>\n",
              "      <td>...</td>\n",
              "      <td>...</td>\n",
              "      <td>...</td>\n",
              "      <td>...</td>\n",
              "      <td>...</td>\n",
              "      <td>...</td>\n",
              "      <td>...</td>\n",
              "      <td>...</td>\n",
              "      <td>...</td>\n",
              "    </tr>\n",
              "    <tr>\n",
              "      <th>544</th>\n",
              "      <td>LP002757</td>\n",
              "      <td>Female</td>\n",
              "      <td>Yes</td>\n",
              "      <td>0</td>\n",
              "      <td>Not Graduate</td>\n",
              "      <td>No</td>\n",
              "      <td>3017</td>\n",
              "      <td>663.0</td>\n",
              "      <td>102.0</td>\n",
              "      <td>360.0</td>\n",
              "      <td>NaN</td>\n",
              "      <td>Semiurban</td>\n",
              "      <td>Y</td>\n",
              "    </tr>\n",
              "    <tr>\n",
              "      <th>556</th>\n",
              "      <td>LP002794</td>\n",
              "      <td>Female</td>\n",
              "      <td>No</td>\n",
              "      <td>0</td>\n",
              "      <td>Graduate</td>\n",
              "      <td>No</td>\n",
              "      <td>2667</td>\n",
              "      <td>1625.0</td>\n",
              "      <td>84.0</td>\n",
              "      <td>360.0</td>\n",
              "      <td>NaN</td>\n",
              "      <td>Urban</td>\n",
              "      <td>Y</td>\n",
              "    </tr>\n",
              "    <tr>\n",
              "      <th>565</th>\n",
              "      <td>LP002833</td>\n",
              "      <td>Male</td>\n",
              "      <td>Yes</td>\n",
              "      <td>0</td>\n",
              "      <td>Not Graduate</td>\n",
              "      <td>No</td>\n",
              "      <td>4467</td>\n",
              "      <td>0.0</td>\n",
              "      <td>120.0</td>\n",
              "      <td>360.0</td>\n",
              "      <td>NaN</td>\n",
              "      <td>Rural</td>\n",
              "      <td>Y</td>\n",
              "    </tr>\n",
              "    <tr>\n",
              "      <th>583</th>\n",
              "      <td>LP002898</td>\n",
              "      <td>Male</td>\n",
              "      <td>Yes</td>\n",
              "      <td>1</td>\n",
              "      <td>Graduate</td>\n",
              "      <td>No</td>\n",
              "      <td>1880</td>\n",
              "      <td>0.0</td>\n",
              "      <td>61.0</td>\n",
              "      <td>360.0</td>\n",
              "      <td>NaN</td>\n",
              "      <td>Rural</td>\n",
              "      <td>N</td>\n",
              "    </tr>\n",
              "    <tr>\n",
              "      <th>600</th>\n",
              "      <td>LP002949</td>\n",
              "      <td>Female</td>\n",
              "      <td>No</td>\n",
              "      <td>3+</td>\n",
              "      <td>Graduate</td>\n",
              "      <td>NaN</td>\n",
              "      <td>416</td>\n",
              "      <td>41667.0</td>\n",
              "      <td>350.0</td>\n",
              "      <td>180.0</td>\n",
              "      <td>NaN</td>\n",
              "      <td>Urban</td>\n",
              "      <td>N</td>\n",
              "    </tr>\n",
              "  </tbody>\n",
              "</table>\n",
              "<p>614 rows × 13 columns</p>\n",
              "</div>\n",
              "      <button class=\"colab-df-convert\" onclick=\"convertToInteractive('df-9f76e5f6-3255-4cfd-97f7-e2d064e54421')\"\n",
              "              title=\"Convert this dataframe to an interactive table.\"\n",
              "              style=\"display:none;\">\n",
              "        \n",
              "  <svg xmlns=\"http://www.w3.org/2000/svg\" height=\"24px\"viewBox=\"0 0 24 24\"\n",
              "       width=\"24px\">\n",
              "    <path d=\"M0 0h24v24H0V0z\" fill=\"none\"/>\n",
              "    <path d=\"M18.56 5.44l.94 2.06.94-2.06 2.06-.94-2.06-.94-.94-2.06-.94 2.06-2.06.94zm-11 1L8.5 8.5l.94-2.06 2.06-.94-2.06-.94L8.5 2.5l-.94 2.06-2.06.94zm10 10l.94 2.06.94-2.06 2.06-.94-2.06-.94-.94-2.06-.94 2.06-2.06.94z\"/><path d=\"M17.41 7.96l-1.37-1.37c-.4-.4-.92-.59-1.43-.59-.52 0-1.04.2-1.43.59L10.3 9.45l-7.72 7.72c-.78.78-.78 2.05 0 2.83L4 21.41c.39.39.9.59 1.41.59.51 0 1.02-.2 1.41-.59l7.78-7.78 2.81-2.81c.8-.78.8-2.07 0-2.86zM5.41 20L4 18.59l7.72-7.72 1.47 1.35L5.41 20z\"/>\n",
              "  </svg>\n",
              "      </button>\n",
              "      \n",
              "  <style>\n",
              "    .colab-df-container {\n",
              "      display:flex;\n",
              "      flex-wrap:wrap;\n",
              "      gap: 12px;\n",
              "    }\n",
              "\n",
              "    .colab-df-convert {\n",
              "      background-color: #E8F0FE;\n",
              "      border: none;\n",
              "      border-radius: 50%;\n",
              "      cursor: pointer;\n",
              "      display: none;\n",
              "      fill: #1967D2;\n",
              "      height: 32px;\n",
              "      padding: 0 0 0 0;\n",
              "      width: 32px;\n",
              "    }\n",
              "\n",
              "    .colab-df-convert:hover {\n",
              "      background-color: #E2EBFA;\n",
              "      box-shadow: 0px 1px 2px rgba(60, 64, 67, 0.3), 0px 1px 3px 1px rgba(60, 64, 67, 0.15);\n",
              "      fill: #174EA6;\n",
              "    }\n",
              "\n",
              "    [theme=dark] .colab-df-convert {\n",
              "      background-color: #3B4455;\n",
              "      fill: #D2E3FC;\n",
              "    }\n",
              "\n",
              "    [theme=dark] .colab-df-convert:hover {\n",
              "      background-color: #434B5C;\n",
              "      box-shadow: 0px 1px 3px 1px rgba(0, 0, 0, 0.15);\n",
              "      filter: drop-shadow(0px 1px 2px rgba(0, 0, 0, 0.3));\n",
              "      fill: #FFFFFF;\n",
              "    }\n",
              "  </style>\n",
              "\n",
              "      <script>\n",
              "        const buttonEl =\n",
              "          document.querySelector('#df-9f76e5f6-3255-4cfd-97f7-e2d064e54421 button.colab-df-convert');\n",
              "        buttonEl.style.display =\n",
              "          google.colab.kernel.accessAllowed ? 'block' : 'none';\n",
              "\n",
              "        async function convertToInteractive(key) {\n",
              "          const element = document.querySelector('#df-9f76e5f6-3255-4cfd-97f7-e2d064e54421');\n",
              "          const dataTable =\n",
              "            await google.colab.kernel.invokeFunction('convertToInteractive',\n",
              "                                                     [key], {});\n",
              "          if (!dataTable) return;\n",
              "\n",
              "          const docLinkHtml = 'Like what you see? Visit the ' +\n",
              "            '<a target=\"_blank\" href=https://colab.research.google.com/notebooks/data_table.ipynb>data table notebook</a>'\n",
              "            + ' to learn more about interactive tables.';\n",
              "          element.innerHTML = '';\n",
              "          dataTable['output_type'] = 'display_data';\n",
              "          await google.colab.output.renderOutput(dataTable, element);\n",
              "          const docLink = document.createElement('div');\n",
              "          docLink.innerHTML = docLinkHtml;\n",
              "          element.appendChild(docLink);\n",
              "        }\n",
              "      </script>\n",
              "    </div>\n",
              "  </div>\n",
              "  "
            ]
          },
          "metadata": {},
          "execution_count": 84
        }
      ]
    },
    {
      "cell_type": "code",
      "source": [
        "df.info()"
      ],
      "metadata": {
        "colab": {
          "base_uri": "https://localhost:8080/"
        },
        "id": "j8i3JjabxtpV",
        "outputId": "9f7db854-c661-45de-a481-d7a7337ca849"
      },
      "execution_count": null,
      "outputs": [
        {
          "output_type": "stream",
          "name": "stdout",
          "text": [
            "<class 'pandas.core.frame.DataFrame'>\n",
            "RangeIndex: 614 entries, 0 to 613\n",
            "Data columns (total 13 columns):\n",
            " #   Column             Non-Null Count  Dtype  \n",
            "---  ------             --------------  -----  \n",
            " 0   Loan_ID            614 non-null    object \n",
            " 1   Gender             601 non-null    object \n",
            " 2   Married            611 non-null    object \n",
            " 3   Dependents         599 non-null    object \n",
            " 4   Education          614 non-null    object \n",
            " 5   Self_Employed      582 non-null    object \n",
            " 6   ApplicantIncome    614 non-null    int64  \n",
            " 7   CoapplicantIncome  614 non-null    float64\n",
            " 8   LoanAmount         592 non-null    float64\n",
            " 9   Loan_Amount_Term   600 non-null    float64\n",
            " 10  Credit_History     564 non-null    float64\n",
            " 11  Property_Area      614 non-null    object \n",
            " 12  Loan_Status        614 non-null    object \n",
            "dtypes: float64(4), int64(1), object(8)\n",
            "memory usage: 62.5+ KB\n"
          ]
        }
      ]
    },
    {
      "cell_type": "code",
      "execution_count": null,
      "metadata": {
        "id": "PAi7F-iHzu2f"
      },
      "outputs": [],
      "source": [
        "#Function to output percentage row wise in a cross table\n",
        "def percentageConvert(ser):\n",
        "    return ser/float(ser[-1])\n",
        "\n",
        "# # Loan approval rate for customers having Credit_History (1)\n",
        "#df['Y'] = pd.crosstab(df [\"Credit_History\"], df [\"Loan_Status\"], margins=True).apply(percentageConvert, axis=1)\n",
        "#loan_approval_with_Credit_1 = df['Y'][1]\n",
        "#print(loan_approval_with_Credit_1*100)"
      ]
    },
    {
      "cell_type": "markdown",
      "metadata": {
        "id": "1CyC57Ybzu2g"
      },
      "source": [
        "- 79.58 % of the applicants whose loans were approved have Credit_History equals to 1."
      ]
    },
    {
      "cell_type": "code",
      "execution_count": null,
      "metadata": {
        "id": "Wqv8NYN1zu2g",
        "outputId": "ae3808dd-14cd-4ebb-fb7d-791b522935cf"
      },
      "outputs": [
        {
          "data": {
            "text/html": [
              "<div>\n",
              "<style scoped>\n",
              "    .dataframe tbody tr th:only-of-type {\n",
              "        vertical-align: middle;\n",
              "    }\n",
              "\n",
              "    .dataframe tbody tr th {\n",
              "        vertical-align: top;\n",
              "    }\n",
              "\n",
              "    .dataframe thead th {\n",
              "        text-align: right;\n",
              "    }\n",
              "</style>\n",
              "<table border=\"1\" class=\"dataframe\">\n",
              "  <thead>\n",
              "    <tr style=\"text-align: right;\">\n",
              "      <th></th>\n",
              "      <th>Loan_ID</th>\n",
              "      <th>Gender</th>\n",
              "      <th>Married</th>\n",
              "      <th>Dependents</th>\n",
              "      <th>Education</th>\n",
              "      <th>Self_Employed</th>\n",
              "      <th>ApplicantIncome</th>\n",
              "      <th>CoapplicantIncome</th>\n",
              "      <th>LoanAmount</th>\n",
              "      <th>Loan_Amount_Term</th>\n",
              "      <th>Credit_History</th>\n",
              "      <th>Property_Area</th>\n",
              "      <th>Loan_Status</th>\n",
              "    </tr>\n",
              "  </thead>\n",
              "  <tbody>\n",
              "    <tr>\n",
              "      <th>0</th>\n",
              "      <td>LP001002</td>\n",
              "      <td>Male</td>\n",
              "      <td>No</td>\n",
              "      <td>0</td>\n",
              "      <td>Graduate</td>\n",
              "      <td>No</td>\n",
              "      <td>5849</td>\n",
              "      <td>0.0</td>\n",
              "      <td>NaN</td>\n",
              "      <td>360.0</td>\n",
              "      <td>1.0</td>\n",
              "      <td>Urban</td>\n",
              "      <td>Y</td>\n",
              "    </tr>\n",
              "    <tr>\n",
              "      <th>1</th>\n",
              "      <td>LP001003</td>\n",
              "      <td>Male</td>\n",
              "      <td>Yes</td>\n",
              "      <td>1</td>\n",
              "      <td>Graduate</td>\n",
              "      <td>No</td>\n",
              "      <td>4583</td>\n",
              "      <td>1508.0</td>\n",
              "      <td>128.0</td>\n",
              "      <td>360.0</td>\n",
              "      <td>1.0</td>\n",
              "      <td>Rural</td>\n",
              "      <td>N</td>\n",
              "    </tr>\n",
              "    <tr>\n",
              "      <th>2</th>\n",
              "      <td>LP001005</td>\n",
              "      <td>Male</td>\n",
              "      <td>Yes</td>\n",
              "      <td>0</td>\n",
              "      <td>Graduate</td>\n",
              "      <td>Yes</td>\n",
              "      <td>3000</td>\n",
              "      <td>0.0</td>\n",
              "      <td>66.0</td>\n",
              "      <td>360.0</td>\n",
              "      <td>1.0</td>\n",
              "      <td>Urban</td>\n",
              "      <td>Y</td>\n",
              "    </tr>\n",
              "    <tr>\n",
              "      <th>3</th>\n",
              "      <td>LP001006</td>\n",
              "      <td>Male</td>\n",
              "      <td>Yes</td>\n",
              "      <td>0</td>\n",
              "      <td>Not Graduate</td>\n",
              "      <td>No</td>\n",
              "      <td>2583</td>\n",
              "      <td>2358.0</td>\n",
              "      <td>120.0</td>\n",
              "      <td>360.0</td>\n",
              "      <td>1.0</td>\n",
              "      <td>Urban</td>\n",
              "      <td>Y</td>\n",
              "    </tr>\n",
              "    <tr>\n",
              "      <th>4</th>\n",
              "      <td>LP001008</td>\n",
              "      <td>Male</td>\n",
              "      <td>No</td>\n",
              "      <td>0</td>\n",
              "      <td>Graduate</td>\n",
              "      <td>No</td>\n",
              "      <td>6000</td>\n",
              "      <td>0.0</td>\n",
              "      <td>141.0</td>\n",
              "      <td>360.0</td>\n",
              "      <td>1.0</td>\n",
              "      <td>Urban</td>\n",
              "      <td>Y</td>\n",
              "    </tr>\n",
              "  </tbody>\n",
              "</table>\n",
              "</div>"
            ],
            "text/plain": [
              "    Loan_ID Gender Married Dependents     Education Self_Employed  \\\n",
              "0  LP001002   Male      No          0      Graduate            No   \n",
              "1  LP001003   Male     Yes          1      Graduate            No   \n",
              "2  LP001005   Male     Yes          0      Graduate           Yes   \n",
              "3  LP001006   Male     Yes          0  Not Graduate            No   \n",
              "4  LP001008   Male      No          0      Graduate            No   \n",
              "\n",
              "   ApplicantIncome  CoapplicantIncome  LoanAmount  Loan_Amount_Term  \\\n",
              "0             5849                0.0         NaN             360.0   \n",
              "1             4583             1508.0       128.0             360.0   \n",
              "2             3000                0.0        66.0             360.0   \n",
              "3             2583             2358.0       120.0             360.0   \n",
              "4             6000                0.0       141.0             360.0   \n",
              "\n",
              "   Credit_History Property_Area Loan_Status  \n",
              "0             1.0         Urban           Y  \n",
              "1             1.0         Rural           N  \n",
              "2             1.0         Urban           Y  \n",
              "3             1.0         Urban           Y  \n",
              "4             1.0         Urban           Y  "
            ]
          },
          "execution_count": 17,
          "metadata": {},
          "output_type": "execute_result"
        }
      ],
      "source": [
        "df.head()"
      ]
    },
    {
      "cell_type": "code",
      "execution_count": null,
      "metadata": {
        "id": "z1tv5HcIzu2h"
      },
      "outputs": [],
      "source": [
        "# Replace missing value of Self_Employed with more frequent category\n",
        "df['Self_Employed'].fillna('No',inplace=True)"
      ]
    },
    {
      "cell_type": "markdown",
      "metadata": {
        "id": "cmu5VLFvzu2h"
      },
      "source": [
        "# Outliers of LoanAmount and Applicant Income"
      ]
    },
    {
      "cell_type": "code",
      "execution_count": null,
      "metadata": {
        "id": "Dl1wRclMzu2h",
        "outputId": "2f089a83-66ab-4d7b-83d5-3fb786d4d109"
      },
      "outputs": [
        {
          "data": {
            "text/plain": [
              "<matplotlib.axes._subplots.AxesSubplot at 0x117cd6e48>"
            ]
          },
          "execution_count": 19,
          "metadata": {},
          "output_type": "execute_result"
        },
        {
          "data": {
            "image/png": "[encoded data removed]",
            "text/plain": [
              "<Figure size 432x288 with 1 Axes>"
            ]
          },
          "metadata": {},
          "output_type": "display_data"
        }
      ],
      "source": [
        "# Add both ApplicantIncome and CoapplicantIncome to TotalIncome\n",
        "df['TotalIncome'] = df['ApplicantIncome'] + df['CoapplicantIncome']\n",
        "\n",
        "# Looking at the distribtion of TotalIncome\n",
        "df['LoanAmount'].hist(bins=20)"
      ]
    },
    {
      "cell_type": "markdown",
      "metadata": {
        "id": "3q2J23xDzu2i"
      },
      "source": [
        "- The extreme values are practically possible, i.e. some people might apply for high value loans due to specific needs. So instead of treating them as outliers, let’s try a log transformation to nullify their effect:"
      ]
    },
    {
      "cell_type": "code",
      "execution_count": null,
      "metadata": {
        "id": "5SgZMNwPzu2u",
        "outputId": "0b80506b-d8d1-484d-c0ae-c7ead8529821"
      },
      "outputs": [
        {
          "data": {
            "text/plain": [
              "<matplotlib.axes._subplots.AxesSubplot at 0x117dd07b8>"
            ]
          },
          "execution_count": 20,
          "metadata": {},
          "output_type": "execute_result"
        },
        {
          "data": {
            "image/png": "[encoded data removed]",
            "text/plain": [
              "<Figure size 432x288 with 1 Axes>"
            ]
          },
          "metadata": {},
          "output_type": "display_data"
        }
      ],
      "source": [
        "# Perform log transformation of TotalIncome to make it closer to normal\n",
        "df['LoanAmount_log'] = np.log(df['LoanAmount'])\n",
        "\n",
        "# Looking at the distribtion of TotalIncome_log\n",
        "df['LoanAmount_log'].hist(bins=20)"
      ]
    },
    {
      "cell_type": "markdown",
      "metadata": {
        "id": "OySKeK9Yzu2v"
      },
      "source": [
        "# Data Preparation for Model Building"
      ]
    },
    {
      "cell_type": "markdown",
      "metadata": {
        "id": "2Vk373hfzu2v"
      },
      "source": [
        "- sklearn requires all inputs to be numeric, we should convert all our categorical variables into numeric by encoding the categories. Before that we will fill all the missing values in the dataset."
      ]
    },
    {
      "cell_type": "code",
      "execution_count": null,
      "metadata": {
        "id": "nYQuRVtTzu2v",
        "outputId": "ff9a3738-295a-4aad-f65e-4b95b25066b7"
      },
      "outputs": [
        {
          "data": {
            "text/plain": [
              "Loan_ID               object\n",
              "Gender                 int64\n",
              "Married                int64\n",
              "Dependents             int64\n",
              "Education              int64\n",
              "Self_Employed          int64\n",
              "ApplicantIncome        int64\n",
              "CoapplicantIncome    float64\n",
              "LoanAmount           float64\n",
              "Loan_Amount_Term     float64\n",
              "Credit_History         int64\n",
              "Property_Area          int64\n",
              "Loan_Status           object\n",
              "TotalIncome          float64\n",
              "LoanAmount_log       float64\n",
              "dtype: object"
            ]
          },
          "execution_count": 21,
          "metadata": {},
          "output_type": "execute_result"
        }
      ],
      "source": [
        "# Impute missing values for Gender\n",
        "df['Gender'].fillna(df['Gender'].mode()[0],inplace=True)\n",
        "\n",
        "# Impute missing values for Married\n",
        "df['Married'].fillna(df['Married'].mode()[0],inplace=True)\n",
        "\n",
        "# Impute missing values for Dependents\n",
        "df['Dependents'].fillna(df['Dependents'].mode()[0],inplace=True)\n",
        "\n",
        "# Impute missing values for Credit_History\n",
        "df['Credit_History'].fillna(df['Credit_History'].mode()[0],inplace=True)\n",
        "\n",
        "# Convert all non-numeric values to number\n",
        "cat=['Gender','Married','Dependents','Education','Self_Employed','Credit_History','Property_Area']\n",
        "\n",
        "for var in cat:\n",
        "    le = preprocessing.LabelEncoder()\n",
        "    df[var]=le.fit_transform(df[var].astype('str'))\n",
        "df.dtypes"
      ]
    },
    {
      "cell_type": "markdown",
      "metadata": {
        "id": "uqCCxSBwzu2w"
      },
      "source": [
        "# Generic Classification Function"
      ]
    },
    {
      "cell_type": "code",
      "execution_count": null,
      "metadata": {
        "id": "KUY2cPDwzu2w",
        "outputId": "79d86d2a-ef38-4c03-b1ac-7de7f5cdab24"
      },
      "outputs": [
        {
          "name": "stderr",
          "output_type": "stream",
          "text": [
            "/Users/Technocrat/anaconda3/lib/python3.6/site-packages/sklearn/cross_validation.py:41: DeprecationWarning: This module was deprecated in version 0.18 in favor of the model_selection module into which all the refactored classes and functions are moved. Also note that the interface of the new CV iterators are different from that of this module. This module will be removed in 0.20.\n",
            "  \"This module will be removed in 0.20.\", DeprecationWarning)\n"
          ]
        }
      ],
      "source": [
        "#Import models from scikit learn module:\n",
        "from sklearn import metrics\n",
        "from sklearn.cross_validation import KFold\n",
        "\n",
        "#Generic function for making a classification model and accessing performance:\n",
        "\n",
        "def classification_model(model, data, predictors, outcome):\n",
        "    #Fit the model:\n",
        "    model.fit(data[predictors],data[outcome])\n",
        "  \n",
        "    #Make predictions on training set:\n",
        "    predictions = model.predict(data[predictors])\n",
        "  \n",
        "    #Print accuracy\n",
        "    accuracy = metrics.accuracy_score(predictions,data[outcome])\n",
        "    print (\"Accuracy : %s\" % \"{0:.3%}\".format(accuracy))\n",
        "\n",
        "    #Perform k-fold cross-validation with 5 folds\n",
        "    kf = KFold(data.shape[0], n_folds=5)\n",
        "    error = []\n",
        "    for train, test in kf:\n",
        "        # Filter training data\n",
        "        train_predictors = (data[predictors].iloc[train,:])\n",
        "    \n",
        "        # The target we're using to train the algorithm.\n",
        "        train_target = data[outcome].iloc[train]\n",
        "    \n",
        "        # Training the algorithm using the predictors and target.\n",
        "        model.fit(train_predictors, train_target)\n",
        "    \n",
        "        #Record error from each cross-validation run\n",
        "        error.append(model.score(data[predictors].iloc[test,:], data[outcome].iloc[test]))\n",
        " \n",
        "    print (\"Cross-Validation Score : %s\" % \"{0:.3%}\".format(np.mean(error)))\n",
        "\n",
        "    #Fit the model again so that it can be refered outside the function:\n",
        "    model.fit(data[predictors],data[outcome])"
      ]
    },
    {
      "cell_type": "markdown",
      "metadata": {
        "id": "qZew6PDszu2w"
      },
      "source": [
        "# Model Building"
      ]
    },
    {
      "cell_type": "code",
      "execution_count": null,
      "metadata": {
        "id": "u1Q7lCkQzu2w",
        "outputId": "6fb46ef4-e5ba-44d8-9dd6-c90408e68b43"
      },
      "outputs": [
        {
          "data": {
            "text/plain": [
              "ApplicantIncome        0\n",
              "CoapplicantIncome      0\n",
              "Credit_History        29\n",
              "Dependents            10\n",
              "Education              0\n",
              "Gender                11\n",
              "LoanAmount            27\n",
              "LoanAmount_log       389\n",
              "Loan_Amount_Term      20\n",
              "Loan_ID                0\n",
              "Loan_Status          367\n",
              "Married                0\n",
              "Property_Area          0\n",
              "Self_Employed         23\n",
              "TotalIncome          367\n",
              "Type                   0\n",
              "dtype: int64"
            ]
          },
          "execution_count": 23,
          "metadata": {},
          "output_type": "execute_result"
        }
      ],
      "source": [
        "#Combining both train and test dataset\n",
        "\n",
        "#Create a flag for Train and Test Data set\n",
        "df['Type']='Train' \n",
        "test['Type']='Test'\n",
        "fullData = pd.concat([df,test], axis=0)\n",
        "\n",
        "#Look at the available missing values in the dataset\n",
        "fullData.isnull().sum()"
      ]
    },
    {
      "cell_type": "code",
      "execution_count": null,
      "metadata": {
        "id": "qXpgEXIfzu2x"
      },
      "outputs": [],
      "source": [
        "#Identify categorical and continuous variables\n",
        "ID_col = ['Loan_ID']\n",
        "target_col = [\"Loan_Status\"]\n",
        "cat_cols = ['Credit_History','Dependents','Gender','Married','Education','Property_Area','Self_Employed']"
      ]
    },
    {
      "cell_type": "code",
      "execution_count": null,
      "metadata": {
        "id": "qw8NVlfwzu2x"
      },
      "outputs": [],
      "source": [
        "#Imputing Missing values with mean for continuous variable\n",
        "fullData['LoanAmount'].fillna(fullData['LoanAmount'].mean(), inplace=True)\n",
        "fullData['LoanAmount_log'].fillna(fullData['LoanAmount_log'].mean(), inplace=True)\n",
        "fullData['Loan_Amount_Term'].fillna(fullData['Loan_Amount_Term'].mean(), inplace=True)\n",
        "fullData['ApplicantIncome'].fillna(fullData['ApplicantIncome'].mean(), inplace=True)\n",
        "fullData['CoapplicantIncome'].fillna(fullData['CoapplicantIncome'].mean(), inplace=True)\n",
        "\n",
        "#Imputing Missing values with mode for categorical variables\n",
        "fullData['Gender'].fillna(fullData['Gender'].mode()[0], inplace=True)\n",
        "fullData['Married'].fillna(fullData['Married'].mode()[0], inplace=True)\n",
        "fullData['Dependents'].fillna(fullData['Dependents'].mode()[0], inplace=True)\n",
        "fullData['Loan_Amount_Term'].fillna(fullData['Loan_Amount_Term'].mode()[0], inplace=True)\n",
        "fullData['Credit_History'].fillna(fullData['Credit_History'].mode()[0], inplace=True)"
      ]
    },
    {
      "cell_type": "code",
      "execution_count": null,
      "metadata": {
        "id": "INrgNTZezu2x",
        "outputId": "f47d6089-6e99-401e-d04b-d948e84c4691"
      },
      "outputs": [
        {
          "data": {
            "text/plain": [
              "<matplotlib.axes._subplots.AxesSubplot at 0x117f1cd30>"
            ]
          },
          "execution_count": 26,
          "metadata": {},
          "output_type": "execute_result"
        },
        {
          "data": {
            "image/png": "[encoded data removed]",
            "text/plain": [
              "<Figure size 432x288 with 1 Axes>"
            ]
          },
          "metadata": {},
          "output_type": "display_data"
        }
      ],
      "source": [
        "#Create a new column as Total Income\n",
        "\n",
        "fullData['TotalIncome']=fullData['ApplicantIncome'] + fullData['CoapplicantIncome']\n",
        "\n",
        "fullData['TotalIncome_log'] = np.log(fullData['TotalIncome'])\n",
        "\n",
        "#Histogram for Total Income\n",
        "fullData['TotalIncome_log'].hist(bins=20) "
      ]
    },
    {
      "cell_type": "code",
      "execution_count": null,
      "metadata": {
        "id": "5yqhoji1zu2x",
        "outputId": "cbb58499-5299-4551-b2ce-ca0806c06db7"
      },
      "outputs": [
        {
          "name": "stderr",
          "output_type": "stream",
          "text": [
            "/Users/Technocrat/anaconda3/lib/python3.6/site-packages/ipykernel_launcher.py:8: SettingWithCopyWarning: \n",
            "A value is trying to be set on a copy of a slice from a DataFrame.\n",
            "Try using .loc[row_indexer,col_indexer] = value instead\n",
            "\n",
            "See the caveats in the documentation: http://pandas.pydata.org/pandas-docs/stable/indexing.html#indexing-view-versus-copy\n",
            "  \n"
          ]
        }
      ],
      "source": [
        "#create label encoders for categorical features\n",
        "for var in cat_cols:\n",
        "    number = LabelEncoder()\n",
        "    fullData[var] = number.fit_transform(fullData[var].astype('str'))\n",
        "\n",
        "train_modified=fullData[fullData['Type']=='Train']\n",
        "test_modified=fullData[fullData['Type']=='Test']\n",
        "train_modified[\"Loan_Status\"] = number.fit_transform(train_modified[\"Loan_Status\"].astype('str'))"
      ]
    },
    {
      "cell_type": "markdown",
      "metadata": {
        "id": "zh86Qx-vzu2y"
      },
      "source": [
        "## Logistic Regression Model"
      ]
    },
    {
      "cell_type": "markdown",
      "metadata": {
        "id": "1EjqgvIMzu2y"
      },
      "source": [
        "1. The chances of getting a loan will be higher for:\n",
        "\n",
        "    - Applicants having a credit history (we observed this in exploration.)\n",
        "    - Applicants with higher applicant and co-applicant incomes\n",
        "    - Applicants with higher education level\n",
        "    - Properties in urban areas with high growth perspectives\n",
        "\n",
        "So let’s make our model with ‘Credit_History’, 'Education' & 'Gender'"
      ]
    },
    {
      "cell_type": "code",
      "execution_count": null,
      "metadata": {
        "id": "itiG78ynzu2y"
      },
      "outputs": [],
      "source": [
        "from sklearn.linear_model import LogisticRegression\n",
        "\n",
        "\n",
        "predictors_Logistic=['Credit_History','Education','Gender']\n",
        "\n",
        "x_train = train_modified[list(predictors_Logistic)].values\n",
        "y_train = train_modified[\"Loan_Status\"].values\n",
        "\n",
        "x_test=test_modified[list(predictors_Logistic)].values"
      ]
    },
    {
      "cell_type": "code",
      "execution_count": null,
      "metadata": {
        "id": "QZCW4ciRzu2z",
        "outputId": "dd771bc0-5539-440f-fc55-3b7c7cd664a6"
      },
      "outputs": [
        {
          "name": "stdout",
          "output_type": "stream",
          "text": [
            "Accuracy : 80.945%\n",
            "Cross-Validation Score : 80.946%\n"
          ]
        },
        {
          "name": "stderr",
          "output_type": "stream",
          "text": [
            "/Users/Technocrat/anaconda3/lib/python3.6/site-packages/sklearn/preprocessing/label.py:151: DeprecationWarning: The truth value of an empty array is ambiguous. Returning False, but in future this will result in an error. Use `array.size > 0` to check that an array is not empty.\n",
            "  if diff:\n",
            "/Users/Technocrat/anaconda3/lib/python3.6/site-packages/ipykernel_launcher.py:14: SettingWithCopyWarning: \n",
            "A value is trying to be set on a copy of a slice from a DataFrame.\n",
            "Try using .loc[row_indexer,col_indexer] = value instead\n",
            "\n",
            "See the caveats in the documentation: http://pandas.pydata.org/pandas-docs/stable/indexing.html#indexing-view-versus-copy\n",
            "  \n"
          ]
        }
      ],
      "source": [
        "# Create logistic regression object\n",
        "model = LogisticRegression()\n",
        "\n",
        "# Train the model using the training sets\n",
        "model.fit(x_train, y_train)\n",
        "\n",
        "#Predict Output\n",
        "predicted= model.predict(x_test)\n",
        "\n",
        "#Reverse encoding for predicted outcome\n",
        "predicted = number.inverse_transform(predicted)\n",
        "\n",
        "#Store it to test dataset\n",
        "test_modified['Loan_Status']=predicted\n",
        "\n",
        "outcome_var = 'Loan_Status'\n",
        "\n",
        "classification_model(model, df,predictors_Logistic,outcome_var)\n",
        "\n",
        "test_modified.to_csv(\"Logistic_Prediction.csv\",columns=['Loan_ID','Loan_Status'])"
      ]
    },
    {
      "cell_type": "code",
      "execution_count": null,
      "metadata": {
        "id": "zk6kxB5_zu2z"
      },
      "outputs": [],
      "source": []
    }
  ],
  "metadata": {
    "kernelspec": {
      "display_name": "Python 3",
      "language": "python",
      "name": "python3"
    },
    "language_info": {
      "codemirror_mode": {
        "name": "ipython",
        "version": 3
      },
      "file_extension": ".py",
      "mimetype": "text/x-python",
      "name": "python",
      "nbconvert_exporter": "python",
      "pygments_lexer": "ipython3",
      "version": "3.6.8"
    },
    "colab": {
      "provenance": [],
      "include_colab_link": true
    }
  },
  "nbformat": 4,
  "nbformat_minor": 0
}